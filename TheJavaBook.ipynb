{
  "cells": [
    {
      "cell_type": "markdown",
      "metadata": {
        "id": "view-in-github",
        "colab_type": "text"
      },
      "source": [
        "<a href=\"https://colab.research.google.com/github/CynicDog/TheJavaBook/blob/main/TheJavaBook.ipynb\" target=\"_parent\"><img src=\"https://colab.research.google.com/assets/colab-badge.svg\" alt=\"Open In Colab\"/></a>"
      ]
    },
    {
      "cell_type": "markdown",
      "source": [
        "# Environment Configuration"
      ],
      "metadata": {
        "id": "TJOAJvd05csS"
      }
    },
    {
      "cell_type": "code",
      "execution_count": null,
      "metadata": {
        "id": "IrB2Kt3NqXec",
        "colab": {
          "base_uri": "https://localhost:8080/"
        },
        "outputId": "338c5309-b787-44b5-dc15-cba082b5ddb2"
      },
      "outputs": [
        {
          "output_type": "error",
          "ename": "EvalException",
          "evalue": "ignored",
          "traceback": [
            "\u001b[1m\u001b[31m---------------------------------------------------------------------------\u001b[0m",
            "\u001b[1m\u001b[31mio.github.spencerpark.jupyter.kernel.magic.registry.UndefinedMagicException: Undefined cell magic 'sh'\u001b[0m",
            "\u001b[1m\u001b[31m\tat io.github.spencerpark.jupyter.kernel.magic.registry.Magics.applyCellMagic(Magics.java:34)\u001b[0m",
            "\u001b[1m\u001b[31m\tat io.github.spencerpark.ijava.runtime.Magics.cellMagic(Magics.java:31)\u001b[0m",
            "\u001b[1m\u001b[31m\tat .(#42:1)\u001b[0m"
          ]
        }
      ],
      "source": [
        "%%sh\n",
        "# Install java kernel\n",
        "wget -q https://github.com/SpencerPark/IJava/releases/download/v1.3.0/ijava-1.3.0.zip \n",
        "unzip -q ijava-1.3.0.zip \n",
        "python install.py\n",
        "\n",
        "# Install proxy for the java kernel\n",
        "wget -qO- https://gist.github.com/SpencerPark/e2732061ad19c1afa4a33a58cb8f18a9/archive/b6cff2bf09b6832344e576ea1e4731f0fb3df10c.tar.gz | tar xvz --strip-components=1\n",
        "python install_ipc_proxy_kernel.py --kernel=java --implementation=ipc_proxy_kernel.py"
      ]
    },
    {
      "cell_type": "markdown",
      "source": [
        "# Dependencies "
      ],
      "metadata": {
        "id": "ZC9cLEdlBFRv"
      }
    },
    {
      "cell_type": "code",
      "source": [
        "import java.util.*; \n",
        "import java.util.stream.Collectors;"
      ],
      "metadata": {
        "id": "UhxIMVX1BGs9"
      },
      "execution_count": null,
      "outputs": []
    },
    {
      "cell_type": "markdown",
      "source": [
        "# 📔 LeetCode Clean Code Handbook: 50 Common Interview Questions - LeetCode admin"
      ],
      "metadata": {
        "id": "z1BwUoYYoCmq"
      }
    },
    {
      "cell_type": "markdown",
      "source": [
        "## Chapter 1. Array / String "
      ],
      "metadata": {
        "id": "ZEwiPkm-oR3E"
      }
    },
    {
      "cell_type": "markdown",
      "source": [
        "### 🧑🏼‍💻 [Two Sum (L#1)] \n",
        ": Given an array of integers nums and an integer target, return indices of the two numbers such that they add up to target.\n",
        "___________________  "
      ],
      "metadata": {
        "id": "8Q9C_cy8oXo3"
      }
    },
    {
      "cell_type": "code",
      "source": [
        "class Solution {\n",
        "    public int[] twoSum(int[] numbers, int target) { \n",
        "\n",
        "        Map<Integer, Integer> map = new HashMap<>(); \n",
        "\n",
        "        for (int i = 0; i < numbers.length; i++) { \n",
        "            int cur = numbers[i]; \n",
        "            if (map.containsKey(target - cur)) { \n",
        "                return new int[] { map.get(target - cur), i}; \n",
        "            }\n",
        "            map.put(cur, i); // (key: cur , value: i)\n",
        "        }\n",
        "        throw new IllegalArgumentException(\"No two sum solution\"); \n",
        "    }\n",
        "}\n"
      ],
      "metadata": {
        "id": "z-Dtu2wMoP7y"
      },
      "execution_count": null,
      "outputs": []
    },
    {
      "cell_type": "markdown",
      "source": [
        "### 🧑🏼‍💻 [Two Sum 2 - Input is Sorted (L#167)] \n",
        ": Given a 1-indexed array of integers numbers that is already sorted in non-decreasing order, find two numbers such that they add up to a specific target number.\n",
        "___________________"
      ],
      "metadata": {
        "id": "rv3veGYWobjN"
      }
    },
    {
      "cell_type": "code",
      "source": [
        "class Solution {\n",
        "    public int[] twoSum(int[] numbers, int target) {\n",
        "        for (int i = 0; i < numbers.length; i++) { \n",
        "            int j = binary_search(numbers, target - numbers[i], i + 1); \n",
        "\n",
        "            if (j != -1) { return new int[] { i + 1, j + 1 }; }\n",
        "        } throw new IllegalArgumentException(\"No solution\"); \n",
        "    }\n",
        "\n",
        "    private int binary_search(int[] arg, int complement, int start) { \n",
        "        int left = start, right = arg.length - 1; \n",
        "\n",
        "        while (left < right) { \n",
        "            int mid = (left + right) / 2; \n",
        "\n",
        "            if (arg[mid] < complement) { \n",
        "                left = mid + 1; \n",
        "            } else { \n",
        "                right = mid; \n",
        "            }\n",
        "        }\n",
        "\n",
        "        return (left == right && arg[left] == complement) ? left : -1; \n",
        "    }\n",
        "}"
      ],
      "metadata": {
        "id": "JIUiW2r0ofnK"
      },
      "execution_count": null,
      "outputs": []
    },
    {
      "cell_type": "markdown",
      "source": [
        "### 🧑🏼‍💻 [Two Sum 2 - Input is Sorted (L#167)] - two pointers \n",
        "  ___________________"
      ],
      "metadata": {
        "id": "dsli4mxjokE8"
      }
    },
    {
      "cell_type": "code",
      "source": [
        "class Solution {\n",
        "    public int[] twoSum(int[] numbers, int target) {\n",
        "        int left = 0, right = numbers.length - 1; \n",
        "\n",
        "        while (left < right) { \n",
        "            int sum = numbers[left] + numbers[right]; \n",
        "\n",
        "            if (sum < target) { \n",
        "                left += 1; \n",
        "            } else if (sum > target) { \n",
        "                right -= 1; \n",
        "            } else { return new int[] { left + 1, right + 1 }; }\n",
        "        } \n",
        "        throw new IllegalArgumentException(\"no solution\");\n",
        "    }\n",
        "}"
      ],
      "metadata": {
        "id": "H2CH6ByLoiUb"
      },
      "execution_count": null,
      "outputs": []
    },
    {
      "cell_type": "markdown",
      "source": [
        "### 🧑🏼‍💻 [Valid Palindrome (L#125)] - two pointers \n",
        ": Given a string s, return true if it is a palindrome, or false otherwise.\n",
        "___________________"
      ],
      "metadata": {
        "id": "-7FJSMKaon1v"
      }
    },
    {
      "cell_type": "code",
      "source": [
        "class Solution {\n",
        "    public boolean isPalindrome(String s) {\n",
        "        int i = 0, j = s.length() - 1; \n",
        "\n",
        "        while (i < j) { \n",
        "            while (i < j && !Character.isLetterOrDigit(s.charAt(i))) i++; \n",
        "            while (i < j && !Character.isLetterOrDigit(s.charAt(j))) j--; \n",
        "\n",
        "            if (Character.toLowerCase(s.charAt(i)) != Character.toLowerCase(s.charAt(j))) {\n",
        "                return false; \n",
        "            }\n",
        "            i++; j--; \n",
        "        } \n",
        "    return true; \n",
        "    }\n",
        "}"
      ],
      "metadata": {
        "id": "YbJqxRPBooOy"
      },
      "execution_count": null,
      "outputs": []
    },
    {
      "cell_type": "markdown",
      "source": [
        "### 🧑🏼‍💻 [Find the Index of the First Occurence in a String (L#28)] \n",
        ": Given two strings needle and haystack, return the index of the first occurrence of needle in haystack, or -1 if needle is not part of haystack.\n",
        "___________________  "
      ],
      "metadata": {
        "id": "uLlZnGXyotym"
      }
    },
    {
      "cell_type": "code",
      "source": [
        "class Solution {\n",
        "    public int strStr(String haystack, String needle) {\n",
        "        for (int i = 0; ; i++) { \n",
        "            for (int j = 0; ; j++) { \n",
        "                if (j == needle.length()) { return i; }\n",
        "                if (i + j == haystack.length()) { return -1; }\n",
        "                if (needle.charAt(j) != haystack.charAt(i + j)) { break; }\n",
        "            }\n",
        "        }\n",
        "    }\n",
        "}"
      ],
      "metadata": {
        "id": "b4AFOPtJoxGd"
      },
      "execution_count": null,
      "outputs": []
    },
    {
      "cell_type": "markdown",
      "source": [
        "### 🧑🏼‍💻 [Reverse Words in a String (L#151)] \n",
        ": Return a string of the words in reverse order concatenated by a single space.\n",
        "___________________  "
      ],
      "metadata": {
        "id": "wr7nW92EoyKH"
      }
    },
    {
      "cell_type": "code",
      "source": [
        "class Solution { \n",
        "    public String reverseWords(String s) { \n",
        "        StringBuilder reversed = new StringBuilder(); \n",
        "        \n",
        "        int j = s.length(); \n",
        "        \n",
        "        for (int i = s.length() - 1; i >= 0; i--) { \n",
        "            if (s.charAt(i) == ' ') { \n",
        "                j = i; \n",
        "            } else if (i == 0 || s.charAt(i - 1) == ' ') { \n",
        "                if (reversed.length() != 0) { reversed.append(' '); } \n",
        "\n",
        "                reversed.append(s.substring(i, j)); \n",
        "            } \n",
        "        }\n",
        "        \n",
        "        return reversed.toString(); \n",
        "    }\n",
        "} "
      ],
      "metadata": {
        "id": "btqalfrxoy4W"
      },
      "execution_count": null,
      "outputs": []
    },
    {
      "cell_type": "markdown",
      "source": [
        "### 🧑🏼‍💻 [String to Integer(atoi) (L#8)] \n",
        ": Convert digits into an integer (i.e. \"123\" -> 123, \"0032\" -> 32). If no digits were read, then the integer is 0. Change the sign as necessary (from step 2).\n",
        "___________________  "
      ],
      "metadata": {
        "id": "FwNEoKYso1rk"
      }
    },
    {
      "cell_type": "code",
      "source": [
        "class Solution { \n",
        "    private static final int maxDiv10 = Integer.MAX_VALUE / 10; \n",
        "    \n",
        "    public int myAtoi(String s) { \n",
        "        \n",
        "        int i = 0, n = s.length(); \n",
        "        \n",
        "        while (i < n && Character.isWhitespace(s.charAt(i))) i++; \n",
        "        \n",
        "        int sign = 1; \n",
        "        \n",
        "        if (i < n && s.charAt(i) == '+') { i++; }\n",
        "        else if (i < n && s.charAt(i) == '-') { sign = -1; i++; }\n",
        "        \n",
        "        int num = 0; \n",
        "        while (i < n && Character.isDigit(s.charAt(i))) { \n",
        "            int digit = Character.getNumericValue(s.charAt(i)); \n",
        "            \n",
        "            if (num > maxDiv10 || num == maxDiv10 && digit >= 8) { \n",
        "                return sign == 1 ? Integer.MAX_VALUE : Integer.MIN_VALUE; \n",
        "            }\n",
        "            \n",
        "            num = num * 10 + digit; \n",
        "            i++; \n",
        "        }\n",
        "        \n",
        "        return sign * num; \n",
        "    }\n",
        "}"
      ],
      "metadata": {
        "id": "m0gsw4F6o2ig"
      },
      "execution_count": null,
      "outputs": []
    },
    {
      "cell_type": "markdown",
      "source": [
        "### 🧑🏼‍💻 [Valid Number (L#65)] \n",
        ": Given a string s, return true if s is a valid number.\n",
        "___________________  "
      ],
      "metadata": {
        "id": "h4n09i56o6hq"
      }
    },
    {
      "cell_type": "code",
      "source": [
        "class Solution {\n",
        "    public boolean isNumber(String s) {\n",
        "        \n",
        "        int i = 0, n = s.length(); \n",
        "\n",
        "        while (i < n && Character.isWhitespace(s.charAt(i))) i++; \n",
        "\n",
        "        if (i < n && (s.charAt(i) == '+' || s.charAt(i) == '-')) i++; \n",
        "\n",
        "        boolean isNumeric = false; \n",
        "\n",
        "        while (i < n && Character.isDigit(s.charAt(i))) { \n",
        "            i++; \n",
        "            isNumeric = true; \n",
        "        }\n",
        "\n",
        "        if (i < n && s.charAt(i) == '.') { \n",
        "            i++;\n",
        "\n",
        "            while (i < n && Character.isDigit(s.charAt(i))) { \n",
        "                i++; \n",
        "                isNumeric = true; \n",
        "            }\n",
        "        }\n",
        "\n",
        "        if (isNumeric && i < n && Character.toLowerCase(s.charAt(i)) == 'e') { \n",
        "            i++;\n",
        "            isNumeric = false; \n",
        "\n",
        "            if (i < n && (s.charAt(i) == '+' || s.charAt(i) == '-')) i++; \n",
        "\n",
        "            while (i < n && Character.isDigit(s.charAt(i))) { \n",
        "                i++; \n",
        "                isNumeric = true;\n",
        "            }\n",
        "        }\n",
        "\n",
        "        while (i < n && Character.isWhitespace(s.charAt(i))) i++; \n",
        "\n",
        "        return isNumeric && i == n; \n",
        "    }\n",
        "}"
      ],
      "metadata": {
        "id": "NRqFTEUdo81d"
      },
      "execution_count": null,
      "outputs": []
    },
    {
      "cell_type": "markdown",
      "source": [
        "### 🧑🏼‍💻 [Longest Substring Without Repeating Characters (L#3)] \n",
        ": Given a string s, find the length of the longest substring without repeating characters.\n",
        "___________________  "
      ],
      "metadata": {
        "id": "AFWQIxn0pB9_"
      }
    },
    {
      "cell_type": "code",
      "source": [
        "class Solution {\n",
        "    public int lengthOfLongestSubstring(String s) {\n",
        "        \n",
        "        int[] charMap = new int[256]; \n",
        "        Arrays.fill(charMap, -1); \n",
        "\n",
        "        int i = 0, max_length = 0; \n",
        "        for (int j = 0; j < s.length(); j++) { \n",
        "            if (i <= charMap[s.charAt(j)]) { i = charMap[s.charAt(j)] + 1; } \n",
        "            else { max_length = Math.max(max_length, j - i + 1); }\n",
        "\n",
        "            charMap[s.charAt(j)] = j; \n",
        "        }\n",
        "\n",
        "        return max_length; \n",
        "    }\n",
        "}"
      ],
      "metadata": {
        "id": "7XZXQW54pDr_"
      },
      "execution_count": null,
      "outputs": []
    },
    {
      "cell_type": "markdown",
      "source": [
        "### 🧑🏼‍💻 [Longest Substring with At Most Two Distinct Characters (L#159)] \n",
        ": Given a string S, find the length of the longest substring T that contains at most two distinct characters. \n",
        "___________________  "
      ],
      "metadata": {
        "id": "EMxYhP52pFO-"
      }
    },
    {
      "cell_type": "code",
      "source": [
        "class Solution { \n",
        "    public int lengthOfLongestSubstringTwoDistinct(String s) { \n",
        "        \n",
        "        int[] count = new int[256];\n",
        "        int i = 0, maxLength = 0, numDistinct = 0; \n",
        "\n",
        "        for (int j = 0; j < s.length(); j++) { \n",
        "            if (count[s.charAt(j)] == 0) { numDistinct++; }\n",
        "            count[s.charAt(j)]++; \n",
        "\n",
        "            while (numDistinct > 2) { \n",
        "                count[s.charAt(i)]--; \n",
        "                if (count[s.charAt(i)] == 0) { numDistinct--; }\n",
        "                i++; \n",
        "            }\n",
        "\n",
        "            maxLength = Math.max(maxLength, j - i + 1); \n",
        "        }\n",
        "\n",
        "        return maxLength; \n",
        "    }\n",
        "}"
      ],
      "metadata": {
        "id": "JZmkToaepH6M"
      },
      "execution_count": null,
      "outputs": []
    },
    {
      "cell_type": "code",
      "source": [
        "Solution solution = new Solution(); \n",
        "solution.lengthOfLongestSubstringTwoDistinct(\"eceba\");  "
      ],
      "metadata": {
        "colab": {
          "base_uri": "https://localhost:8080/"
        },
        "id": "rijPSuoDpNQR",
        "outputId": "ad832e06-d10d-419d-d203-9af1acf3391c"
      },
      "execution_count": null,
      "outputs": [
        {
          "output_type": "execute_result",
          "data": {
            "text/plain": [
              "3"
            ]
          },
          "metadata": {},
          "execution_count": 22
        }
      ]
    },
    {
      "cell_type": "markdown",
      "source": [
        "### 🧑🏼‍💻 [MIssing Range (L#163)] \n",
        ": Given a sorted integer array where the range of elements are [0, 99] inclusive, return its missing ranges. \n",
        "For example, given [0, 1, 3, 50, 75], return [“2”, “4->49”, “51->74”, “76->99”] \n",
        "___________________  "
      ],
      "metadata": {
        "id": "ZpvPezeUpR60"
      }
    },
    {
      "cell_type": "code",
      "source": [
        "class Solution { \n",
        "\n",
        "    public List<String> findMissingRanges(int[] vals, int start, int end) { \n",
        "        \n",
        "        List<String> ranges = new ArrayList<>(); \n",
        "\n",
        "        int prev = start - 1; \n",
        "\n",
        "        for (int i = 0; i <= vals.length; i++) { \n",
        "            int cur = (i == vals.length) ? end + 1: vals[i]; \n",
        "            \n",
        "            if (cur - prev >= 2) { \n",
        "                ranges.add(getRanges(prev + 1, cur - 1)); \n",
        "            }\n",
        "\n",
        "            prev = cur; \n",
        "        }\n",
        "        \n",
        "        return ranges; \n",
        "    }\n",
        "\n",
        "    private String getRanges(int from, int to) { \n",
        "        return (from == to) ? String.valueOf(from) : from + \"->\" + to; \n",
        "    }\n",
        "}"
      ],
      "metadata": {
        "id": "gEUpGeNnpTnl"
      },
      "execution_count": null,
      "outputs": []
    },
    {
      "cell_type": "code",
      "source": [
        "Solution solution = new Solution(); \n",
        "solution.findMissingRanges(new int[] {0, 1, 3, 50, 75}, 0, 99); "
      ],
      "metadata": {
        "colab": {
          "base_uri": "https://localhost:8080/"
        },
        "id": "iXmhGv88pW3e",
        "outputId": "b8d39163-c851-4e70-afbd-6b3455f79436"
      },
      "execution_count": null,
      "outputs": [
        {
          "output_type": "execute_result",
          "data": {
            "text/plain": [
              "[2, 4->49, 51->74, 76->99]"
            ]
          },
          "metadata": {},
          "execution_count": 24
        }
      ]
    },
    {
      "cell_type": "markdown",
      "source": [
        "### 🧑🏼‍💻 [Longest Palindromic Substring (L#5)] \n",
        ": Given a string s, return the longest \n",
        "palindromic substring in s.\n",
        "___________________  "
      ],
      "metadata": {
        "id": "-StOGOKspc19"
      }
    },
    {
      "cell_type": "code",
      "source": [
        "class Solution {\n",
        "    public String longestPalindrome(String s) {\n",
        "    \n",
        "    int start = 0, end = 0;\n",
        "\n",
        "    for (int i = 0; i < s.length(); i++) {\n",
        "\n",
        "            int lenEven = expand(s, i, i);\n",
        "            int lenOdd = expand(s, i, i + 1);\n",
        "\n",
        "            int lenMax = Math.max(lenEven, lenOdd);\n",
        "\n",
        "            if (lenMax > end - start) {\n",
        "                start = i - (lenMax - 1) / 2;\n",
        "                end = i + lenMax / 2;\n",
        "            }\n",
        "        }\n",
        "        return s.substring(start, end + 1);\n",
        "    }\n",
        "\n",
        "    private int expand(String s, int left, int right) {\n",
        "        int L = left, R = right;\n",
        "    \n",
        "        while (L >= 0 && R < s.length() && s.charAt(L) == s.charAt(R)) {\n",
        "            L--;\n",
        "            R++; \n",
        "    }\n",
        "    return R - L - 1;\n",
        "    }\n",
        "}"
      ],
      "metadata": {
        "id": "nTyind6zpfKh"
      },
      "execution_count": null,
      "outputs": []
    },
    {
      "cell_type": "code",
      "source": [
        "Solution solution = new Solution();\n",
        "solution.longestPalindrome(\"abasljqadnn121nndsd\")"
      ],
      "metadata": {
        "colab": {
          "base_uri": "https://localhost:8080/"
        },
        "id": "ZpvYMr7hpjMG",
        "outputId": "231fb981-532b-410e-8d7a-e8ee30225b86"
      },
      "execution_count": null,
      "outputs": [
        {
          "output_type": "execute_result",
          "data": {
            "text/plain": [
              "dnn121nnd"
            ]
          },
          "metadata": {},
          "execution_count": 26
        }
      ]
    },
    {
      "cell_type": "markdown",
      "source": [
        "### 🧑🏼‍💻 [One Edit Distance(L#161)] \n",
        ": Given two strings S and T, determine if they are both one edit distance apart.\n",
        "\n",
        "Assume X represents the one-edit character. There are three one-edit distance operations that could be applied to S.\n",
        "\n",
        "* i. Modify operation – Modify a character to X in S.\n",
        "    * S = “abcde”, T = “abXde”\n",
        "\n",
        "* ii. Insert operation – X was inserted before a character in S. \n",
        "    * S = “abcde”, T = “abcXde”\n",
        "\n",
        "* iii. Append operation – X was appended at the end of S.\n",
        "    * S = “abcde”, T = “abcdeX”"
      ],
      "metadata": {
        "id": "CBDvAxEKNd7W"
      }
    },
    {
      "cell_type": "code",
      "source": [
        "class Solution { \n",
        "    public boolean isOneEditDistance(String S, String T) { \n",
        "\n",
        "        int m = S.length(), n = T.length(); \n",
        "\n",
        "        if (m > n) { return isOneEditDistance(T, S); }\n",
        "\n",
        "        if (n - m > 1) { return false; }\n",
        "\n",
        "        int i = 0;\n",
        "        while(i < m && S.charAt(i) == T.charAt(i)) { i++; }\n",
        "\n",
        "        int permit = n - m; \n",
        "        \n",
        "        // catch append operation \n",
        "        if (i == m) { return permit > 0; }  \n",
        "\n",
        "        // catch modify operation \n",
        "        if (permit == 0) i++;   \n",
        "\n",
        "        // catch insert operation  \n",
        "        while (i < m && S.charAt(i) == T.charAt(i + permit)) { i++; }   \n",
        "\n",
        "        return i == m; \n",
        "    }\n",
        "}"
      ],
      "metadata": {
        "id": "kAj1SxKpOoS7"
      },
      "execution_count": null,
      "outputs": []
    },
    {
      "cell_type": "code",
      "source": [
        "Solution solution = new Solution();\n",
        "\n",
        "System.out.println(solution.isOneEditDistance(\"abcde\", \"abXde\"));       // modify operation \n",
        "System.out.println(solution.isOneEditDistance(\"abcde\", \"abcdeX\"));      // insert operation \n",
        "System.out.println(solution.isOneEditDistance(\"abcde\", \"abcXde\"));      // append operation \n",
        "\n",
        "System.out.println(solution.isOneEditDistance(\"abcde\", \"abcde\"));\n",
        "System.out.println(solution.isOneEditDistance(\"aaade\", \"abcde\"));"
      ],
      "metadata": {
        "colab": {
          "base_uri": "https://localhost:8080/"
        },
        "id": "X4jegt7bQnqt",
        "outputId": "6f116e6c-14de-4574-e139-f49c2c9b3d50"
      },
      "execution_count": null,
      "outputs": [
        {
          "output_type": "stream",
          "name": "stdout",
          "text": [
            "true\n",
            "true\n",
            "true\n",
            "false\n",
            "false\n"
          ]
        }
      ]
    },
    {
      "cell_type": "markdown",
      "source": [
        "## Chapter 2. Math "
      ],
      "metadata": {
        "id": "r3GrQZAdXK4I"
      }
    },
    {
      "cell_type": "markdown",
      "source": [
        "### 🧑🏼‍💻 [Reverse Integer (L#7)]\n",
        ": Given a signed 32-bit integer `x`, return `x` with *its digits reversed*. If reversing `x` causes the value to go outside the signed 32-bit integer range `[-2^31, 2^31 - 1]`, then return `0`."
      ],
      "metadata": {
        "id": "DB5J9rcgXOAK"
      }
    },
    {
      "cell_type": "code",
      "source": [
        "class Solution { \n",
        "\n",
        "    public int reverse(int x) { \n",
        "\n",
        "        int reversed = 0; \n",
        "\n",
        "        while (x != 0) { \n",
        "\n",
        "            if (Math.abs(reversed) > 214748364) { return 0; }\n",
        "\n",
        "            reversed = reversed * 10 + x % 10; \n",
        "            x /= 10; \n",
        "        }\n",
        "\n",
        "        return reversed;\n",
        "    }\n",
        "}"
      ],
      "metadata": {
        "id": "bZLSnaE2XNoP"
      },
      "execution_count": null,
      "outputs": []
    },
    {
      "cell_type": "code",
      "source": [
        "Solution solution = new Solution();\n",
        "\n",
        "System.out.println(solution.reverse(123));\n",
        "System.out.println(solution.reverse(-321));\n",
        "\n",
        "System.out.println(solution.reverse((int)Math.pow(2, 32)));"
      ],
      "metadata": {
        "colab": {
          "base_uri": "https://localhost:8080/"
        },
        "id": "EHPWP4Kqdjn1",
        "outputId": "487ac233-df8d-4295-a4dd-3b51c4f171d9"
      },
      "execution_count": null,
      "outputs": [
        {
          "output_type": "stream",
          "name": "stdout",
          "text": [
            "321\n",
            "-123\n",
            "0\n"
          ]
        }
      ]
    },
    {
      "cell_type": "markdown",
      "source": [
        "### 🧑🏼‍💻 [Plus One (L#66)]\n",
        ": Given a number represented as an array of digits, plus one to the number."
      ],
      "metadata": {
        "id": "imlSU8DCEyD_"
      }
    },
    {
      "cell_type": "code",
      "source": [
        "class Solution {\n",
        "    public int[] plusOne(int[] digits) {\n",
        "\n",
        "        for (int i = digits.length - 1; i >= 0; i--) {\n",
        "\n",
        "            if (digits[i] <= 8) { digits[i] += 1; return digits; } \n",
        "            else { digits[i] = 0;}\n",
        "        }\n",
        "\n",
        "        int[] result = new int[digits.length + 1];\n",
        "        result[0] = 1;\n",
        "\n",
        "        return result;\n",
        "        \n",
        "    }\n",
        "}"
      ],
      "metadata": {
        "id": "el1jxrYJX_kl"
      },
      "execution_count": null,
      "outputs": []
    },
    {
      "cell_type": "code",
      "source": [
        "Solution solution = new Solution();\n",
        "\n",
        "int[] output = solution.plusOne(new int[] {2,4,9,3,9});\n",
        "for (int i = 0; i < output.length; i++) { System.out.print(output[i]); }\n",
        "\n",
        "System.out.println();\n",
        "\n",
        "int[] output = solution.plusOne(new int[] {9,8,9});\n",
        "for (int i = 0; i < output.length; i++) { System.out.print(output[i]); }\n",
        "\n",
        "System.out.println();\n",
        "\n",
        "int[] output = solution.plusOne(new int[] {9,9});\n",
        "for (int i = 0; i < output.length; i++) { System.out.print(output[i]); }"
      ],
      "metadata": {
        "colab": {
          "base_uri": "https://localhost:8080/"
        },
        "id": "JuYs6rNAJxzb",
        "outputId": "e85501b7-e132-4d27-d5a0-e5282c6e237a"
      },
      "execution_count": null,
      "outputs": [
        {
          "output_type": "stream",
          "name": "stdout",
          "text": [
            "24940\n",
            "990\n",
            "100"
          ]
        }
      ]
    },
    {
      "cell_type": "markdown",
      "source": [
        "### 🧑🏼‍💻 [Palindrome Number (L#19)]\n",
        ": Determine whether an integer is a palindrome, without extra space"
      ],
      "metadata": {
        "id": "ETJFP0so2mmy"
      }
    },
    {
      "cell_type": "code",
      "source": [
        "class Solution { \n",
        "\n",
        "    public boolean isPalindrome(int x) { \n",
        "\n",
        "        if (x < 0) { return false; }\n",
        "\n",
        "        int div = 1; \n",
        "\n",
        "        while (x / div >= 10) { div *= 10; }\n",
        "\n",
        "        while (x != 0) { \n",
        "            int left = x / div; \n",
        "            int right = x % 10; \n",
        "\n",
        "            if (left != right) { return false; } \n",
        "\n",
        "            x = (x % div) / 10; \n",
        "            div /= 100; \n",
        "        }\n",
        "\n",
        "        return true; \n",
        "    }\n",
        "}"
      ],
      "metadata": {
        "id": "_8sdtSog2usx"
      },
      "execution_count": null,
      "outputs": []
    },
    {
      "cell_type": "code",
      "source": [
        "Solution solution = new Solution(); \n",
        "\n",
        "System.out.println(solution.isPalindrome(123) == false); \n",
        "System.out.println(solution.isPalindrome(12321) == true); "
      ],
      "metadata": {
        "colab": {
          "base_uri": "https://localhost:8080/"
        },
        "id": "j-eLIMtW7Qke",
        "outputId": "6fe614e7-8900-4ff8-da30-34dada950a82"
      },
      "execution_count": null,
      "outputs": [
        {
          "output_type": "stream",
          "name": "stdout",
          "text": [
            "true\n",
            "true\n"
          ]
        }
      ]
    },
    {
      "cell_type": "markdown",
      "metadata": {
        "id": "4w_pPOCY53nu"
      },
      "source": [
        "# 📔 The Java™ Tutorials - ORACLE Java Documentation "
      ]
    },
    {
      "cell_type": "markdown",
      "metadata": {
        "id": "ocuYDaL653nx"
      },
      "source": [
        "## 🧑🏼‍💻 Generics\n",
        "\n",
        "https://docs.oracle.com/javase/tutorial/java/generics/index.html"
      ]
    },
    {
      "cell_type": "markdown",
      "source": [
        " In any nontrivial software project, bugs are simply a fact of life. Careful planning, programming, and testing can help reduce their pervasiveness, but somehow, somewhere, they'll always find a way to creep into your code. This becomes especially apparent as new features are introduced and your code base grows in size and complexity.\n",
        "\n",
        " Fortunately, some bugs are easier to detect than others. **Compile-time bugs, for example, can be detected early on**; you can use the compiler's error messages to figure out what the problem is and fix it, right then and there. **Runtime bugs**, however, can be much more problematic; they don't always surface immediately, and when they do, it may be at a point in the program that is far removed from the actual cause of the problem. \n",
        "\n",
        " Generics add stability to your code by making more of your bugs detectable at compile time."
      ],
      "metadata": {
        "id": "juENJ5Rt6PO6"
      }
    },
    {
      "cell_type": "markdown",
      "source": [
        "### 🧑🏼‍💻 Why Use Generics?"
      ],
      "metadata": {
        "id": "yVVrERrQ6SoB"
      }
    },
    {
      "cell_type": "markdown",
      "metadata": {
        "id": "moDTs8FC53ny"
      },
      "source": [
        " In a nutshell, generics enable types (classes and interfaces) to be parameters when defining classes, interfaces and methods. Much like the more familiar formal parameters used in method declarations, type parameters provide a way for you to re-use the same code with different inputs. The difference is that the inputs to formal parameters are values, while the inputs to type parameters are types."
      ]
    },
    {
      "cell_type": "markdown",
      "source": [
        "#### 👨🏻‍💻 **Stronger type checks at compile time**\n",
        ": A Java compiler applies strong type checking to generic code and issues errors if the code violates type safety. Fixing compile-time errors is easier than fixing runtime errors, which can be difficult to find."
      ],
      "metadata": {
        "id": "yTHbywpTZcww"
      }
    },
    {
      "cell_type": "markdown",
      "source": [
        "#### 👨🏻‍💻 **Elimination of casts**\n",
        ": The following code snippet without generics requires casting:"
      ],
      "metadata": {
        "id": "5O-JbOc3Zhhj"
      }
    },
    {
      "cell_type": "code",
      "source": [
        "List list = new ArrayList();\n",
        "list.add(\"hello\");\n",
        "String s = (String) list.get(0);"
      ],
      "metadata": {
        "id": "ariSrwq_Zpmd"
      },
      "execution_count": null,
      "outputs": []
    },
    {
      "cell_type": "markdown",
      "source": [
        " When re-written to use generics, the code does not require casting: "
      ],
      "metadata": {
        "id": "utPo5I3ZZttF"
      }
    },
    {
      "cell_type": "code",
      "source": [
        "List<String> list = new ArrayList<String>();\n",
        "list.add(\"hello\");\n",
        "String s = list.get(0);   // no cast"
      ],
      "metadata": {
        "id": "3akUVx_UZu41"
      },
      "execution_count": null,
      "outputs": []
    },
    {
      "cell_type": "markdown",
      "source": [
        "#### 👨🏻‍💻 **Enabling programmers to implement generic algorithms**\n",
        ": By using generics, programmers can implement generic algorithms that work on collections of different types, can be customized, and are type safe and easier to read."
      ],
      "metadata": {
        "id": "nz3RpmkVZmsi"
      }
    },
    {
      "cell_type": "markdown",
      "source": [
        "### 🧑🏼‍💻 Generic Types \n",
        "\n",
        "**A *generic types* is a generic class or interface that is parameterized over tpyes.** "
      ],
      "metadata": {
        "id": "hi_Gv0Ys6Wcf"
      }
    },
    {
      "cell_type": "markdown",
      "metadata": {
        "id": "oUx_6c8953ny"
      },
      "source": [
        "The following `box` class will be modified to demonstrate the concept.\n",
        "\n",
        "#### A Simple Box Class \n",
        "\n",
        " Begin by examining a non-generic Box class that operates on objects of any type. It needs only to provide two methods: `set`, which adds an object to the box, and get, which retrieves it.\n",
        "\n",
        "  Since its methods accpet or return an `Object`, you are free to pass in whatever you want, provided that it is not one of the primitive types. **There is no way to verify, at compile time, how the class is used.** One of the code may place an `Integer` in the box and expect to get `Integer`s out of it, while another part of the code may mistakenly pass in a `String`, resulting in a runtime error. "
      ]
    },
    {
      "cell_type": "code",
      "source": [
        "public class Box { \n",
        "    private Object object; \n",
        "    \n",
        "    public void set(Object object) { this.object = object; } \n",
        "    public Object get() { return object; } \n",
        "}"
      ],
      "metadata": {
        "id": "jHEqBELraDr4"
      },
      "execution_count": null,
      "outputs": []
    },
    {
      "cell_type": "markdown",
      "source": [
        "#### A Generic Version of the Box Class \n",
        " \n",
        " A *generic* class is defined with the following format: \n",
        " \n",
        "     class name<T1, T2, ..., Tn> { /* ... */ }\n",
        "     \n",
        " The **type parameter section**, delimited by angle brackets, follows the class name. It specifies the *type parameters* T1, T2, ..., Tn. \n",
        " \n",
        " To update the `Box` class to use generics, you create a generic type declaration by changing the code `public class Box` to `public class Box<T>`. This introduces the type variable, `T`, that cna be used anywhere inside the class. \n",
        " \n",
        " With this change, the box class becomes as follows.  As you can see, all occurrences of `Object` are replaced by `T`. A type variable can be any `non-primitive` type you specify: **any class type, any interface type, any array type, or even another type variable.**\n",
        " \n",
        " This same technique can be applied to create generic interfaces. "
      ],
      "metadata": {
        "id": "QCUV8N81aK9J"
      }
    },
    {
      "cell_type": "code",
      "source": [
        "public class Box<T> { \n",
        "    private T t; \n",
        "\n",
        "    public void set(T t) {this.t = t; } \n",
        "    public T get() { return t; } \n",
        "}"
      ],
      "metadata": {
        "id": "PmwHxfsYaSTW"
      },
      "execution_count": null,
      "outputs": []
    },
    {
      "cell_type": "markdown",
      "source": [
        "#### Type Parameter Naming Conventions \n",
        "\n",
        " By convention, type parameter names are **single, uppercase letters.** This stands in sharp contrast to the variable naing conventions. \n",
        " \n",
        " The most commonly used type parameter names are: \n",
        " \n",
        " - E - Element (used extensively by Java Collections Framework) \n",
        " - K - Key \n",
        " - N - Number \n",
        " - T - Type \n",
        " - V - Value \n",
        " - S, U, V etc. - 2nd, 3rd, 4th types "
      ],
      "metadata": {
        "id": "a3JBzmSi6bvy"
      }
    },
    {
      "cell_type": "markdown",
      "source": [
        "#### Invoking and Instantiating a Generic Type \n",
        " To reference the generic `Box` class, you must perform a *generic type invocation*, which replaces `T` with some concrete value, such as `Integer`: \n",
        "\n",
        "    Box<Integer> integerBox; \n",
        "\n",
        "##### Type Parameter and Type Argument Terminology \n",
        " When coding, **one provides type arguments in order to create a parameterized type.** Therefore, the `T` in `Foo<T>` is a ***type parameter*** and the `String` in `Foo<String>` is a ***type argument***.\n",
        " \n",
        " To instantiate this class, use the new keyword, as usual, but place `Integer` between the class name and the parenthesis: \n",
        " \n",
        "    Box<Integer> integerBox = new Box<Integer>(); "
      ],
      "metadata": {
        "id": "wUQD_szRak_L"
      }
    },
    {
      "cell_type": "markdown",
      "source": [
        "#### The Diamond \n",
        " In Java SE 7 and later, you can replace the type arguments required to invoke the constructor of a generic class **with an empty set of type arguments(<>)** as long as the compiler can determine, or infer, the type arguments from the context. This pair of empty angle brakcets is informally called *the diamond*. \n",
        "    \n",
        "    Box<Integer> integerBox = new Box<>(); "
      ],
      "metadata": {
        "id": "EvpYv-tnaqfL"
      }
    },
    {
      "cell_type": "markdown",
      "source": [
        "#### Multiple Type Parameters \n",
        " As mentioned previously, a generic class can have multiple type parameters. "
      ],
      "metadata": {
        "id": "Np-DOiE6athO"
      }
    },
    {
      "cell_type": "code",
      "source": [
        "public interface Pair<K, V> { \n",
        "    public K getKey(); \n",
        "    public V getValue(); \n",
        "}\n",
        "\n",
        "class OrderedPair<K, V> implements Pair<K, V> { \n",
        "\n",
        "    private K key; \n",
        "    private V value; \n",
        "\n",
        "    public OrderedPair(K key, V value) {\n",
        "        this.key = key; \n",
        "        this.value = value; \n",
        "    } \n",
        "\n",
        "    public K getKey() { return key; } \n",
        "    public V getValue() { return value; } \n",
        "}\n",
        "\n",
        "OrderedPair<String, Integer> p1 = new OrderedPair<>(\"Java\", 8);\n",
        "OrderedPair<String, String> p2 = new OrderedPair<>(\"Hello\", \" World!\");"
      ],
      "metadata": {
        "id": "BDpEM72Xav6i"
      },
      "execution_count": null,
      "outputs": []
    },
    {
      "cell_type": "markdown",
      "source": [
        "#### Parameterized Types \n",
        " You can also substitute a **type parameter** with a **parameterized type**. For example: \n",
        " \n",
        "    OrderedPair<String, Box<Integer>> p = new OrderedPair(\"Primes\", new Box<Integer>(...)); "
      ],
      "metadata": {
        "id": "HP53GIBsax79"
      }
    },
    {
      "cell_type": "markdown",
      "source": [
        "#### Raw Types \n",
        "\n",
        " A *raw type* is the name of a generic class or interface without any type arguments. "
      ],
      "metadata": {
        "id": "sEXjKM7c6hTi"
      }
    },
    {
      "cell_type": "markdown",
      "metadata": {
        "id": "ZSAPzHg353nz"
      },
      "source": [
        " To create a parameterized `Box<T>`, you cana supply an actual type argument for the formal type parameter `T`: \n",
        "\n",
        "    Box<Integer> intBox = new Box<>(); \n",
        "    \n",
        " If, however, the actual type argument is omitted, you create a raw type of `Box<T>`: \n",
        " \n",
        "    Box rawBox = new Box(); \n",
        "    \n",
        " Therefore, `Box` is the raw tpye of the generic type `Box<T>`. However, a ***non-generic*** class or interfcae type is **not** a raw type. \n",
        " \n",
        " Raw types show up in legacy code because lots of API classes (such as the `Collections` classes) were not generic prior to JDK 5.0. For ***backward compatibility***, assigning a parameterized type to its raw type is allowed: \n",
        " \n",
        "    Box<String> stringBox = new Box<>(); \n",
        "    Box rawBox = stringBox;   // ok \n",
        "    \n",
        " But if you assign a raw type to a parameterized type, you get a **unchecked conversion** warning: \n",
        " \n",
        "    Box rawBox = new Box() ;\n",
        "    Box<String> stringBox = rawBox   // warning: unchecked conversion\n",
        "    \n",
        " You also get a warning if you use a raw type to invoke generic methods defined in the corresponding generic type: \n",
        " \n",
        "    Box<String> stringBox = new Box<>(); \n",
        "    Box rawBox = stringBox; \n",
        "    \n",
        "    rawBox.set(8);   // warning: unchecked invocation to set(T)"
      ]
    },
    {
      "cell_type": "markdown",
      "source": [
        "### 🧑🏼‍💻 Generic Methods \n",
        "\n",
        " ***Generic methods* are methods that introduce their own type parameters.** This is similar to declaring a generic type, but the type parameters's scope is limited to the method where it is declared. **Static and non-static methods are allowed, as well as generic class constructors.** \n",
        "\n",
        "  The syntax for a generic method includes a list of type parameters, inside angle brackets, which appears before the method's return type. The feature known as **type reference** allows you to invoke a generic method as an ordinary method, without specifiying a type."
      ],
      "metadata": {
        "id": "QVM_G5JI6mCI"
      }
    },
    {
      "cell_type": "code",
      "source": [
        "public class Util {\n",
        "    public static <K, V> boolean compare(Pair<K, V> p1, Pair<K, V> p2) { \n",
        "        return p1.getKey().equals(p2.getKey()) && p1.getValue().equals(p2.getValue()); \n",
        "    }\n",
        "} \n",
        "\n",
        "public class Pair<K, V> {\n",
        "\n",
        "    private K key;\n",
        "    private V value;\n",
        "\n",
        "    public Pair(K key, V value) {\n",
        "        this.key = key;\n",
        "        this.value = value;\n",
        "    }\n",
        "\n",
        "    public void setKey(K key) { this.key = key; }\n",
        "    public void setValue(V value) { this.value = value; }\n",
        "    public K getKey()   { return key; }\n",
        "    public V getValue() { return value; }\n",
        "}\n",
        "\n",
        "Pair<Integer, String> p1 = new Pair<>(1, \"apple\");\n",
        "Pair<Integer, String> p2 = new Pair<>(2, \"pear\");\n",
        "\n",
        "boolean same_1 = Util.<Integer, String>compare(p1, p2); \n",
        "boolean same_2 = Util.compare(p1, p2);  // type can be left out"
      ],
      "metadata": {
        "id": "SvBYeMZrbq4G"
      },
      "execution_count": null,
      "outputs": []
    },
    {
      "cell_type": "markdown",
      "source": [
        "### 🧑🏼‍💻 Bounded Type Parameters \n",
        "\n",
        " There may be times when you want to restrict the types **that can be used as type arguments in a parameterized type**. For example, a method that operates on numbers might only want to accept instances of `Number` or its subclasses. This is what bounded type parameters are for."
      ],
      "metadata": {
        "id": "P5VpvtAY6oqd"
      }
    },
    {
      "cell_type": "markdown",
      "source": [
        " To declare a bounded type parameter, list the type parameter's name, followed by the `extends` keyword, followed biy its *upper bound*, which in this example is `Number`. "
      ],
      "metadata": {
        "id": "MLxyvdZocn2i"
      }
    },
    {
      "cell_type": "code",
      "source": [
        "public class Box<T> {\n",
        "\n",
        "    private T t; \n",
        "    \n",
        "    public void set(T t) { this.t = t; }\n",
        "    public T get() { return t; } \n",
        "    \n",
        "    public <U extends Number> void inspect(U u) { \n",
        "        System.out.println(\"T: \" + t.getClass().getName());\n",
        "        System.out.println(\"U: \" + u.getClass().getName());\n",
        "    } \n",
        "}"
      ],
      "metadata": {
        "id": "xFZLlQEVcHz3"
      },
      "execution_count": null,
      "outputs": []
    },
    {
      "cell_type": "markdown",
      "source": [
        "#### Multiple Bounds \n",
        "\n",
        " A type parameter can have *multiple bounds*: \n",
        " \n",
        "     <T extends B1 & B2 & B3> "
      ],
      "metadata": {
        "id": "6eWJwaSscDkp"
      }
    },
    {
      "cell_type": "markdown",
      "source": [
        " A type variable with multiple bounds is a subtype of all the types listed in the bound. **If one of the bounds is a class, it must be specified first**. For example:\n",
        "\n",
        "    Class A { /* ... */ }\n",
        "    interface B { /* ... */ }\n",
        "    interface C { /* ... */ }\n",
        "    \n",
        "    class D <T extends A & B & C> { /* ... */ }"
      ],
      "metadata": {
        "id": "XJmgfW0xdAer"
      }
    },
    {
      "cell_type": "markdown",
      "source": [
        "#### Generic Methods and Bounded Type Parameters \n",
        "\n",
        " **Bounded type parameters are key to the implementation of generic algorithms.** "
      ],
      "metadata": {
        "id": "GR5U5N4m6sTT"
      }
    },
    {
      "cell_type": "markdown",
      "metadata": {
        "id": "8wMkqTWH53n1"
      },
      "source": [
        " Consider the following method that counts the number of elements in an array `T[]` that are greater than a specified element `elem`.\n",
        " \n",
        "     public static <T> int countGreaterThan(T[] anArray, T elem) { \n",
        "     \n",
        "         int count = 0; \n",
        "         \n",
        "         for (T e : anArray) {  \n",
        "             if (e > elem) // compiler error \n",
        "                 ++count; \n",
        "         }\n",
        "         return count; \n",
        "     } \n",
        " \n",
        "  The implementation of the method is straightforward, but it does not compile because **the greater than operator (>) applies only to primitive types** such as `short`, `int`, `double`, `long`, `float`, `byte`, and `char`. To fix the problem, use a type parameter bounded by the **`Comparable<T>`** interface: \n",
        "  \n",
        "    public static <T extends Comparable<T>> int countGreaterThan(T[] anArray, T elem) { \n",
        "        \n",
        "        int count = 0; \n",
        "        \n",
        "        for (T e : anArray) { \n",
        "            if (e.compareTo(elem) > 0) { ++count; } \n",
        "        }\n",
        "        return count; \n",
        "    }"
      ]
    },
    {
      "cell_type": "markdown",
      "source": [
        "### 🧑🏼‍💻 Generics, Inheritance, and Subtypes "
      ],
      "metadata": {
        "id": "Zf1xm3yP6ubg"
      }
    },
    {
      "cell_type": "markdown",
      "metadata": {
        "id": "fLTaYtIe53n1"
      },
      "source": [
        " It is possible to assign an object of one type to an object of another type provided that the types are compatible. For example, you can assign an `Integer` to an `Object`, since `Object` is one of `Integer`'s supertypes. \n",
        " \n",
        " In object-oriented terminology, this is called an **\"is a\" relationship**. Since an Integer is a kind of `Object`, the assignment is allowed. But `Integer` is also a kind of `Number`, so the following code is valid as well:\n",
        " \n",
        "    public void someMethod(Number n) { /* ... */ }\n",
        "\n",
        "    someMethod(new Integer(10));   // OK\n",
        "    someMethod(new Double(10.1));   // OK\n",
        " \n",
        " The same is also true with generics. You can perform a generic type invocation, passing `Number` as its type argument, and any subsequent invocation of add will be allowed if the argument is compatible with `Number`:\n",
        " \n",
        "    Box<Number> box = new Box<Number>();\n",
        "    box.add(new Integer(10));   // OK\n",
        "    box.add(new Double(10.1));  // OK\n",
        "    \n",
        "#### Generic Classes and Subtyping \n",
        " \n",
        " You can subtype a generic class or interface by extending or implementing it. The relationship between the type parameters of one class or interface and the type parameters of another are determined by the `extends` and `implements` clauses.\n",
        "\n",
        " Using the Collections classes as an example, `ArrayList<E>`implements `List<E>`, and `List<E>` extends `Collection<E>`. So `ArrayList<String>` is a subtype of `List<String>`, which is a subtype of `Collection<String>`. **So long as you *do not vary* the type argument, the subtyping relationship is preserved between the types.**"
      ]
    },
    {
      "cell_type": "markdown",
      "source": [
        "### 🧑🏼‍💻 Type Inference\n",
        "\n",
        " **Type inference is a Java compiler's ability to look at each method invocation and corresponding declaration to determine the type argument (or arguments) that make the invocation applicable.** The inference algorithm determines the types of the arguments and, if available, the type that the result is being assigned, or returned. Finally, the inference algorithm tries to find the most specific type that works with all of the arguments."
      ],
      "metadata": {
        "id": "WYncNIo-6xNs"
      }
    },
    {
      "cell_type": "markdown",
      "metadata": {
        "id": "r0f3kjQf53n1"
      },
      "source": [
        "To illustrate this last point, in the following example, inference determines that the second argument being passed to the pick method is of type `Serializable`:\n",
        "\n",
        "#### Type Inference and Generic Methods \n",
        "\n",
        " **Generic Methods introduced you to type inference**, which enables you to invoke a generic method as you would an ordinary method, without specifying a type between angle brackets. Consider the following example, `BoxDemo`, which requires the `Box` class:\n",
        "\n",
        "    static <T> T pick(T a1, T a2) { return a2; }\n",
        "    Serializable s = pick(\"d\", new ArrayList<String>());\n",
        "\n",
        "    public class BoxDemo {\n",
        "\n",
        "        public static <U> void addBox(U u, List<Box<U>> boxes) {\n",
        "            Box<U> box = new Box<>();\n",
        "            box.set(u);\n",
        "            boxes.add(box);\n",
        "        }\n",
        "\n",
        "        public static <U> void outputBoxes(java.util.List<Box<U>> boxes) {\n",
        "            int counter = 0;\n",
        "            for (Box<U> box: boxes) {\n",
        "                U boxContents = box.get();\n",
        "                System.out.println(\"Box #\" + counter + \" contains [\" + boxContents.toString() + \"]\");\n",
        "                counter++;\n",
        "            }\n",
        "        }\n",
        "        \n",
        "        public static void main(String[] args) { \n",
        "             ArrayList<Box<Integer>> listOfIntegerBoxes = new ArrayList<>(); \n",
        "             \n",
        "             BoxDemo.<Integer>addBox(Integer.valueOf(10), listOfIntegerBoxes); // type witness\n",
        "             BoxDemo.addBox(integer.valueOf(20), listOfIntegerBoxes); \n",
        "             BoxDemo.addBox(integer.valueOf(30), listOfIntegerBoxes); \n",
        "             \n",
        "             BoxDemo.outputBoxes(listOfIntegerBoxes); \n",
        "         }\n",
        "     } \n",
        "     \n",
        " The generic method `addBox` defines one type parameter named `U`. **Generally, a Java compiler can infer the type parameters of a generic method call.** Consequently, in most cases, you do not have to specify them. For example, to invoke the generic method `addBox`, you can specify the type parameter with a **type witness**. \n",
        " \n",
        "### Type Inference and Instantiation of Generic Classes \n",
        "\n",
        " You can replace the type arguments required to invoke the constructor of a generic class with an **empty set of type parameters (<>)** as long as the compiler can infer the type arguments from the context. This pair of angle brackets is informally called *the diamond*.\n",
        " \n",
        " For example, consider the following variable declaration:\n",
        "\n",
        "    Map<String, List<String>> myMap = new HashMap<String, List<String>>();\n",
        "    \n",
        " You can substitute the parameterized type of the constructor with an empty set of type parameters (<>):\n",
        "\n",
        "    Map<String, List<String>> myMap = new HashMap<>();\n",
        "    \n",
        " Note that, to take advantage of <u>**type inference during generic class instantiation, you must use the diamond.**</u>  \n",
        " \n",
        "    Map<String, List<String>> myMap = new HashMap(); // unchecked conversion warning \n",
        "    \n",
        "### Type Inference and Generic Constructors of Generic and Non-Generic Classes \n",
        "\n",
        " Note that constructors also can be generic in **both generic and non-generic classes.** \n",
        " \n",
        "    class MyClass<X> { \n",
        "        <T> MyClass(T t) { /*...*/ }\n",
        "    }\n",
        "    \n",
        "    MyClass<Integer> my_class = new MyClass<Integer>(\"\"); // OK \n",
        "    \n",
        "### Target Types \n",
        "\n",
        " The Java compiler takes advantage of target typing to infer the type parameters of a generic method invocation. The ***target type* of an expression is the data type that the Java compiler expects depending on where the expression appears.** Consider the method `Collections.emptyList`, which is declared as follows: \n",
        "     \n",
        "     static <T> List<T> emptyList(); \n",
        "     \n",
        " Consider the following assignment statement: \n",
        " \n",
        "     List<String> listOne = Collections.emptyList(); \n",
        "     \n",
        " This statement is expecting an instance of `List<String>`; **this data type is the target type**. Because the method `emptyList` returns a value of type `List<T>`, the compiler infers that the type argument `T` must be the value `String`. Alternatively, you could use a type witness and specify the value of `T` as follows: \n",
        " \n",
        "     List<String> listOne = Collections.<String>emptyList();"
      ]
    },
    {
      "cell_type": "markdown",
      "source": [
        "### 🧑🏼‍💻 Wildcards\n",
        "\n",
        " In generic code, the question mark(`?`), called the *wildcard*, represents an unknown type. The wildcard can be used in a variety of situations: as the type of a parameter, field, or local variable; sometimes as a return type. The wildcaard is <u>**never used as a type argument for a generic method invocation, a generic class instance creation, or a supertype.**</u>"
      ],
      "metadata": {
        "id": "bdrmRcwt94mY"
      }
    },
    {
      "cell_type": "markdown",
      "source": [
        "#### Upper Bounded Wildcards\n",
        "\n",
        " You can use an upper bounded wildcard to relax the restrictions on a variable. For example, say you want to write a method that works on `List<Integer>`, `List<Double>`, `List<Number>`; you can achieve this by using an upper bounded wildcard. \n",
        "\n",
        " To write the method that works on lists of `Number` and the subtypes of `Number`, such as `Integer`, `Double`, and `Float`, you would specify `List<? extends Number>`. The term `List<Number>` is more restrictive than `List<? extends Number>` because the former matches a list of type `Number` only, whereas the latter matches a list of type `Number` or any of its subclasses.\n",
        "\n",
        " Consider the following `process` method: \n",
        "\n",
        "    public static void process(List<? extends Foo> list) { /* ... */} "
      ],
      "metadata": {
        "id": "kJj7-NsR-n6P"
      }
    },
    {
      "cell_type": "code",
      "source": [
        "public static double sumOfList(List<? extends Number> list)  { \n",
        "    \n",
        "    double s = 0.0; \n",
        "\n",
        "    for (Number n: list) { s += n.doubleValue(); }\n",
        "\n",
        "    return s; \n",
        "}\n",
        "\n",
        "List<Number> nums = new ArrayList<Number>(); \n",
        "nums.add(1);\n",
        "nums.add(new Integer(2));\n",
        "\n",
        "nums.add(2.2); \n",
        "nums.add(new Double(3.3)); \n",
        "\n",
        "System.out.println(sumOfList(nums)); \n",
        "System.out.println(sumOfList(Arrays.asList(1, 2, 3)));"
      ],
      "metadata": {
        "colab": {
          "base_uri": "https://localhost:8080/"
        },
        "id": "ecnyPXLoAUOd",
        "outputId": "0d306829-b7c7-4423-daa8-90d6ce02ac59"
      },
      "execution_count": null,
      "outputs": [
        {
          "output_type": "stream",
          "name": "stdout",
          "text": [
            "8.5\n",
            "6.0\n"
          ]
        }
      ]
    },
    {
      "cell_type": "markdown",
      "source": [
        "#### Unbounded Wildcards \n",
        "\n",
        " The unbounded wildcard type is specified using the wildcard characte(`?`), for example, `List<?>`. This is called a *list of unknown type*. There are two scenarios where an unbounded wildcard is a useful approach: \n",
        "\n",
        "* If you are writing a method that can be implemented using functionality provided in the `Object` class. \n",
        "* When the code is using methods in the generic class that don't depend on the type parameter. In fact, `Class<?>` is so often used because most of the methods in `Class<T>` do not depend on `T`.  \n",
        "\n",
        "\n",
        " Consider the method below, `printList1`. The goal of `printList1` is to print a list of any type, but it fails to achieve that goal — it prints only a list of `Object` instances; it cannot print `List<Integer>`, `List<String>`, `List<Double>`, and so on, because <u>**they are not subtypes**</u> of `List<Object>`. To write a generic `printList` method, use `List<?>` as in `printList2`."
      ],
      "metadata": {
        "id": "p19OQX6hF3A9"
      }
    },
    {
      "cell_type": "code",
      "source": [
        "public static void printList1(List<Object> list) { \n",
        "    for (Object elem: list) { \n",
        "        System.out.println(elem + \" \"); \n",
        "    }\n",
        "\n",
        "    System.out.println(); \n",
        "}"
      ],
      "metadata": {
        "id": "ACDjnTDYgr6b"
      },
      "execution_count": null,
      "outputs": []
    },
    {
      "cell_type": "code",
      "source": [
        "public static void printList2(List<?> list) { \n",
        "    for (Object elem: list) { \n",
        "        System.out.println(elem + \" \"); \n",
        "    }\n",
        "\n",
        "    System.out.println(); \n",
        "} "
      ],
      "metadata": {
        "id": "kTPo7t-mg5Ac"
      },
      "execution_count": null,
      "outputs": []
    },
    {
      "cell_type": "code",
      "source": [
        "List<String> str = Arrays.asList(\"one\", \"two\");\n",
        "List<Integer> ints = Arrays.asList(3, 4);\n",
        "List<Double> dbls = Arrays.asList(5.0, 6.0); \n",
        "\n",
        "List<Object> objs = Arrays.asList(str, ints, dbls);\n",
        "\n",
        "printList1(objs); // ??  \n",
        "printList2(objs);"
      ],
      "metadata": {
        "colab": {
          "base_uri": "https://localhost:8080/"
        },
        "id": "w9LZQsvpiP3_",
        "outputId": "61ca0a7a-1538-45b7-96e2-8e81a62ae99d"
      },
      "execution_count": null,
      "outputs": [
        {
          "output_type": "stream",
          "name": "stdout",
          "text": [
            "[one, two] \n",
            "[3, 4] \n",
            "[5.0, 6.0] \n",
            "\n",
            "[one, two] \n",
            "[3, 4] \n",
            "[5.0, 6.0] \n",
            "\n"
          ]
        }
      ]
    },
    {
      "cell_type": "markdown",
      "source": [
        "#### Lower Bounded Wildcards\n",
        "\n",
        " An upper bounded wildcard restricts the unknown type to be a specific type or a <u>subtype</u> of that type and is represented using the extends keyword. In a similar way, a **lower bounded wildcard restricts the unknown type to be a specific type or a <u>super</u> type of that type.**\n",
        "\n",
        " A lower bounded wildcard is expressed using the wildcard character (`?`), following by the `super` keyword, followed by its lower bound: `<? super A>`. \n",
        "\n",
        " Say you want to write a method that puts `Integer` objects into a list. To maximize <u>**flexibility**</u>, you would like the method to work on `List<Integer>`, `List<Number>`, and `List<Object>` — anything that can hold `Integer` values.\n",
        "\n",
        " To write the method that works on lists of `Integer` <u>**and**</u> the supertypes of `Integer`, such as `Integer`, `Number`, and `Object`, you would specify `List<? super Integer>`. The term `List<Integer>` is more restrictive than `List<? super Integer>` because the former matches a list of type `Integer` only, whereas the latter matches a list of any type that is a supertype of `Integer`."
      ],
      "metadata": {
        "id": "Ter1o9jBJm-5"
      }
    },
    {
      "cell_type": "code",
      "source": [
        "public static List addNumbers(List<? super Integer> list) { \n",
        "    for (int i = 1; i <= 10; i++) {\n",
        "        list.add(i); \n",
        "    }\n",
        "\n",
        "    return list; \n",
        "}\n",
        "\n",
        "List list_ = addNumbers(new ArrayList<>());\n",
        "\n",
        "printList2(list_);"
      ],
      "metadata": {
        "colab": {
          "base_uri": "https://localhost:8080/"
        },
        "id": "oFuBnRJZK6wa",
        "outputId": "eb69ab51-4db5-4224-91bc-65ad4d7ec7ee"
      },
      "execution_count": null,
      "outputs": [
        {
          "output_type": "stream",
          "name": "stdout",
          "text": [
            "1 \n",
            "2 \n",
            "3 \n",
            "4 \n",
            "5 \n",
            "6 \n",
            "7 \n",
            "8 \n",
            "9 \n",
            "10 \n",
            "\n"
          ]
        }
      ]
    },
    {
      "cell_type": "markdown",
      "source": [
        "#### Wildcards and Subtyping \n",
        "\n",
        " Generic classes or interfaces are not related merely because there is a relationship between their types. <u>**However, you can use wildcards to create a relationship between generic classes or interfaces.**</u>\n",
        "\n",
        " Given the following two regular classes: \n",
        "\n",
        "    class A {/* ... */}\n",
        "    class B extends A {/* ... */}\n",
        "\n",
        " It would be reasonable to write the following code:\n",
        "    \n",
        "    B b = new B(); \n",
        "    A a = b; \n",
        "\n",
        " This example shows that <u>**inheritance of regular classes follows this rule of subtyping**</u>: class B is a subtype of class A if B extends A. This rule does not apply to generic types:\n",
        "\n",
        "    List<B> list_b = new ArrayList<>(); \n",
        "    List<A> list_a = list_b; // 🙅🏻 compile-time error \n",
        "\n",
        " Although Integer is a subtype of Number, `List<Integer>` is <u>**not a subtype**</u> of `List<Number>` and, in fact, these two types are <u>**not related**</u>. The common parent of `List<Number>` and `List<Integer>` is `List<?>`.\n",
        "\n",
        "\n",
        " In order to create a relationship between these classes so that the code can access Number's methods through List<Integer>'s elements, use an upper bounded wildcard:\n",
        "\n",
        "    List<? extends Integer> integer_list = new ArrayList<>(); \n",
        "    List<? extends Number> number_list = integer_list; // 🙆🏻 OK \n",
        "\n",
        " "
      ],
      "metadata": {
        "id": "mbWMSuYQAg2j"
      }
    },
    {
      "cell_type": "markdown",
      "source": [
        "#### Wildcard Capture and Helper Methods \n",
        "\n",
        " In some cases, the compiler <u>**infers the type of a wildcard**</u>. For example, a list may be defined as List<?> but, when evaluating an expression, the compiler infers a particular type from the code. This scenario is known as <u>**wildcard capture**</u>.\n",
        "\n",
        " The `WildcardError` example produces a capture error when compiled. \n",
        "\n",
        " In the `WildcardError` example, the compiler processes the `i` input parameter as being of type `Object`. When the `foo` method invokes `List.set(int, E) `, the compiler is <u>not able to confirm the type of object that is being inserted into the list</u>, and an error is produced. When this type of error occurs it typically means that <u>**the compiler believes that you are assigning the wrong type to a variable**</u>. Generics were added to the Java language for this reason - to enforce type saftey at compile time. \n",
        "\n",
        " You can fix it by writing a <u>*private helper method*</u> which captures the wildcard. \n",
        "\n",
        " By conveintion, helper methods are generally named \n",
        " \n",
        "    originalMethodNameHelper\n"
      ],
      "metadata": {
        "id": "qAcRk00PF1Hu"
      }
    },
    {
      "cell_type": "code",
      "source": [
        "public class WildcardError {\n",
        "\n",
        "    void foo(List<?> i) { \n",
        "        // i.set(0, i.get(0)); \n",
        "        // 🙅🏻 incompatible types\n",
        "    }\n",
        "}"
      ],
      "metadata": {
        "id": "34ncX_2IiXWs"
      },
      "execution_count": null,
      "outputs": []
    },
    {
      "cell_type": "code",
      "source": [
        "public class WildcardFixed { \n",
        "\n",
        "    void foo(List<?> i) { \n",
        "        fooHelper(i); \n",
        "    }\n",
        "\n",
        "    private <T> void fooHelper(List<T> j) { \n",
        "        j.set(0, j.get(0)); \n",
        "    }\n",
        "}\n",
        "\n",
        "// 🙆🏻 OK "
      ],
      "metadata": {
        "id": "XdrfJg9Cm2wp"
      },
      "execution_count": null,
      "outputs": []
    },
    {
      "cell_type": "markdown",
      "source": [
        "#### Guidelines for Wildcard Use\n",
        "\n",
        " - **An \"In\" Variable**: \n",
        " \n",
        ": An \"In\"  variable serves up data to the code. Imagine a copy method with two arguments: `copy(src, deset)`. The `src` argument provides the data to be copied, so it is the \"In\" parameter. \n",
        "\n",
        " - **An \"Out\" Variable**: \n",
        "\n",
        ": An \"Out\" variable holds data for use elsewhere. In the `copy` example, the `dest` argument accepts data, so it is the \"Out\" parameter. \n",
        "\n",
        "- **Wildcard Guidelines**: \n",
        "\n",
        ": An <u>**\"in\" variable**</u> is defined with <u>**an upper bounded wildcard, using the extends keyword.**</u>\n",
        "An <u>**\"out\" variable**</u> is defined with <u>**a lower bounded wildcard, using the super keyword.**</u> \n",
        "In the case where the \"in\" variable can be accessed using methods defined in the Object class, use an unbounded wildcard.\n",
        "In the case where the code needs to access the variable as <u>**both an \"in\" and an \"out\" variable, do not use a wildcard.**</u>\n",
        "\n",
        " These guidelines do not apply to a method's return type. <u>Using a wildcard as a return type should be avoided</u> because it forces programmers using the code to deal with wildcards. \n",
        "\n",
        " <u>A list defined by `List<? extends ...>` can be informally thought of as **read-only**</u>, but that is not a strict guarantee. Suppose you have the following two classes:"
      ],
      "metadata": {
        "id": "O6wNIM2po96x"
      }
    },
    {
      "cell_type": "code",
      "source": [
        "class NaturalNumber { \n",
        "\n",
        "    private int i; \n",
        "\n",
        "    public NaturalNumber(int i) { this.i = i; } \n",
        "}\n",
        "\n",
        "class EvenNumber extends NaturalNumber { \n",
        "\n",
        "    public EvenNumber(int i) { super(i) ;}\n",
        "}\n",
        "\n",
        "List<EvenNumber> list_even = new ArrayList<>(); \n",
        "\n",
        "// list_ntrl.add(new NaturalNumber(35)); \n",
        "// 🙅🏻 compile-time error, since the method `add` puts a value into the list, which \"In\" variable cannot do."
      ],
      "metadata": {
        "id": "_J-d65FFlOsD"
      },
      "execution_count": null,
      "outputs": []
    },
    {
      "cell_type": "code",
      "source": [
        "public double sum(Collection<? extends Number> nums) { \n",
        "    double s = 0.0;\n",
        "\n",
        "    for (Number num : nums) { s+= num.doubleValue(); }  \n",
        "\n",
        "    return s;\n",
        "}"
      ],
      "metadata": {
        "id": "pdbnNHa3Vnjf"
      },
      "execution_count": null,
      "outputs": []
    },
    {
      "cell_type": "code",
      "source": [
        "List<Integer> ints = new ArrayList<Integer>(); \n",
        "ints.add(1); \n",
        "ints.add(2); \n",
        "\n",
        "List<? extends Number> nums = ints; \n",
        "\n",
        "double result = sum(nums);  // 🙆🏻 OK \n",
        "\n",
        "// nums.add(3);    \n",
        "// 🙅🏻 compile-time error, since the method `add` puts a value into the list, which \"In\" variable cannot do."
      ],
      "metadata": {
        "id": "6q3M2su9SZMT"
      },
      "execution_count": null,
      "outputs": []
    },
    {
      "cell_type": "code",
      "source": [
        "List<Object> objs = new ArrayList<Object>();\n",
        "objs.add(1); \n",
        "objs.add(\"two\"); \n",
        "\n",
        "List<? super Integer> ints = objs; \n",
        "\n",
        "ints.add(3); // // 🙆🏻 OK \n",
        "\n",
        "// double result = sum(ints); \n",
        "// 🙅🏻 compile-time error, since the method `sum` gets a value out of the list, which \"Out\" variable cannot do."
      ],
      "metadata": {
        "colab": {
          "base_uri": "https://localhost:8080/"
        },
        "id": "n7MnGw2TU1HF",
        "outputId": "2c0337fc-4229-4782-8e96-a30deb0597f2"
      },
      "execution_count": null,
      "outputs": [
        {
          "output_type": "execute_result",
          "data": {
            "text/plain": [
              "true"
            ]
          },
          "metadata": {},
          "execution_count": 140
        }
      ]
    },
    {
      "cell_type": "markdown",
      "source": [
        "### 🧑🏼‍💻 Type Erasure \n",
        "\n",
        " Generics were introduced to the Java language to provide tighter type checks at compile time and to support generic programming. To implement generics, the Java compiler appiles type erasure to: \n",
        "\n",
        "- <u>**Replace all type parameters in generic types with their bounds or `Object` if the type parameters are unbounded**</u>. The produced bytecode contains only ordinary classes, interfaces, and methods. \n",
        "- Insert type casts if necessary to preserve type safety. \n",
        "- Generate <u>bridge methods to preserve polymorphism in extended generic type</u>. "
      ],
      "metadata": {
        "id": "UQfiKWMoWXBu"
      }
    },
    {
      "cell_type": "markdown",
      "source": [
        "#### Erasure of Generic Types \n",
        "\n",
        " During the type erasure process, the Java compiler erases all type parameters and replaces each with its first bound if the type parameter is bounded, or `Object` if the type parameter is not bounded. Consider the first following generic class that represents a node in a singly linked list. Because the type parameter `T` is unbounded, the Java compiler replaces it with `Object`. \n",
        "\n",
        "  In the second example, the generic `Node` class uses a bounded type parameter. The Java compiler replaces the bounded type parameter `T` with the first bound class, `Comparable`. "
      ],
      "metadata": {
        "id": "AzludZCwYo8c"
      }
    },
    {
      "cell_type": "code",
      "source": [
        "public class Node<T> { \n",
        "\n",
        "    private T val; \n",
        "    private Node<T> next; \n",
        "\n",
        "    public Node(T val, Node<T> next) { \n",
        "        this.val = val; \n",
        "        this.next = next; \n",
        "    }\n",
        "\n",
        "    public T getValue() { return val; }\n",
        "}\n",
        "\n",
        "Node<Integer> node = new Node(Integer.valueOf(1), null);\n",
        "node.getValue();"
      ],
      "metadata": {
        "id": "1I2ZZEsCZAzj",
        "colab": {
          "base_uri": "https://localhost:8080/"
        },
        "outputId": "38ff1474-0d3f-4865-aad0-75d90400beb3"
      },
      "execution_count": null,
      "outputs": [
        {
          "output_type": "execute_result",
          "data": {
            "text/plain": [
              "1"
            ]
          },
          "metadata": {},
          "execution_count": 141
        }
      ]
    },
    {
      "cell_type": "code",
      "source": [
        "public class Node<T extends Comparable<T>> { \n",
        "    \n",
        "    private T val; \n",
        "    private Node<T> next; \n",
        "\n",
        "    public Node(T val, Node<T> next) { \n",
        "        this.val = val; \n",
        "        this.next = next; \n",
        "    }\n",
        "\n",
        "    public T getValue() { return val; }\n",
        "}"
      ],
      "metadata": {
        "id": "qZD3M2x5fn0i"
      },
      "execution_count": null,
      "outputs": []
    },
    {
      "cell_type": "markdown",
      "source": [
        "#### Erasure of Generic Methods \n",
        "\n",
        " The Java compiler also erases type parameters in generic method arguments. Consider the first following method. Because `T` is unbounded, the Java compiler replaces with `Object`. \n"
      ],
      "metadata": {
        "id": "aug-FRRcl9d7"
      }
    },
    {
      "cell_type": "code",
      "source": [
        "public static <T> int count(T[] anArray, T elem) { \n",
        "    int freq = 0; \n",
        "\n",
        "    for (T e : anArray) { \n",
        "        if (e.equals(elem)) { ++freq; } \n",
        "    }\n",
        "\n",
        "    return freq; \n",
        "} "
      ],
      "metadata": {
        "id": "mzw6Yh4CmNJ6"
      },
      "execution_count": null,
      "outputs": []
    },
    {
      "cell_type": "code",
      "source": [
        "public static int count(Object[] anArray, Object elem) {\n",
        "    int cnt = 0;\n",
        "    for (Object e : anArray)\n",
        "        if (e.equals(elem))\n",
        "            ++cnt;\n",
        "        return cnt;\n",
        "}"
      ],
      "metadata": {
        "id": "rvPJAkg5nKKV"
      },
      "execution_count": null,
      "outputs": []
    },
    {
      "cell_type": "markdown",
      "source": [
        "#### Effects of Type Erasure and Bridge Methods \n",
        "\n",
        " Somtimes type erasure causes a situation that you may not have anticipated. The following example shows how this can occur. \n",
        "\n",
        " The following example shows how a compiler sometimes creates a synthetic method, which is called a <u>*bridge method*</u>, as part of the type erasure process. "
      ],
      "metadata": {
        "id": "ooQ43a2snL_s"
      }
    },
    {
      "cell_type": "markdown",
      "source": [
        "Given two follwoing classes. \n",
        "\n",
        "After type erasure, the method signatures do not match. \n",
        "\n",
        "The `Node.setData(T)` method becomes `Node.setData(Object)`. As a result, the `MyNode.setData(Integer)` method does not override the `Node.setData(Object)` method.\n",
        "\n",
        "For the `MyNode` class, the compiler generates the following <u>*bridge method*</u> for `setData`. "
      ],
      "metadata": {
        "id": "nHiTEvn9lvUg"
      }
    },
    {
      "cell_type": "code",
      "source": [
        "public class Node<T> {\n",
        "\n",
        "    public T data; \n",
        "\n",
        "    public Node(T data) { this.data = data; }\n",
        "\n",
        "    public void setData(T data) { \n",
        "        System.out.println(\"Node.setData\"); \n",
        "        this.data = data;  \n",
        "    }\n",
        "}\n",
        "\n",
        "public class MyNode extends Node<Integer> { \n",
        "\n",
        "    public MyNode(Integer data) { super(data); }\n",
        "\n",
        "//  Bridge method generated by the compiler\n",
        "//  public void setData(Object data) { \n",
        "//      setData((Integer) data); \n",
        "//  }\n",
        "\n",
        "    public void setData(Integer data) { \n",
        "        System.out.println(\"MyNode.setData\"); \n",
        "        super.setData(data); \n",
        "    }\n",
        "}"
      ],
      "metadata": {
        "id": "jeORMrkClylI"
      },
      "execution_count": null,
      "outputs": []
    },
    {
      "cell_type": "code",
      "source": [
        "MyNode my_node = new MyNode(5); \n",
        "Node node = my_node; \n",
        "\n",
        "Integer x = my_node.data; "
      ],
      "metadata": {
        "id": "XWwcj0MrmhAs"
      },
      "execution_count": null,
      "outputs": []
    },
    {
      "cell_type": "markdown",
      "source": [
        "#### Non-Reifiable Types \n",
        "\n",
        ": A <u>**reifiable** is a type whose type information is fully available at runtime</u>. This includes primitives, non-generic types, raw types and invocations of unbound wildcards. \n",
        "\n",
        "<u>**Non-reifiable** types are types where information has been removed at compile-time by type erasure</u> - invocations of "
      ],
      "metadata": {
        "id": "yhCt3tR6rTEO"
      }
    },
    {
      "cell_type": "markdown",
      "source": [
        "## Interfaces and Inheritance\n",
        "\n",
        "https://docs.oracle.com/javase/tutorial/java/IandI/index.html"
      ],
      "metadata": {
        "id": "Wg05W7n3TWi1"
      }
    },
    {
      "cell_type": "markdown",
      "source": [
        "## Annotations\n",
        "\n",
        "https://docs.oracle.com/javase/tutorial/java/generics/index.html"
      ],
      "metadata": {
        "id": "IgR9B2MeS90J"
      }
    },
    {
      "cell_type": "markdown",
      "source": [
        "# 🛠 Functional Programming"
      ],
      "metadata": {
        "id": "wLQgtpKdMQZ4"
      }
    },
    {
      "cell_type": "markdown",
      "source": [
        "## 📔 Modern Java in Action - Lambda, streams, functional and reactive programming"
      ],
      "metadata": {
        "id": "RznH0LY5fNjc"
      }
    },
    {
      "cell_type": "markdown",
      "source": [
        "### Dependencies"
      ],
      "metadata": {
        "id": "Z7yOLfyU4rhg"
      }
    },
    {
      "cell_type": "code",
      "source": [
        "import java.util.*;\n",
        "import java.util.stream.*;\n",
        "import java.util.stream.Collectors;\n",
        "import java.util.stream.Collectors.*;\n",
        "import java.util.Collections.*;\n",
        "\n",
        "import java.io.*;\n",
        "import java.io.File; \n",
        "import java.io.FileWriter; \n",
        "\n",
        "import java.nio.charset.*;\n",
        "import java.nio.file.Paths;\n",
        "import java.nio.file.Files;\n",
        "\n",
        "import static java.util.Comparator.comparing;"
      ],
      "metadata": {
        "id": "Ibz6pU9W4qWx"
      },
      "execution_count": 568,
      "outputs": []
    },
    {
      "cell_type": "markdown",
      "source": [
        "### Chapter 4. Introducing streams"
      ],
      "metadata": {
        "id": "bgPGvOeafmhH"
      }
    },
    {
      "cell_type": "markdown",
      "source": [
        "#### 4.1 What are streams? "
      ],
      "metadata": {
        "id": "YmNqU1kF0LjC"
      }
    },
    {
      "cell_type": "markdown",
      "source": [
        "$Streams$ are an update to the Java API that let you <u>manipulate collections of data in a declarative way</u>, that is you express a query rather than code an ad hoc implementation for it. In addition, streams <u>can be processed in parallel transparently</u>, without you having to write any multithreaded code. "
      ],
      "metadata": {
        "id": "74Zjje3P0Oic"
      }
    },
    {
      "cell_type": "code",
      "source": [
        "// #@title specification\n",
        "public class Dish { \n",
        "\n",
        "    public final String name; \n",
        "    public final int calorie;\n",
        "    public final boolean vegetarian; \n",
        "    public final Type type;\n",
        "\n",
        "    Dish(String name, int calorie, boolean vegetarian, Type type) { \n",
        "        this.name = name; \n",
        "        this.calorie = calorie; \n",
        "        this.vegetarian = vegetarian; \n",
        "        this.type = type; \n",
        "    }    \n",
        "\n",
        "    public String getName()         { return name; }\n",
        "    public int getCalorie()         { return calorie; }\n",
        "    public boolean isVegetarian()   { return vegetarian; }\n",
        "    public Type getType()           { return type; } \n",
        "\n",
        "    @Override\n",
        "    public String toString() { return name; } \n",
        "\n",
        "    public enum Type { MEAT, FRUIT, FISH }\n",
        "}\n",
        "\n",
        "public class Order { \n",
        "    \n",
        "    public final List<Dish> items; \n",
        "\n",
        "    Order(List<Dish> items) { this.items = items; }\n",
        "\n",
        "    public List<Dish> getItems() { return this.items; }\n",
        "}\n",
        "\n",
        "List<Dish> menu = List.of(\n",
        "    new Dish(\"Chontaduro\", 50, true, Dish.Type.FRUIT), \n",
        "    new Dish(\"Borojo\", 40, true, Dish.Type.FRUIT),\n",
        "    new Dish(\"Maracuya\", 20, true, Dish.Type.FRUIT), \n",
        "    new Dish(\"Naranja\", 15, true, Dish.Type.FRUIT), \n",
        "    new Dish(\"Guava\", 10, true, Dish.Type.FRUIT), \n",
        "    new Dish(\"Platano\", 40, true, Dish.Type.FRUIT), \n",
        "    new Dish(\"Pork\", 150, false, Dish.Type.MEAT), \n",
        "    new Dish(\"Chicken\", 90, false, Dish.Type.MEAT), \n",
        "    new Dish(\"Beef\", 130, false, Dish.Type.MEAT), \n",
        "    new Dish(\"Salmon\", 70, false, Dish.Type.FISH) \n",
        "); "
      ],
      "metadata": {
        "cellView": "form",
        "id": "hjHDRwzyPakw"
      },
      "execution_count": 673,
      "outputs": []
    },
    {
      "cell_type": "code",
      "source": [
        "menu.stream() \n",
        "    .filter(dish -> dish.getCalorie() < 100) \n",
        "    .sorted(comparing(Dish::getCalorie))\n",
        "    .map(Dish::getName)\n",
        "    .collect(Collectors.toList())\n",
        "    .forEach(item -> System.out.print(item + \" \"));"
      ],
      "metadata": {
        "colab": {
          "base_uri": "https://localhost:8080/"
        },
        "id": "gZRG0avp4MuZ",
        "outputId": "86cbcfcf-c04a-4923-ffee-c9ad838ae3be"
      },
      "execution_count": 675,
      "outputs": [
        {
          "output_type": "stream",
          "name": "stdout",
          "text": [
            "Guava Naranja Maracuya Borojo Platano Chontaduro Salmon Chicken "
          ]
        }
      ]
    },
    {
      "cell_type": "markdown",
      "source": [
        " You can see some benefits in using stream API: \n",
        " - $Declarative$: <u>The code is written in a declarative way</u>: you specify what you want to achieve, not how to implement such operations. This enables you to cope with changing requirements. \n",
        " - $Composable$: we chain together several building-block operations to <u>express a complicated data-processing pipeline while keeping your code readable.</u>\n",
        " - $Parallelizable$: Because operations such as `filter()`, `sorted()`, `map()`, or `collect()` are available as <u>high-level building blocks</u> that don't depend on a specific threading model, their internal implementation could be single-threaded or could potentially maximize your multicore architecture transparently. "
      ],
      "metadata": {
        "id": "toRTNiPt7cFt"
      }
    },
    {
      "cell_type": "markdown",
      "source": [
        "#### 4.2 Getting started with streams"
      ],
      "metadata": {
        "id": "w45uCSDRAON1"
      }
    },
    {
      "cell_type": "markdown",
      "source": [
        "Collections in Java 8 support a new `stream` method that returns a stream. The definition of stream is <u>**a sequence of elements supporting sequential and parallel aggregate operations.**</u> In addition, stream operations have two more important characteristics: \n",
        "\n",
        "1. <u>**Pipelining**</u> - many stream operations return a stream themselves, allowing operations to be chained to form a larger pipeline. This enables certain optimizations such as laziness and short-circuiting. \n",
        "\n",
        "2. <u>**Internal iteration**</u> - in contrast to collections, which are iterated explicitly using an iterator, stream operations do the iteration behind the scenes for you. "
      ],
      "metadata": {
        "id": "977JYX3qASlf"
      }
    },
    {
      "cell_type": "code",
      "source": [
        "menu.stream()\n",
        "    .filter(dish -> dish.getCalorie() > 50)\n",
        "    .sorted(comparing(Dish::getCalorie).reversed())\n",
        "    .limit(3)\n",
        "    .map(Dish::getName)\n",
        "    .collect(Collectors.toList())\n",
        "    .forEach(item -> System.out.print(item + \" \"));"
      ],
      "metadata": {
        "colab": {
          "base_uri": "https://localhost:8080/"
        },
        "id": "EHDWWQiaB69q",
        "outputId": "b49bede3-2027-4b34-e131-cc8e21469b92"
      },
      "execution_count": 576,
      "outputs": [
        {
          "output_type": "stream",
          "name": "stdout",
          "text": [
            "Pork Beef Chicken "
          ]
        }
      ]
    },
    {
      "cell_type": "markdown",
      "source": [
        "#### 4.3 Streams vs. Collections"
      ],
      "metadata": {
        "id": "dB-idQaoE5j0"
      }
    },
    {
      "cell_type": "markdown",
      "source": [
        " Both the existing Java notion of collections and the new notion of streams provide interfaces to data structures representing <u>a sequenced set of values of the element type</u>. By sequenced, we mean that we commonly step through the values in turn rather than randomly accessing them in any order. \n",
        "\n",
        " The difference between collections and streams has to do with $when$ things are computed. A collection is an <u>**in-memory**</u> data structure that holds all the values - every element in collection has to be computed <u>**before**</u> it can be added to the collection. \n",
        "\n",
        " In contrast, a stream is a <u>**conceptually fixed**</u> data structure whose elements are <u>**computed on demand**</u>. Another view is that a stream is like a <u>**lazily constrcuted**</u> collection: values are computed when they are solicited by a consumer. A collection is, however, <u>**eagerly constructed**</u>. "
      ],
      "metadata": {
        "id": "Y0kW_7mOE90v"
      }
    },
    {
      "cell_type": "markdown",
      "source": [
        "##### <font color='#F06C7C'> 4.3.1 Traversable only once "
      ],
      "metadata": {
        "id": "89MNjPzLHlb3"
      }
    },
    {
      "cell_type": "code",
      "source": [
        "List<String> title = Arrays.asList(\"Modern\", \"Java\", \"in\", \"Action\"); \n",
        "title.stream()\n",
        "        .forEach(System.out::println);\n",
        "\n",
        "//      .forEach(System.out::println);   ->   `java.lang.IllegalStateException`"
      ],
      "metadata": {
        "colab": {
          "base_uri": "https://localhost:8080/"
        },
        "id": "SVPK_1PIHyQY",
        "outputId": "b5bc32d2-daf6-44d4-e385-d097f16d51d2"
      },
      "execution_count": 577,
      "outputs": [
        {
          "output_type": "stream",
          "name": "stdout",
          "text": [
            "Modern\n",
            "Java\n",
            "in\n",
            "Action\n"
          ]
        }
      ]
    },
    {
      "cell_type": "markdown",
      "source": [
        "##### <font color='#F06C7C'> 4.3.2 External vs. Internal iteration"
      ],
      "metadata": {
        "id": "RWWn0acsIqAl"
      }
    },
    {
      "cell_type": "markdown",
      "source": [
        "Using the `Collection` interface requires iteration to be done by the user; this is called <u>external iteration</u>. The `Stream` library uses <u>internal iteration</u> - it does the iteration for you and takes care of storing the resulting stream values somewhere. \n",
        "\n",
        "Using an internal iteration, the processing of items could be <u>transparently done in parallel</u> or in a different order that may <u>be more optimized</u>. These optimizations are difficult if you iterate the collection externally as you’re used to doing in Java."
      ],
      "metadata": {
        "id": "SdBSKKP7Iymz"
      }
    },
    {
      "cell_type": "markdown",
      "source": [
        "#### 4.4 Stream Operations "
      ],
      "metadata": {
        "id": "kVLerP0CKHam"
      }
    },
    {
      "cell_type": "markdown",
      "source": [
        "The operations that streams interface defines can be classified into two categories. \n",
        "\n",
        "- <u>**Intermediate operations**</u> - `filter`, `map`, and `limit` can be connected together to form a pipeline. \n",
        "- <u>**Terminal operations**</u> - `collect` causes the pipeline to be executed and closes it. "
      ],
      "metadata": {
        "id": "nijr9kZB5VrY"
      }
    },
    {
      "cell_type": "markdown",
      "source": [
        "##### <font color='#F06C7C'> 4.4.1 Intermediate operations "
      ],
      "metadata": {
        "id": "kQAAHvXX8TPs"
      }
    },
    {
      "cell_type": "markdown",
      "source": [
        "Intermediate operations such as `filter` or `sorted` return another stream as the return type. This allows the operations to be connected to form a query. What's important is that intermediate operations don't perform any processing until a terminal operation is invoked on the stream pipeline - meaning that they are <u>lazy</u>. "
      ],
      "metadata": {
        "id": "1sAYCogj8Veq"
      }
    },
    {
      "cell_type": "markdown",
      "source": [
        "##### <font color='#F06C7C'> 4.4.2 Terminal operations "
      ],
      "metadata": {
        "id": "505IHeFFBTaZ"
      }
    },
    {
      "cell_type": "markdown",
      "source": [
        "Terminal operations produce a result from a stream pipeline. A result is any <u>**non-stream**</u> value such as `List`, an `Integer` or even `void`. "
      ],
      "metadata": {
        "id": "vzkcdXUIBV9K"
      }
    },
    {
      "cell_type": "code",
      "source": [
        "menu.stream()\n",
        "    .filter(dish -> dish.getCalorie() > 50)\n",
        "    .distinct()\n",
        "    .count()"
      ],
      "metadata": {
        "colab": {
          "base_uri": "https://localhost:8080/"
        },
        "id": "UTU9WB3qBmI1",
        "outputId": "dc6ea517-8848-42ac-d8f1-de892c01810d"
      },
      "execution_count": 578,
      "outputs": [
        {
          "output_type": "execute_result",
          "data": {
            "text/plain": [
              "4"
            ]
          },
          "metadata": {},
          "execution_count": 578
        }
      ]
    },
    {
      "cell_type": "markdown",
      "source": [
        "##### <font color='#F06C7C'> 4.4.3 Working with streams"
      ],
      "metadata": {
        "id": "DeZHyhf0Cdqy"
      }
    },
    {
      "cell_type": "markdown",
      "source": [
        "To summerize, working with streams in general involves three items: \n",
        "\n",
        "- A <u>data source</u> to perform a query on \n",
        "- A chain of <u>intermediate operations</u> that form a stream pipeline \n",
        "- A <u>terminal operation</u> that executes the stream pipeline and produces a result "
      ],
      "metadata": {
        "id": "DXYOrZk7ChDu"
      }
    },
    {
      "cell_type": "markdown",
      "source": [
        "### Chapter 5. Working with streams "
      ],
      "metadata": {
        "id": "G3AfrA0RENO4"
      }
    },
    {
      "cell_type": "markdown",
      "source": [
        "#### 5.1 Filtering"
      ],
      "metadata": {
        "id": "-KToDRkHJJKp"
      }
    },
    {
      "cell_type": "markdown",
      "source": [
        "##### <font color='#F06C7C'> 5.1.1 Filtering with a predicate - `filter`"
      ],
      "metadata": {
        "id": "ntqrft7xJTJ_"
      }
    },
    {
      "cell_type": "markdown",
      "source": [
        "The `Stream`interface supports a `filter` method. This operation takes as argument a $predicate$ (a function returning a `boolean`) and returns a stream including all elements that match the predicate. "
      ],
      "metadata": {
        "id": "fG3MXAVAJYeD"
      }
    },
    {
      "cell_type": "code",
      "source": [
        "menu.stream()\n",
        "    .filter(dish -> dish.isVegetarian())\n",
        "    .sorted(comparing(Dish::getName))\n",
        "    .forEach(item -> System.out.print(item + \" \"));"
      ],
      "metadata": {
        "colab": {
          "base_uri": "https://localhost:8080/"
        },
        "id": "op6ZK7XpJnB0",
        "outputId": "e25d0560-d131-4c6a-a5e0-aeefc9f26b99"
      },
      "execution_count": 678,
      "outputs": [
        {
          "output_type": "stream",
          "name": "stdout",
          "text": [
            "Borojo Chontaduro Guava Maracuya Naranja Platano "
          ]
        }
      ]
    },
    {
      "cell_type": "markdown",
      "source": [
        "##### <font color='#F06C7C'> 5.1.2 Filtering unique elements - `distinct`"
      ],
      "metadata": {
        "id": "5yQ0aagbdQ4a"
      }
    },
    {
      "cell_type": "markdown",
      "source": [
        "Streams also support a method called `distinct` that returns a stream with unique elements."
      ],
      "metadata": {
        "id": "-jrlz5JfdWBn"
      }
    },
    {
      "cell_type": "code",
      "source": [
        "List<Integer> numbers = List.of(1, 2, 2, 3, 4, 4, 4, 5);\n",
        "\n",
        "numbers.stream()\n",
        "            .filter(num -> num % 2 == 0)\n",
        "            .distinct()\n",
        "            .forEach(System.out::println);"
      ],
      "metadata": {
        "colab": {
          "base_uri": "https://localhost:8080/"
        },
        "id": "Jh8iVCTIdfyU",
        "outputId": "a53a1e07-4102-4bb3-d480-bf0e2e612a5e"
      },
      "execution_count": 679,
      "outputs": [
        {
          "output_type": "stream",
          "name": "stdout",
          "text": [
            "2\n",
            "4\n"
          ]
        }
      ]
    },
    {
      "cell_type": "markdown",
      "source": [
        "#### 5.2 Slicing a stream "
      ],
      "metadata": {
        "id": "JXkNPrWseG1D"
      }
    },
    {
      "cell_type": "markdown",
      "source": [
        "There are operations available that let you efficiently select or drop elements using a predicate, ignore the first few elements of a stream, or truncate a stream to a given size. "
      ],
      "metadata": {
        "id": "Bj8eb7u4eKRE"
      }
    },
    {
      "cell_type": "markdown",
      "source": [
        "##### <font color='#F06C7C'> 5.2.1 Slicing using a predicate - `takeWhile`, `dropWhile`"
      ],
      "metadata": {
        "id": "RLqF8VvwfvCg"
      }
    },
    {
      "cell_type": "markdown",
      "source": [
        "The `takeWhile` operation lets you slice any stream using a predicate. It scopes once it has found an element that <u>fails to match</u>. The `dropWhile` is the complement of `takeWhile`. "
      ],
      "metadata": {
        "id": "Rsw9WQbmfzms"
      }
    },
    {
      "cell_type": "code",
      "source": [
        "List<Dish> orderedInCalrorie = menu.stream()\n",
        "                                    .sorted(comparing(Dish::getCalorie))\n",
        "                                    .collect(Collectors.toList()); "
      ],
      "metadata": {
        "id": "Xm6XDXcLebhf"
      },
      "execution_count": 680,
      "outputs": []
    },
    {
      "cell_type": "code",
      "source": [
        "orderedInCalrorie.stream()\n",
        "                    .takeWhile(dish -> dish.getCalorie() < 50)\n",
        "                    .forEach(item -> System.out.print(item + \" \"));"
      ],
      "metadata": {
        "colab": {
          "base_uri": "https://localhost:8080/"
        },
        "id": "mlAfhzikh9tO",
        "outputId": "25ce6f7c-aef7-4c6d-a1bf-58ec8376e996"
      },
      "execution_count": 681,
      "outputs": [
        {
          "output_type": "stream",
          "name": "stdout",
          "text": [
            "Guava Naranja Maracuya Borojo Platano "
          ]
        }
      ]
    },
    {
      "cell_type": "code",
      "source": [
        "orderedInCalrorie.stream()\n",
        "                    .dropWhile(dish -> dish.getCalorie() < 50)\n",
        "                    .forEach(item -> System.out.print(item + \" \")); "
      ],
      "metadata": {
        "colab": {
          "base_uri": "https://localhost:8080/"
        },
        "id": "UfkgASIXh_XL",
        "outputId": "30834c05-e3da-4465-a168-8ffa53e284ac"
      },
      "execution_count": 682,
      "outputs": [
        {
          "output_type": "stream",
          "name": "stdout",
          "text": [
            "Chontaduro Salmon Chicken Beef Pork "
          ]
        }
      ]
    },
    {
      "cell_type": "markdown",
      "source": [
        "##### <font color='#F06C7C'> 5.2.2 Truncating a stream - `limit`"
      ],
      "metadata": {
        "id": "ax_lA9Rdin6C"
      }
    },
    {
      "cell_type": "markdown",
      "source": [
        "Streams support the `limit(n)` method, which returns another stream that is no longer than a given size. "
      ],
      "metadata": {
        "id": "PUuWNdDsipwv"
      }
    },
    {
      "cell_type": "code",
      "source": [
        "menu.stream()\n",
        "    .sorted(comparing(Dish::getCalorie).reversed())\n",
        "    .limit(5)\n",
        "    .forEach(item -> System.out.print(item + \" \")); "
      ],
      "metadata": {
        "colab": {
          "base_uri": "https://localhost:8080/"
        },
        "id": "3LEzlZ9xjGIF",
        "outputId": "63eb04b9-c77f-41c0-b039-3626f40b11c8"
      },
      "execution_count": 683,
      "outputs": [
        {
          "output_type": "stream",
          "name": "stdout",
          "text": [
            "Pork Beef Chicken Salmon Chontaduro "
          ]
        }
      ]
    },
    {
      "cell_type": "markdown",
      "source": [
        "##### <font color='#F06C7C'> 5.2.3 Skipping elements - `skip`"
      ],
      "metadata": {
        "id": "jUyjlqtKjhVm"
      }
    },
    {
      "cell_type": "markdown",
      "source": [
        "Stream supports the `skip` method to return a stream that discards the first `n` elements. If the stream has fewer than `n` elements, an empty stream is returned. "
      ],
      "metadata": {
        "id": "3OK4OTTSjnQQ"
      }
    },
    {
      "cell_type": "code",
      "source": [
        "menu.stream()\n",
        "    .sorted(comparing(Dish::getCalorie).reversed())\n",
        "    .skip(3)\n",
        "    .limit(5)\n",
        "    .forEach(item -> System.out.print(item + \" \")); "
      ],
      "metadata": {
        "colab": {
          "base_uri": "https://localhost:8080/"
        },
        "id": "OVtjBePalqu1",
        "outputId": "418c0daa-4c28-468a-bba7-41ce680e0b1a"
      },
      "execution_count": 684,
      "outputs": [
        {
          "output_type": "stream",
          "name": "stdout",
          "text": [
            "Salmon Chontaduro Borojo Platano Maracuya "
          ]
        }
      ]
    },
    {
      "cell_type": "markdown",
      "source": [
        "#### 5.3 Mapping "
      ],
      "metadata": {
        "id": "HuNLhyYtmIZj"
      }
    },
    {
      "cell_type": "markdown",
      "source": [
        "A common data processing idiom is to select information from certain objects. The Stream API provides such facilities through the `map` and `flatMap` methods. "
      ],
      "metadata": {
        "id": "GShvO4R3mLnw"
      }
    },
    {
      "cell_type": "markdown",
      "source": [
        "##### <font color='#F06C7C'> 5.3.1 Applying a function to each element of a stream - `map` "
      ],
      "metadata": {
        "id": "p7COOX4nmrGG"
      }
    },
    {
      "cell_type": "markdown",
      "source": [
        "Streams support the `map` method, which takes a function as argument. The function is applied to each element, mapping it into new element. "
      ],
      "metadata": {
        "id": "ePKJlVNYm8Wg"
      }
    },
    {
      "cell_type": "code",
      "source": [
        "List<String> words = List.of(\"Modern\", \"Java\", \"in\", \"Action\");\n",
        "words.stream()\n",
        "        .map(String::length)\n",
        "        .forEach(item -> System.out.print(item + \" \"));"
      ],
      "metadata": {
        "colab": {
          "base_uri": "https://localhost:8080/"
        },
        "id": "v1Qg8o56m7ao",
        "outputId": "da6d06de-d8cd-4f96-827c-1d98652cb62f"
      },
      "execution_count": 685,
      "outputs": [
        {
          "output_type": "stream",
          "name": "stdout",
          "text": [
            "6 4 2 6 "
          ]
        }
      ]
    },
    {
      "cell_type": "code",
      "source": [
        "menu.stream()\n",
        "    .map(Dish::getName)\n",
        "    .map(String::length)\n",
        "    .forEach(item -> System.out.print(item + \" \")); "
      ],
      "metadata": {
        "colab": {
          "base_uri": "https://localhost:8080/"
        },
        "id": "zA6yR_GUn2Id",
        "outputId": "4fdf0839-ecce-4844-a1e9-f46462618a63"
      },
      "execution_count": 686,
      "outputs": [
        {
          "output_type": "stream",
          "name": "stdout",
          "text": [
            "10 6 8 7 5 7 4 7 4 6 "
          ]
        }
      ]
    },
    {
      "cell_type": "markdown",
      "source": [
        "##### <font color='#F06C7C'> 5.3.2 Flattening streams - `flatMap`"
      ],
      "metadata": {
        "id": "Wv83_ty-og-3"
      }
    },
    {
      "cell_type": "markdown",
      "source": [
        "Using the `flatMap` has the effect of mapping each array <u>**not with a stream but with the contents of that stream**</u>. All the seperate streams that were generated when using `map(Arrays::stream)` get <u>amalgamated</u>. "
      ],
      "metadata": {
        "id": "gwfuDPOnojpR"
      }
    },
    {
      "cell_type": "code",
      "source": [
        "List<String> greeting = List.of(\"Hello\", \"Java\", \"!\"); \n",
        "\n",
        "greeting.stream()\n",
        "            .map(word -> word.split(\"\"))\n",
        "            .flatMap(Arrays::stream)\n",
        "            .forEach(item -> System.out.print(item + \" \"));"
      ],
      "metadata": {
        "colab": {
          "base_uri": "https://localhost:8080/"
        },
        "id": "vc5VRssjpczw",
        "outputId": "6dec70af-c6f3-42d8-97c4-0b85d2f09486"
      },
      "execution_count": 687,
      "outputs": [
        {
          "output_type": "stream",
          "name": "stdout",
          "text": [
            "H e l l o J a v a ! "
          ]
        }
      ]
    },
    {
      "cell_type": "code",
      "source": [
        "// #@title specification\n",
        "List<Dish> fruits = \n",
        "    menu.stream().filter(dish -> dish.getType() == Dish.Type.FRUIT).collect(Collectors.toList());\n",
        "                            \n",
        "List<Dish> meats = \n",
        "    menu.stream().filter(dish -> dish.getType() == Dish.Type.MEAT).collect(Collectors.toList()); \n",
        "\n",
        "List<Dish> fishes = \n",
        "    menu.stream().filter(dish -> dish.getType() == Dish.Type.FISH).collect(Collectors.toList());\n",
        "\n",
        "List<Order> orders = List.of(new Order(fruits), new Order(meats), new Order(fishes));"
      ],
      "metadata": {
        "cellView": "form",
        "id": "6NyRX-fdO8vZ"
      },
      "execution_count": 688,
      "outputs": []
    },
    {
      "cell_type": "code",
      "source": [
        "orders.stream()\n",
        "    .flatMap(order -> order.getItems().stream())\n",
        "    .forEach(item -> System.out.print(item + \" \"));"
      ],
      "metadata": {
        "colab": {
          "base_uri": "https://localhost:8080/"
        },
        "id": "SifAF4zGtGuy",
        "outputId": "9c41bda3-2c34-4f6d-a814-f1b0ee9a46e6"
      },
      "execution_count": 689,
      "outputs": [
        {
          "output_type": "stream",
          "name": "stdout",
          "text": [
            "Chontaduro Borojo Maracuya Naranja Guava Platano Pork Chicken Beef Salmon "
          ]
        }
      ]
    },
    {
      "cell_type": "markdown",
      "source": [
        "#### 5.4 Finding and matching"
      ],
      "metadata": {
        "id": "nQE7g-bj8G2_"
      }
    },
    {
      "cell_type": "markdown",
      "source": [
        "##### <font color='#F06C7C'> 5.4.1 Checking to see if a predicate matches at least one element - `anyMatch`"
      ],
      "metadata": {
        "id": "I_mcnvVP8LoL"
      }
    },
    {
      "cell_type": "code",
      "source": [
        "menu.stream().anyMatch(Dish::isVegetarian)"
      ],
      "metadata": {
        "colab": {
          "base_uri": "https://localhost:8080/"
        },
        "id": "zAbyTd9T8TDQ",
        "outputId": "dcfc196e-4bdf-44a8-9cd5-cb0e38e165e5"
      },
      "execution_count": 690,
      "outputs": [
        {
          "output_type": "execute_result",
          "data": {
            "text/plain": [
              "true"
            ]
          },
          "metadata": {},
          "execution_count": 690
        }
      ]
    },
    {
      "cell_type": "markdown",
      "source": [
        "##### <font color='#F06C7C'> 5.4.2 Checking to see if a predicate matches all elements - `allMatch`, `noneMatch`"
      ],
      "metadata": {
        "id": "UElxn21X9jSm"
      }
    },
    {
      "cell_type": "code",
      "source": [
        "menu.stream().allMatch(dish -> dish.getCalorie() >= 10)"
      ],
      "metadata": {
        "colab": {
          "base_uri": "https://localhost:8080/"
        },
        "id": "FLbu01ED9tF8",
        "outputId": "b2bf3a99-eece-435b-e380-663e1ea59b76"
      },
      "execution_count": 691,
      "outputs": [
        {
          "output_type": "execute_result",
          "data": {
            "text/plain": [
              "true"
            ]
          },
          "metadata": {},
          "execution_count": 691
        }
      ]
    },
    {
      "cell_type": "code",
      "source": [
        "menu.stream().noneMatch(dish -> dish.getCalorie() < 10)"
      ],
      "metadata": {
        "colab": {
          "base_uri": "https://localhost:8080/"
        },
        "id": "MO-YVAT7-jhS",
        "outputId": "9f6c2751-3b72-40bb-9b78-ab27325c9df9"
      },
      "execution_count": 692,
      "outputs": [
        {
          "output_type": "execute_result",
          "data": {
            "text/plain": [
              "true"
            ]
          },
          "metadata": {},
          "execution_count": 692
        }
      ]
    },
    {
      "cell_type": "markdown",
      "source": [
        "##### <font color='#F06C7C'> 5.4.3 Finding an element - `findAny`"
      ],
      "metadata": {
        "id": "-UK5-Hyf_LP_"
      }
    },
    {
      "cell_type": "markdown",
      "source": [
        "The `findAny` method returns an arbitrary element of the current stream. It can be used in conjunction with other stream operations. \n",
        "\n",
        "The `Optional<T>` class is a container class to represent the existence or absence of a value. Instead of returning `null`, which is well known for being error-prone, the Java 8 library introduces `Optional<T>`. Some few methods are below: \n",
        "\n",
        "- `isPresent()` returns `true` if `Optional` contains a value, `false` otherwise.\n",
        "- `ifPresent(Consumer<T> block)` executes the given block if a value is present. \n",
        "- `T get()` returns the value if present; otherwise it throws a `NoSuchElementExecution`. \n",
        "- `T orElse(T other)` returns the value if present; otherwise it returns a default value. "
      ],
      "metadata": {
        "id": "GkFUJIdR_OB1"
      }
    },
    {
      "cell_type": "code",
      "source": [
        "menu.stream()\n",
        "    .filter(Dish::isVegetarian)\n",
        "    .findAny()              // returns Optional[Chontaduro]\n",
        "    .ifPresent(dish -> System.out.println(dish.getName())); "
      ],
      "metadata": {
        "colab": {
          "base_uri": "https://localhost:8080/"
        },
        "id": "0ziuoni-CZHz",
        "outputId": "aa393887-3e07-46b6-96cc-7949c1f27e5b"
      },
      "execution_count": 693,
      "outputs": [
        {
          "output_type": "stream",
          "name": "stdout",
          "text": [
            "Chontaduro\n"
          ]
        }
      ]
    },
    {
      "cell_type": "markdown",
      "source": [
        "#### 5.5 Reducing"
      ],
      "metadata": {
        "id": "6xLoOwNdGEhS"
      }
    },
    {
      "cell_type": "markdown",
      "source": [
        "##### <font color='#F06C7C'> 5.5.1 Summing the elements - `reduce`, `Integer::sum`"
      ],
      "metadata": {
        "id": "Fd-CA3YKGGsW"
      }
    },
    {
      "cell_type": "markdown",
      "source": [
        "The `reduce` method takes two arguments: \n",
        "\n",
        "- An initial value. \n",
        "- A `BinaryOperator<T>` to combine two elements and produce a new value. "
      ],
      "metadata": {
        "id": "HNjVcoARGJ28"
      }
    },
    {
      "cell_type": "code",
      "source": [
        "List<Integer> nums = List.of(1, 2, 3, 4, 5);\n",
        "\n",
        "nums.stream()\n",
        "    .reduce(0, (x, y) -> x + y);"
      ],
      "metadata": {
        "colab": {
          "base_uri": "https://localhost:8080/"
        },
        "id": "5Jw6Yx1YGvAj",
        "outputId": "dfaaa103-4393-44ad-d8b4-0dbc7f0bfcc9"
      },
      "execution_count": 694,
      "outputs": [
        {
          "output_type": "execute_result",
          "data": {
            "text/plain": [
              "15"
            ]
          },
          "metadata": {},
          "execution_count": 694
        }
      ]
    },
    {
      "cell_type": "code",
      "source": [
        "nums.stream()\n",
        "    // method reference\n",
        "    .reduce(0, Integer::sum);"
      ],
      "metadata": {
        "colab": {
          "base_uri": "https://localhost:8080/"
        },
        "id": "2_j4h0hgHteM",
        "outputId": "d3bb78d9-e145-457b-e820-89fc73f3b6de"
      },
      "execution_count": 695,
      "outputs": [
        {
          "output_type": "execute_result",
          "data": {
            "text/plain": [
              "15"
            ]
          },
          "metadata": {},
          "execution_count": 695
        }
      ]
    },
    {
      "cell_type": "code",
      "source": [
        "nums.stream()\n",
        "    .reduce((a, b) -> (a * b))      // returns Optional type \n",
        "    .get();"
      ],
      "metadata": {
        "colab": {
          "base_uri": "https://localhost:8080/"
        },
        "id": "ct_NoBjrH3rl",
        "outputId": "3ea9ded4-8bbd-4188-d61a-e9fd68b51df4"
      },
      "execution_count": 696,
      "outputs": [
        {
          "output_type": "execute_result",
          "data": {
            "text/plain": [
              "120"
            ]
          },
          "metadata": {},
          "execution_count": 696
        }
      ]
    },
    {
      "cell_type": "markdown",
      "source": [
        "##### <font color='#F06C7C'> 5.5.2 Maximum and minimum - `reduce`, `Integer::min`, `Integer::max`"
      ],
      "metadata": {
        "id": "3fPUVgofILhX"
      }
    },
    {
      "cell_type": "code",
      "source": [
        "System.out.println(nums.stream().reduce(Integer::max).get());\n",
        "System.out.println(nums.stream().reduce(Integer::min).get());"
      ],
      "metadata": {
        "colab": {
          "base_uri": "https://localhost:8080/"
        },
        "id": "4heK4mw9Idtc",
        "outputId": "17c7294c-0428-49ae-8ad6-17a4efcd3d20"
      },
      "execution_count": 697,
      "outputs": [
        {
          "output_type": "stream",
          "name": "stdout",
          "text": [
            "5\n",
            "1\n"
          ]
        }
      ]
    },
    {
      "cell_type": "markdown",
      "source": [
        "##### Benefit of the reduce method and parallelism "
      ],
      "metadata": {
        "id": "IQ8BZh0QJAq6"
      }
    },
    {
      "cell_type": "markdown",
      "source": [
        "The benefit of using `reduce` compared to the step-by-step iteration summation is that the iteration is abstracted using internal iteration, which enables the internal implementation to choose to perform the operation in parallel. \n",
        "\n",
        " But there is a price to pay to execute  this code in parallel: the lambda passed to `reduce` can't change state, and the operation needs to be associative and communicative so it can be executed in any order. "
      ],
      "metadata": {
        "id": "muLjUKxOJFnV"
      }
    },
    {
      "cell_type": "code",
      "source": [
        "nums.parallelStream().reduce(0, Integer::sum)"
      ],
      "metadata": {
        "colab": {
          "base_uri": "https://localhost:8080/"
        },
        "id": "I4_wQvSNJXrV",
        "outputId": "ea0d7d60-4b40-402e-ef59-3e4d0e508b6f"
      },
      "execution_count": 698,
      "outputs": [
        {
          "output_type": "execute_result",
          "data": {
            "text/plain": [
              "15"
            ]
          },
          "metadata": {},
          "execution_count": 698
        }
      ]
    },
    {
      "cell_type": "markdown",
      "source": [
        "##### Stream operations: stateless vs. stateful"
      ],
      "metadata": {
        "id": "ZVQN5FFdK4K3"
      }
    },
    {
      "cell_type": "markdown",
      "source": [
        "Operations like `map` and `filter` take each element from the input stream and produce zero or one result in the output stream. These operations are in general <u>**stateless**</u>: they don't have an internal state.\n",
        "\n",
        "But operations like `reduce`, `sum` or `max/min` need to have internal state to accumulate the result. The internal state is of <u>**bounded size**</u> no matter how many elements are in the stream being processed. \n",
        "\n",
        "By contrast, some operations like `sorted` or `distinct` require knowing the previous history to do their job, so the storage requirement of the operation is <u>**unbounded**</u>. This can be problematic if the data stream is large or infinite. These are called <u>**statefull**</u> operations."
      ],
      "metadata": {
        "id": "BF9euRQiK7Rg"
      }
    },
    {
      "cell_type": "markdown",
      "source": [
        "\n",
        "![image.png](data:image/png;base64,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)\n",
        "\n",
        "\n",
        "![image.png](data:image/png;base64,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)"
      ],
      "metadata": {
        "id": "NPqF41YdQCNX"
      }
    },
    {
      "cell_type": "markdown",
      "source": [
        "#### 5.6 Putting it all into practice - Traders and Transactions example"
      ],
      "metadata": {
        "id": "nv_yTAB8Q0oK"
      }
    },
    {
      "cell_type": "code",
      "source": [
        "// #@title specification\n",
        "public class Trader { \n",
        "\n",
        "    public final String name; \n",
        "    public final String city; \n",
        "\n",
        "    public Trader(String name, String city) { \n",
        "        this.name = name; \n",
        "        this.city = city; \n",
        "    }\n",
        "\n",
        "    public String getName() { return this.name; }\n",
        "    public String getCity() { return this.city; }\n",
        "\n",
        "    @Override\n",
        "    public String toString() { \n",
        "        return \"Trader: \" + this.name + \" in \" + this.city; \n",
        "    }\n",
        "}\n",
        "\n",
        "public class Transaction { \n",
        "\n",
        "    public final Trader trader; \n",
        "    public final int year; \n",
        "    public final int amount; \n",
        "\n",
        "    public Transaction(Trader trader, int year, int amount) { \n",
        "        this.trader = trader; \n",
        "        this.year = year; \n",
        "        this.amount = amount; \n",
        "    }\n",
        "\n",
        "    public Trader getTrader()   { return this.trader; }\n",
        "    public int getYear()        { return this.year; }\n",
        "    public int getAmount()      { return this.amount; }\n",
        "\n",
        "    @Override\n",
        "    public String toString() { \n",
        "        return \"{\" + this.trader + \", \" + this.year +  \", \" + this.amount + \"}\"; \n",
        "    }\n",
        "}\n",
        "\n",
        "Trader maria = new Trader(\"María\", \"Bello\"); \n",
        "Trader arya = new Trader(\"Arya\", \"Medellín\"); \n",
        "Trader maggie = new Trader(\"Maggie\", \"Envigado\"); \n",
        "Trader mateo = new Trader(\"Mateo\", \"Medellín\"); \n",
        "Trader estiven = new Trader(\"Estiven\", \"Itagüí\"); \n",
        "Trader simon = new Trader(\"Simon\", \"Seoul\"); \n",
        "\n",
        "List<Transaction> transactions = List.of(\n",
        "    new Transaction(maria, 2020, 200), \n",
        "    new Transaction(maria, 2021, 300), \n",
        "    new Transaction(maria, 2022, 350), \n",
        "    new Transaction(arya, 2021, 200),\n",
        "    new Transaction(arya, 2022, 100), \n",
        "    new Transaction(arya, 2023, 100),\n",
        "    new Transaction(maggie, 2019, 500),\n",
        "    new Transaction(maggie, 2022, 300),\n",
        "    new Transaction(mateo, 2022, 200), \n",
        "    new Transaction(mateo, 2023, 200), \n",
        "    new Transaction(estiven, 2019, 300), \n",
        "    new Transaction(simon, 2023, 100)\n",
        ")"
      ],
      "metadata": {
        "id": "pF0PAo85Q9ut",
        "cellView": "form"
      },
      "execution_count": 699,
      "outputs": []
    },
    {
      "cell_type": "code",
      "source": [
        "// TODO: FIND ALL THE TRANSACTIONS MADE IN 2022 \n",
        "transactions.stream()\n",
        "            .filter(t -> t.getYear() == 2022)\n",
        "            .forEach(System.out::println);"
      ],
      "metadata": {
        "id": "NUN1dwS-W3V_",
        "colab": {
          "base_uri": "https://localhost:8080/"
        },
        "outputId": "2341ad4b-8c34-4163-ad3c-fa2c1bfe56e3"
      },
      "execution_count": 701,
      "outputs": [
        {
          "output_type": "stream",
          "name": "stdout",
          "text": [
            "{Trader: María in Bello, 2022, 350}\n",
            "{Trader: Arya in Medellín, 2022, 100}\n",
            "{Trader: Maggie in Envigado, 2022, 300}\n",
            "{Trader: Mateo in Medellín, 2022, 200}\n"
          ]
        }
      ]
    },
    {
      "cell_type": "code",
      "source": [
        "// TODO: FIND UNIQUE CITIES WHERE TRADERS WORK \n",
        "transactions.stream()\n",
        "            .map(Transaction::getTrader)\n",
        "            .map(Trader::getCity)\n",
        "            .distinct()\n",
        "            .forEach(System.out::println);"
      ],
      "metadata": {
        "colab": {
          "base_uri": "https://localhost:8080/"
        },
        "id": "4Ep2CDRizwXh",
        "outputId": "a1738b0c-ebe9-4144-972d-303db1ea3bf0"
      },
      "execution_count": 702,
      "outputs": [
        {
          "output_type": "stream",
          "name": "stdout",
          "text": [
            "Bello\n",
            "Medellín\n",
            "Envigado\n",
            "Itagüí\n",
            "Seoul\n"
          ]
        }
      ]
    },
    {
      "cell_type": "code",
      "source": [
        "// TODO: SORT TRANSACTIONS IN DESCENDING ORDER \n",
        "transactions.stream()\n",
        "            .sorted(comparing(Transaction::getAmount).reversed())\n",
        "            .map(Transaction::getAmount)\n",
        "            .forEach(amount -> System.out.print(amount + \" \"));"
      ],
      "metadata": {
        "colab": {
          "base_uri": "https://localhost:8080/"
        },
        "id": "TT4voKEQ0u0i",
        "outputId": "00aed040-54ad-4055-a4fa-e5f000143324"
      },
      "execution_count": 703,
      "outputs": [
        {
          "output_type": "stream",
          "name": "stdout",
          "text": [
            "500 350 300 300 300 200 200 200 200 100 100 100 "
          ]
        }
      ]
    },
    {
      "cell_type": "code",
      "source": [
        "// TODO: SORT NAMES OF TRADERS IN AN ALPHABETICAL ORDER\n",
        "transactions.stream()\n",
        "            .map(Transaction::getTrader)\n",
        "            .map(Trader::getName)\n",
        "            .distinct()\n",
        "            .sorted()\n",
        "            .forEach(System.out::println);"
      ],
      "metadata": {
        "colab": {
          "base_uri": "https://localhost:8080/"
        },
        "id": "uCRAZMTa1zxM",
        "outputId": "f6f57fe4-6904-4ba0-fe66-64663fc9373c"
      },
      "execution_count": 704,
      "outputs": [
        {
          "output_type": "stream",
          "name": "stdout",
          "text": [
            "Arya\n",
            "Estiven\n",
            "Maggie\n",
            "María\n",
            "Mateo\n",
            "Simon\n"
          ]
        }
      ]
    },
    {
      "cell_type": "code",
      "source": [
        "// TODO: FIND IF ANY TRADERS ARE BASED IN ITAGÜÍ \n",
        "transactions.stream()\n",
        "            .map(Transaction::getTrader)\n",
        "            .anyMatch(t -> t.getCity() == \"Itagüí\");"
      ],
      "metadata": {
        "colab": {
          "base_uri": "https://localhost:8080/"
        },
        "id": "cIwsGPjC2OfD",
        "outputId": "3f315e35-0869-49aa-9688-d3d256552e01"
      },
      "execution_count": 705,
      "outputs": [
        {
          "output_type": "execute_result",
          "data": {
            "text/plain": [
              "true"
            ]
          },
          "metadata": {},
          "execution_count": 705
        }
      ]
    },
    {
      "cell_type": "code",
      "source": [
        "// TODO: FIND THE SUM AMOUNT OF TRANSACTIONS MADE IN MEDELLÍN, IN 2022\n",
        "transactions.stream()\n",
        "            .filter(t -> \"Medellín\".equals(t.getTrader().getCity()))\n",
        "            .filter(t -> t.getYear() == 2022)\n",
        "            .map(Transaction::getAmount)\n",
        "            .reduce(0, Integer::sum);"
      ],
      "metadata": {
        "colab": {
          "base_uri": "https://localhost:8080/"
        },
        "id": "ugb25fIw3G-Q",
        "outputId": "f31caed9-d7cd-40f6-a8dd-9ad8a85d531c"
      },
      "execution_count": 706,
      "outputs": [
        {
          "output_type": "execute_result",
          "data": {
            "text/plain": [
              "300"
            ]
          },
          "metadata": {},
          "execution_count": 706
        }
      ]
    },
    {
      "cell_type": "markdown",
      "source": [
        "#### 5.7 Numeric streams "
      ],
      "metadata": {
        "id": "5PYiF1fs5Jg_"
      }
    },
    {
      "cell_type": "markdown",
      "source": [
        "##### <font color='#F06C7C'> 5.7.1 Primitive stream specializations - `mapToInt`, `boxed`, `OptionalInt`, `getAsInt`"
      ],
      "metadata": {
        "id": "uqhOsVXK5PyA"
      }
    },
    {
      "cell_type": "markdown",
      "source": [
        "Java 8 introduces three primitive specialized stream interfaces to tackle the issue where unboxing the referential type to a primitive one is needed: `IntStream`, `DoubleStream`, and `LongStream`, which respectively specialize the elments of a stream to be `int`, `double` and `long` - and thereby avoid the boxing costs. "
      ],
      "metadata": {
        "id": "wn_CWICU5yIY"
      }
    },
    {
      "cell_type": "code",
      "source": [
        "int summedCalorie = menu.stream()\n",
        "                            .mapToInt(Dish::getCalorie)\n",
        "                            .sum();\n",
        "\n",
        "System.out.print(summedCalorie);"
      ],
      "metadata": {
        "colab": {
          "base_uri": "https://localhost:8080/"
        },
        "id": "pajPx35t61el",
        "outputId": "08b093a4-0c85-40f0-b7f1-fa2de8f1191d"
      },
      "execution_count": 707,
      "outputs": [
        {
          "output_type": "stream",
          "name": "stdout",
          "text": [
            "615"
          ]
        }
      ]
    },
    {
      "cell_type": "markdown",
      "source": [
        "Similarly, once you have a numeric stream, you may be interested in converting it back to a nonspecialized stream."
      ],
      "metadata": {
        "id": "Y4GXa_Cr7LD2"
      }
    },
    {
      "cell_type": "code",
      "source": [
        "menu.stream()\n",
        "    .mapToInt(Dish::getCalorie) // map to IntStream\n",
        "    .boxed()        // back to Stream<Integer>\n",
        "    .reduce(0, Integer::sum);"
      ],
      "metadata": {
        "colab": {
          "base_uri": "https://localhost:8080/"
        },
        "id": "R16HI30F7Uye",
        "outputId": "8ec6df99-f93a-4419-ba0e-1aa861693943"
      },
      "execution_count": 708,
      "outputs": [
        {
          "output_type": "execute_result",
          "data": {
            "text/plain": [
              "615"
            ]
          },
          "metadata": {},
          "execution_count": 708
        }
      ]
    },
    {
      "cell_type": "markdown",
      "source": [
        "There is a primitive specialized version of `Optional`: `OptionalInt`, `OptionalDouble`, `OptionalLong`."
      ],
      "metadata": {
        "id": "JiUheykN8Hmc"
      }
    },
    {
      "cell_type": "code",
      "source": [
        "OptionalInt maxCalorie = menu.stream()\n",
        "                                .mapToInt(Dish::getCalorie)\n",
        "                                .max();\n",
        "\n",
        "maxCalorie.getAsInt();"
      ],
      "metadata": {
        "colab": {
          "base_uri": "https://localhost:8080/"
        },
        "id": "Ls7J0Ccu8GsY",
        "outputId": "ea19f9a7-9fea-4611-c89a-38b3da3f7df5"
      },
      "execution_count": 709,
      "outputs": [
        {
          "output_type": "execute_result",
          "data": {
            "text/plain": [
              "150"
            ]
          },
          "metadata": {},
          "execution_count": 709
        }
      ]
    },
    {
      "cell_type": "markdown",
      "source": [
        "##### <font color='#F06C7C'> 5.7.2 Numeric ranges - `range`, `rangeClosed`"
      ],
      "metadata": {
        "id": "xDoyLbEr80RO"
      }
    },
    {
      "cell_type": "markdown",
      "source": [
        "Java 8 introduces two static methods available on `IntStream` and `LongStream` to help generate ranges: `range` and `rangeClosed`. "
      ],
      "metadata": {
        "id": "M039TSGi86Ue"
      }
    },
    {
      "cell_type": "code",
      "source": [
        "IntStream.rangeClosed(1, 20)\n",
        "            .filter(n -> n % 2 == 0)\n",
        "            .forEach(num -> System.out.print(num + \" \"));"
      ],
      "metadata": {
        "colab": {
          "base_uri": "https://localhost:8080/"
        },
        "id": "81vN_0Zl82rH",
        "outputId": "148f5895-f38d-41c8-f881-c58db29ec146"
      },
      "execution_count": 710,
      "outputs": [
        {
          "output_type": "stream",
          "name": "stdout",
          "text": [
            "2 4 6 8 10 12 14 16 18 20 "
          ]
        }
      ]
    },
    {
      "cell_type": "code",
      "source": [
        "IntStream.range(1, 20)\n",
        "            .filter(n -> n % 2 == 0)\n",
        "            .forEach(num -> System.out.print(num + \" \"));"
      ],
      "metadata": {
        "colab": {
          "base_uri": "https://localhost:8080/"
        },
        "id": "3DXxZSwU9kz7",
        "outputId": "af89a5dc-19df-4869-d52d-2a1a5def835f"
      },
      "execution_count": 711,
      "outputs": [
        {
          "output_type": "stream",
          "name": "stdout",
          "text": [
            "2 4 6 8 10 12 14 16 18 "
          ]
        }
      ]
    },
    {
      "cell_type": "markdown",
      "source": [
        "##### <font color='#F06C7C'> 5.7.3 Putting numerical streams into practice: Pythagorean triples"
      ],
      "metadata": {
        "id": "76_9q3wj-Yt6"
      }
    },
    {
      "cell_type": "markdown",
      "source": [
        "###### Partial logic: Generating B values (on assumption where a equals 12)"
      ],
      "metadata": {
        "id": "kZOQT70XN-8D"
      }
    },
    {
      "cell_type": "markdown",
      "source": [
        "**`IntStream.map()` expects only another `int` to be returned, which is not what we want, since we try to generate `int[]`, an object other than `int`. So we change `IntStream` to `Stream<Integer>`, since Stream.map() doesn't have such restriction.**"
      ],
      "metadata": {
        "id": "caU-C_n4N4FO"
      }
    },
    {
      "cell_type": "code",
      "source": [
        "IntStream.rangeClosed(1, 100) \n",
        "         .filter(b -> Math.sqrt(12 * 12 + b * b) % 1 == 0)\n",
        "         .boxed() \n",
        "         .map(b -> new int[]{12, b, (int)Math.sqrt(12 * 12 + b * b)}) // array of int\n",
        "         .forEach(t -> System.out.println(t[0] + \" \" + t[1] + \" \" + t[2]));"
      ],
      "metadata": {
        "colab": {
          "base_uri": "https://localhost:8080/"
        },
        "id": "LnZS2CDRE6Hf",
        "outputId": "6d4bf94e-4ec5-4e12-fedb-bcf272effbf2"
      },
      "execution_count": 712,
      "outputs": [
        {
          "output_type": "stream",
          "name": "stdout",
          "text": [
            "12 5 13\n",
            "12 9 15\n",
            "12 16 20\n",
            "12 35 37\n"
          ]
        }
      ]
    },
    {
      "cell_type": "markdown",
      "source": [
        "Or you can use `IntStream.mapToObj`, which can take `Object` type object as its return."
      ],
      "metadata": {
        "id": "84lnfIOtODls"
      }
    },
    {
      "cell_type": "code",
      "source": [
        "IntStream.rangeClosed(1, 100) \n",
        "         .filter(b -> Math.sqrt(12 * 12 + b * b) % 1 == 0)\n",
        "         .mapToObj(b -> new int[]{12, b, (int)Math.sqrt(12 * 12 + b * b)}) // array of int\n",
        "         .forEach(t -> System.out.println(t[0] + \" \" + t[1] + \" \" + t[2]));"
      ],
      "metadata": {
        "colab": {
          "base_uri": "https://localhost:8080/"
        },
        "id": "q9Hm8JVqONHJ",
        "outputId": "45a3cf8b-ec34-4b42-c879-fa274fa41dd1"
      },
      "execution_count": 713,
      "outputs": [
        {
          "output_type": "stream",
          "name": "stdout",
          "text": [
            "12 5 13\n",
            "12 9 15\n",
            "12 16 20\n",
            "12 35 37\n"
          ]
        }
      ]
    },
    {
      "cell_type": "markdown",
      "source": [
        "###### Solution code"
      ],
      "metadata": {
        "id": "ojcoZx5vOWSX"
      }
    },
    {
      "cell_type": "code",
      "source": [
        "// TODO: CONSTRUCT A STREAM THAT GENERATES PYTHAGOREAN TRIPLES, \n",
        "//       WHERE THE LEAST VALUE OF TUPLES REMAINS UNDER 20 AND THE SECOND LEAST VALUE OF TUPLES REMAINS UNDER 100.\n",
        "\n",
        "IntStream.rangeClosed(1, 20)\n",
        "            .boxed()  \n",
        "            .flatMap(a -> IntStream.rangeClosed(a, 100)\n",
        "                                   .filter(b -> Math.sqrt(a * a + b * b) % 1 == 0) \n",
        "                                   .mapToObj(b -> new int[]{a, b, (int)Math.sqrt(a * a + b * b)}))\n",
        "            .filter(t -> t[0] <= 20)\n",
        "            .forEach(t -> System.out.println(t[0] + \", \" + t[1] + \", \" + t[2]))"
      ],
      "metadata": {
        "colab": {
          "base_uri": "https://localhost:8080/"
        },
        "id": "uQpXZ36P-fUC",
        "outputId": "e7f24f5c-eef2-4391-93c2-a22db864aec8"
      },
      "execution_count": 714,
      "outputs": [
        {
          "output_type": "stream",
          "name": "stdout",
          "text": [
            "3, 4, 5\n",
            "5, 12, 13\n",
            "6, 8, 10\n",
            "7, 24, 25\n",
            "8, 15, 17\n",
            "9, 12, 15\n",
            "9, 40, 41\n",
            "10, 24, 26\n",
            "11, 60, 61\n",
            "12, 16, 20\n",
            "12, 35, 37\n",
            "13, 84, 85\n",
            "14, 48, 50\n",
            "15, 20, 25\n",
            "15, 36, 39\n",
            "16, 30, 34\n",
            "16, 63, 65\n",
            "18, 24, 30\n",
            "18, 80, 82\n",
            "20, 21, 29\n",
            "20, 48, 52\n",
            "20, 99, 101\n"
          ]
        }
      ]
    },
    {
      "cell_type": "markdown",
      "source": [
        "#### 5.8 Building streams"
      ],
      "metadata": {
        "id": "MFe1og125jIZ"
      }
    },
    {
      "cell_type": "markdown",
      "source": [
        "##### <font color='#F06C7C'> 5.8.1 Streams from values - `Stream.of`"
      ],
      "metadata": {
        "id": "h4j0ph8Z5yFJ"
      }
    },
    {
      "cell_type": "markdown",
      "source": [
        "You can create a stream with explicit values by using the static method `Stream.of`. "
      ],
      "metadata": {
        "id": "DZiJidj-6O_a"
      }
    },
    {
      "cell_type": "code",
      "source": [
        "Stream.of(\"Modern\", \"Java\", \"In\", \"Action\")\n",
        "        .map(String::toUpperCase)\n",
        "        .forEach(System.out::println);"
      ],
      "metadata": {
        "colab": {
          "base_uri": "https://localhost:8080/"
        },
        "id": "0vl2R3Nw6OLS",
        "outputId": "d0ee51c1-9f7f-421d-cc93-085145df14be"
      },
      "execution_count": 715,
      "outputs": [
        {
          "output_type": "stream",
          "name": "stdout",
          "text": [
            "MODERN\n",
            "JAVA\n",
            "IN\n",
            "ACTION\n"
          ]
        }
      ]
    },
    {
      "cell_type": "markdown",
      "source": [
        "##### <font color='#F06C7C'> 5.8.2 Stream from nullable - `ofNullable`"
      ],
      "metadata": {
        "id": "Eb64xQru64DN"
      }
    },
    {
      "cell_type": "markdown",
      "source": [
        "After playing with streams, you may have encountered a situation where you extracted an object that may be null and then needs to be converted into a stream. In Java 9, a new method was added that allows you create a stream from a nullable object. For example, the method `System.getProperty` returns `null` if there is no property with the given key. Using `Stream.ofNullable` you can write the code more simply. "
      ],
      "metadata": {
        "id": "9vF3PLJV7y0I"
      }
    },
    {
      "cell_type": "code",
      "source": [
        "Stream<String> possibleNullValue = Stream.of(\"config\", \"home\", \"user\")\n",
        "                                         .flatMap(key -> Stream.ofNullable(System.getProperty(key)));"
      ],
      "metadata": {
        "id": "2qJtznEC8k3i"
      },
      "execution_count": 716,
      "outputs": []
    },
    {
      "cell_type": "markdown",
      "source": [
        "##### <font color='#F06C7C'> 5.8.3 Streams from arrays - `Arrays.stream`\n"
      ],
      "metadata": {
        "id": "-0pYEA11-Sdg"
      }
    },
    {
      "cell_type": "markdown",
      "source": [
        "`Arrays.stream` returns a sequential `Stream` with the specified array as its source. For example, you can convert an array of primitive `int[]` to an `IntStream` using `Arrays.stream`. "
      ],
      "metadata": {
        "id": "V4sG8UXj-pEX"
      }
    },
    {
      "cell_type": "code",
      "source": [
        "Arrays.stream(new int[] {2, 3, 5, 7, 11}).sum();"
      ],
      "metadata": {
        "colab": {
          "base_uri": "https://localhost:8080/"
        },
        "id": "c1ZBBVt--3yl",
        "outputId": "9373341f-b94a-4dc8-d495-530f0853041d"
      },
      "execution_count": 717,
      "outputs": [
        {
          "output_type": "execute_result",
          "data": {
            "text/plain": [
              "28"
            ]
          },
          "metadata": {},
          "execution_count": 717
        }
      ]
    },
    {
      "cell_type": "markdown",
      "source": [
        "##### <font color='#F06C7C'> 5.8.4 Streams from files - `Files.lines`"
      ],
      "metadata": {
        "id": "4HIMdD_o_Q1P"
      }
    },
    {
      "cell_type": "markdown",
      "source": [
        "Java's NIO API(non-blocking I/O), which is used for I/O opeartions such as processing a file, has been updated to take advantage of the Streams API. Many static methods in `java.nio.file.Files` return a stream. For example, a useful method is `Files.lines`, which gives you a stream of lines as strings from a given file. "
      ],
      "metadata": {
        "id": "EKlKBnwj_cdg"
      }
    },
    {
      "cell_type": "code",
      "source": [
        "try { \n",
        "    File f = new File(\"demoData.txt\"); \n",
        "    f.createNewFile(); \n",
        "\n",
        "    FileWriter fw = new FileWriter(\"demoData.txt\"); \n",
        "\n",
        "    fw.write(\"Hello World, Hello Java, Hello Stream API\");\n",
        "    fw.write(\"Stream API is fun to learn!\");\n",
        "\n",
        "    fw.close(); \n",
        "\n",
        "} catch (IOException e) { System.out.print(e); }"
      ],
      "metadata": {
        "id": "dreszuaSAMjs"
      },
      "execution_count": 718,
      "outputs": []
    },
    {
      "cell_type": "code",
      "source": [
        "long uniqueWords = 0; \n",
        "try (Stream<String> lines = Files.lines(Paths.get(\"demoData.txt\"), Charset.defaultCharset())) { \n",
        "        uniqueWords = lines.flatMap(line -> Arrays.stream(line.split(\" \")))\n",
        "                           .distinct()\n",
        "                           .count();\n",
        "\n",
        "} catch (IOException e) { System.out.print(e); }\n",
        "\n",
        "System.out.print(uniqueWords);"
      ],
      "metadata": {
        "colab": {
          "base_uri": "https://localhost:8080/"
        },
        "id": "S_WyZDpy_4gl",
        "outputId": "f1d93401-bff7-4e54-8aa6-2f7e8535ea8b"
      },
      "execution_count": 719,
      "outputs": [
        {
          "output_type": "stream",
          "name": "stdout",
          "text": [
            "10"
          ]
        }
      ]
    },
    {
      "cell_type": "markdown",
      "source": [
        "##### <font color='#F06C7C'> 5.8.5 Streams from function: creating infinte streams! - `iterate`, `generate`"
      ],
      "metadata": {
        "id": "stokMAN0PuHl"
      }
    },
    {
      "cell_type": "markdown",
      "source": [
        "The Stream API provides two static methods to generate a stream from a function: `Stream.iterate` and `Stream.generate`. These two operations let you create what we call an <u>infinite stream</u>, a stream that doesn't have a fixed size like when you create a stream from a fixed collection. The `iterate` method takes an initial value and a lambda to apply successively on each new value produced. "
      ],
      "metadata": {
        "id": "7kjLQBpwP4Zr"
      }
    },
    {
      "cell_type": "code",
      "source": [
        "Stream.iterate(2, n -> n + 2)\n",
        "      .limit(10)\n",
        "      .forEach(t -> System.out.print(t + \" \"));"
      ],
      "metadata": {
        "colab": {
          "base_uri": "https://localhost:8080/"
        },
        "id": "VhL27EpJRFFN",
        "outputId": "299826fc-c1c5-4e46-dafa-96e1aa1fb643"
      },
      "execution_count": 720,
      "outputs": [
        {
          "output_type": "stream",
          "name": "stdout",
          "text": [
            "2 4 6 8 10 12 14 16 18 20 "
          ]
        }
      ]
    },
    {
      "cell_type": "code",
      "source": [
        "Stream.generate(Math::random)\n",
        "      .limit(5)\n",
        "      .forEach(System.out::println);"
      ],
      "metadata": {
        "colab": {
          "base_uri": "https://localhost:8080/"
        },
        "id": "m4Vzom5KWik4",
        "outputId": "34e8a141-711d-46af-b7b9-514ee759eadf"
      },
      "execution_count": 721,
      "outputs": [
        {
          "output_type": "stream",
          "name": "stdout",
          "text": [
            "0.17814826729276256\n",
            "0.19310802375018943\n",
            "0.535844961429464\n",
            "0.796827743531734\n",
            "0.2555010252156712\n"
          ]
        }
      ]
    },
    {
      "cell_type": "markdown",
      "source": [
        "###### Constructing Fibonacci series using `iterate`"
      ],
      "metadata": {
        "id": "MPMKDqc-VL0u"
      }
    },
    {
      "cell_type": "code",
      "source": [
        "Stream.iterate(new int[] {0, 1}, t -> new int[]{t[1], t[0] + t[1]})\n",
        "      .limit(20)\n",
        "      .map(t -> t[0]) \n",
        "      .forEach(t -> System.out.print(t + \" \"));"
      ],
      "metadata": {
        "colab": {
          "base_uri": "https://localhost:8080/"
        },
        "id": "uYWu3_z2Rx8P",
        "outputId": "ec7be175-a127-4895-97f5-35b053c0cd7a"
      },
      "execution_count": 722,
      "outputs": [
        {
          "output_type": "stream",
          "name": "stdout",
          "text": [
            "0 1 1 2 3 5 8 13 21 34 55 89 144 233 377 610 987 1597 2584 4181 "
          ]
        }
      ]
    },
    {
      "cell_type": "markdown",
      "source": [
        "### Chapter 6. Collecting data with steams "
      ],
      "metadata": {
        "id": "59BRZktXEb_D"
      }
    },
    {
      "cell_type": "markdown",
      "source": [
        "In this chapter, you will discover that `collect` is a reduction operation, just like `reduce`, that takes as an argument various recipes for accumulating the elements of a strea into a summary result.\n"
      ],
      "metadata": {
        "id": "aU0wi_A5tE4f"
      }
    },
    {
      "cell_type": "markdown",
      "source": [
        "#### 6.1 Collectors in a nutshell "
      ],
      "metadata": {
        "id": "xFQGPewYv2tX"
      }
    },
    {
      "cell_type": "markdown",
      "source": [
        "##### <font color='#F06C7C'> 6.1.1 Collectors as advanced reductions"
      ],
      "metadata": {
        "id": "X3Jd2mmqw1yC"
      }
    },
    {
      "cell_type": "markdown",
      "source": [
        "Collectors are extremely useful because they provide a concise yet flexible way to define <u>**the criteria that `collect` uses to produce the resulting collection**</u>. More speicifically, invoking the `collect` method on a stream <u>**triggers a reduction operation on the elements of the stream itself**</u>. This reduction operation does for you internally what you had to code imperatively otherwise using Stream API. \n",
        "\n",
        " The implementation of the methods of the `Collector` interface defines how to perform a reduction operation on a stream. `Collector` utility class provides lots of static factory methods to conveniently create an instance of the most common collectors that are ready to use. The most straightforward and frequently used collector is the `toList` static method."
      ],
      "metadata": {
        "id": "6sNYidG0zblX"
      }
    },
    {
      "cell_type": "code",
      "source": [
        "transactions.stream()\n",
        "            .filter(t -> t.getYear() == 2022)\n",
        "            .collect(Collectors.toList());"
      ],
      "metadata": {
        "colab": {
          "base_uri": "https://localhost:8080/"
        },
        "id": "09wMBzTP135r",
        "outputId": "50d2f26f-2e63-4cbe-e516-3dc8d26097ff"
      },
      "execution_count": 60,
      "outputs": [
        {
          "output_type": "execute_result",
          "data": {
            "text/plain": [
              "[{Trader: María in Bello, 2022, 350}, {Trader: Arya in Medellín, 2022, 100}, {Trader: Maggie in Envigado, 2022, 300}, {Trader: Mateo in Medellín, 2022, 200}]"
            ]
          },
          "metadata": {},
          "execution_count": 60
        }
      ]
    },
    {
      "cell_type": "markdown",
      "source": [
        "##### <font color='#F06C7C'> 6.1.2 Predifined collectors "
      ],
      "metadata": {
        "id": "MEJnj30y3Uuu"
      }
    },
    {
      "cell_type": "markdown",
      "source": [
        "Predefined collectors offer three main functionalities. \n",
        "\n",
        "- <u>**Reducing and summarizing**</u> stream elements to a single value \n",
        "- <u>**Grouping**</u>  elements\n",
        "- <u>**Partitioning**<u> elements "
      ],
      "metadata": {
        "id": "QeFzTsLh3g2v"
      }
    },
    {
      "cell_type": "markdown",
      "source": [
        "#### 6.2 Reducing and summarizing"
      ],
      "metadata": {
        "id": "oDQgeCpG4vCs"
      }
    },
    {
      "cell_type": "markdown",
      "source": [
        "##### <font color='#F06C7C'> 6.2.1 Finding maximum and minimum in a stream of values - `maxBy`, `minBy`"
      ],
      "metadata": {
        "id": "EiSZ0SiN4ys1"
      }
    },
    {
      "cell_type": "markdown",
      "source": [
        "The `Collectors.maxBy` and `Collectors.minBy` take a `Comparator` as argument to compare the elments in the stream. "
      ],
      "metadata": {
        "id": "-Ea2c2Ei6bLm"
      }
    },
    {
      "cell_type": "code",
      "source": [
        "menu.stream()\n",
        "    .collect(Collectors.maxBy(Comparator.comparingInt(Dish::getCalorie)))\n",
        "    .get();"
      ],
      "metadata": {
        "colab": {
          "base_uri": "https://localhost:8080/"
        },
        "id": "W0Cu-sjq6-OE",
        "outputId": "2f5f2790-a4cf-45c1-cea2-fbba6d54a533"
      },
      "execution_count": 61,
      "outputs": [
        {
          "output_type": "execute_result",
          "data": {
            "text/plain": [
              "Pork"
            ]
          },
          "metadata": {},
          "execution_count": 61
        }
      ]
    },
    {
      "cell_type": "markdown",
      "source": [
        "##### <font color='#F06C7C'> 6.2.2 Summarization - `summingInt`, `averagingInt`, `summarizingInt`"
      ],
      "metadata": {
        "id": "Ty2JdqUb8u14"
      }
    },
    {
      "cell_type": "markdown",
      "source": [
        "The `Collectors` class provides a specific factory method for summing: `Collectors.summingInt`. It accepts a function that maps an object into the `int` that has to be summed and returns a collector that performs the requested summarization. "
      ],
      "metadata": {
        "id": "i5wsoHeP9bcY"
      }
    },
    {
      "cell_type": "code",
      "source": [
        "menu.stream()\n",
        "    .collect(Collectors.summingInt(Dish::getCalorie));\n",
        "\n",
        "/* same as \n",
        "menu.stream()\n",
        "    .map(Dish::getCalorie)\n",
        "    .reduce(0, Integer::sum);\n",
        "*/"
      ],
      "metadata": {
        "colab": {
          "base_uri": "https://localhost:8080/"
        },
        "id": "Sm3qPhqZ890P",
        "outputId": "e306c7a5-0a30-4c6b-8b75-106fb3c8837c"
      },
      "execution_count": 62,
      "outputs": [
        {
          "output_type": "execute_result",
          "data": {
            "text/plain": [
              "615"
            ]
          },
          "metadata": {},
          "execution_count": 62
        }
      ]
    },
    {
      "cell_type": "code",
      "source": [
        "menu.stream()\n",
        "    .collect(Collectors.averagingInt(Dish::getCalorie));"
      ],
      "metadata": {
        "colab": {
          "base_uri": "https://localhost:8080/"
        },
        "id": "jpH8d29QBjaX",
        "outputId": "fec88f9e-ecbd-443e-cda8-ef72134a1dd5"
      },
      "execution_count": 63,
      "outputs": [
        {
          "output_type": "execute_result",
          "data": {
            "text/plain": [
              "61.5"
            ]
          },
          "metadata": {},
          "execution_count": 63
        }
      ]
    },
    {
      "cell_type": "code",
      "source": [
        "menu.stream()\n",
        "    .collect(Collectors.summarizingInt(Dish::getCalorie));"
      ],
      "metadata": {
        "colab": {
          "base_uri": "https://localhost:8080/"
        },
        "id": "AqVCNknPCk0j",
        "outputId": "2b11aabc-99c1-4e60-cfb1-1a482ab033f1"
      },
      "execution_count": 64,
      "outputs": [
        {
          "output_type": "execute_result",
          "data": {
            "text/plain": [
              "IntSummaryStatistics{count=10, sum=615, min=10, average=61.500000, max=150}"
            ]
          },
          "metadata": {},
          "execution_count": 64
        }
      ]
    },
    {
      "cell_type": "markdown",
      "source": [
        "##### <font color='#F06C7C'> 6.2.3 Joining Strings - `joining`"
      ],
      "metadata": {
        "id": "PY9RrtToDG14"
      }
    },
    {
      "cell_type": "markdown",
      "source": [
        "The collector returned by the `joining` factory method concatenates into a single string, all strings resulting from invoking the `toString` method on each object in the stream. The `joining` factory method is <u>**overloaded**</u>, with one of its overloaded variants taking a string used <u>**to delimit two consecutive elements**</u>, so you can obtain a comma-seperated list of the dishes' names. "
      ],
      "metadata": {
        "id": "P67fwLH_DJMG"
      }
    },
    {
      "cell_type": "code",
      "source": [
        "menu.stream()\n",
        "    .map(Dish::getName)\n",
        "    .collect(Collectors.joining(\", \"));"
      ],
      "metadata": {
        "colab": {
          "base_uri": "https://localhost:8080/"
        },
        "id": "YbGADHmRFz7q",
        "outputId": "f3749a15-1ee5-49a2-88f6-f796375db131"
      },
      "execution_count": 65,
      "outputs": [
        {
          "output_type": "execute_result",
          "data": {
            "text/plain": [
              "Chontaduro, Borojo, Maracuya, Naranja, Guayaba, Platano, Pork, Chicken, Beef, Salmon"
            ]
          },
          "metadata": {},
          "execution_count": 65
        }
      ]
    },
    {
      "cell_type": "markdown",
      "source": [
        "##### <font color='#F06C7C'> 6.2.4 Generalized summarization with reduction - `reducing`"
      ],
      "metadata": {
        "id": "g3mJiV6aGGe0"
      }
    },
    {
      "cell_type": "markdown",
      "source": [
        "All the collectors we’ve discussed so far are, in reality, only convenient specializations of a reduction process that can be defined using the reducing factory method. The Collectors.reducing factory method is a generalization of all of them. It can take three arguments: \n",
        "\n",
        "- the first argument is <u>**the starting value**</u> of the reduction operation, and will also be the value returned in cas of a stream with no elements. \n",
        "- the second argument is a <u>**function to transform elements into corresponding type**</u> for performing further operations. \n",
        "- the third argument is a <u>**`BinaryOperator` that aggregates two items into a single value of the same type**</u>. \n",
        "\n",
        " The one argument that `reducing` accepts is a `BinaryOperator<T>` that's a `BiFunction<T, T, T>`. This means that it wants a function <u>**taking two arguments and returns a value of the same type**</u>. "
      ],
      "metadata": {
        "id": "uxgdEWkyGL59"
      }
    },
    {
      "cell_type": "code",
      "source": [
        "menu.stream()\n",
        "    .collect(Collectors.reducing(0, Dish::getCalorie, (i, j) -> i + j));"
      ],
      "metadata": {
        "colab": {
          "base_uri": "https://localhost:8080/"
        },
        "id": "rAp3DKhPGWor",
        "outputId": "4ac8d0eb-7e49-4991-c68a-ce835aaee3b5"
      },
      "execution_count": 66,
      "outputs": [
        {
          "output_type": "execute_result",
          "data": {
            "text/plain": [
              "615"
            ]
          },
          "metadata": {},
          "execution_count": 66
        }
      ]
    },
    {
      "cell_type": "code",
      "source": [
        "menu.stream()\n",
        "    .collect(Collectors.reducing((d1, d2) -> d1.getCalorie() > d2.getCalorie() ? d1 : d2))\n",
        "    .get(); "
      ],
      "metadata": {
        "colab": {
          "base_uri": "https://localhost:8080/"
        },
        "id": "m7_f3Q8CHZwz",
        "outputId": "8a923645-e41c-4dc4-aecb-5ef02c5db0c8"
      },
      "execution_count": 67,
      "outputs": [
        {
          "output_type": "execute_result",
          "data": {
            "text/plain": [
              "Pork"
            ]
          },
          "metadata": {},
          "execution_count": 67
        }
      ]
    },
    {
      "cell_type": "code",
      "source": [
        "menu.stream()\n",
        "    .map(Dish::getName)\n",
        "    .collect(Collectors.reducing((s1, s2) -> s1 + s2))\n",
        "    .get();"
      ],
      "metadata": {
        "colab": {
          "base_uri": "https://localhost:8080/"
        },
        "id": "vBPtSWUcMzp0",
        "outputId": "359028c8-3838-403c-d097-30d10b2f27d8"
      },
      "execution_count": 68,
      "outputs": [
        {
          "output_type": "execute_result",
          "data": {
            "text/plain": [
              "ChontaduroBorojoMaracuyaNaranjaGuayabaPlatanoPorkChickenBeefSalmon"
            ]
          },
          "metadata": {},
          "execution_count": 68
        }
      ]
    },
    {
      "cell_type": "code",
      "source": [
        "menu.stream()\n",
        "    .collect(Collectors.reducing(\"\", Dish::getName, (s1, s2)-> s1 + s2));"
      ],
      "metadata": {
        "colab": {
          "base_uri": "https://localhost:8080/"
        },
        "id": "Nu_il9YBORi_",
        "outputId": "c1cb4d5a-2e73-4b44-c7bb-744d0614d6da"
      },
      "execution_count": 69,
      "outputs": [
        {
          "output_type": "execute_result",
          "data": {
            "text/plain": [
              "ChontaduroBorojoMaracuyaNaranjaGuayabaPlatanoPorkChickenBeefSalmon"
            ]
          },
          "metadata": {},
          "execution_count": 69
        }
      ]
    },
    {
      "cell_type": "markdown",
      "source": [
        "#### 6.3 Grouping "
      ],
      "metadata": {
        "id": "vATnSQtVPH_G"
      }
    },
    {
      "cell_type": "markdown",
      "source": [
        "When you use `Collectors.groupingBy` to classify elements into according classes, you pass to the `groupingBy` method a `Function` extracting the corresponding type for each element in the stream. We call this `Function ` a <u>**classification function**</u>. \n",
        "\n",
        "It is not always possible to use a method reference when passing the classification function into `groupingBy` method, because <u>you may wish to classify using more complex logic than a simple property accessor.</u>"
      ],
      "metadata": {
        "id": "TnNJ2q2VPMad"
      }
    },
    {
      "cell_type": "code",
      "source": [
        "Map<Dish.Type, List<Dish>> dishesByType = \n",
        "        menu.stream()\n",
        "            .collect(Collectors.groupingBy(Dish::getType));\n",
        "\n",
        "System.out.print(dishesByType);"
      ],
      "metadata": {
        "colab": {
          "base_uri": "https://localhost:8080/"
        },
        "id": "wCS9y8-pTw-M",
        "outputId": "9df036b0-498c-4c4e-ec69-ceb62a42a815"
      },
      "execution_count": 70,
      "outputs": [
        {
          "output_type": "stream",
          "name": "stdout",
          "text": [
            "{MEAT=[Pork, Chicken, Beef], FISH=[Salmon], FRUIT=[Chontaduro, Borojo, Maracuya, Naranja, Guayaba, Platano]}"
          ]
        }
      ]
    },
    {
      "cell_type": "code",
      "source": [
        "public enum CalorieLevel { DIET, NORMAL, FAT }\n",
        "\n",
        "Map<CalorieLevel, List<Dish>> dishesByCalorieLevel = \n",
        "        menu.stream()\n",
        "            .collect(Collectors.groupingBy(dish -> { \n",
        "                    if (dish.getCalorie() <= 40) { return CalorieLevel.DIET; } \n",
        "                    else if (dish.getCalorie() <= 80) { return CalorieLevel.NORMAL; }\n",
        "                    else { return CalorieLevel.FAT; }\n",
        "                })\n",
        "            ); \n",
        "\n",
        "System.out.print(dishesByCalorieLevel);"
      ],
      "metadata": {
        "colab": {
          "base_uri": "https://localhost:8080/"
        },
        "id": "CIFVdfv7SIRY",
        "outputId": "0a9dd233-b11a-4e76-c4aa-278db3b0b4a6"
      },
      "execution_count": 71,
      "outputs": [
        {
          "output_type": "stream",
          "name": "stdout",
          "text": [
            "{NORMAL=[Chontaduro, Salmon], FAT=[Pork, Chicken, Beef], DIET=[Borojo, Maracuya, Naranja, Guayaba, Platano]}"
          ]
        }
      ]
    },
    {
      "cell_type": "markdown",
      "source": [
        "##### <font color='#F06C7C'> 6.3.1 Manipulating grouped elements - `Collectors.filtering`, `Collectors.mapping`, `Collectors.flatMapping` </font> "
      ],
      "metadata": {
        "id": "gmmA1wEIVc9m"
      }
    },
    {
      "cell_type": "markdown",
      "source": [
        "The `Collectors` class overloads the `groupingBy` factory method with one variant taking also a <u>**second argument of type `Collector`**</u> along with the usual classification function. "
      ],
      "metadata": {
        "id": "W1JmuwHbXHpt"
      }
    },
    {
      "cell_type": "markdown",
      "source": [
        "The `Collectors.filtering` method is another static factory method fof the `Collectors` class accepting a `Predicate` to filter the elements in each group and a further `Collector` that is used to regroup the filtered elements. "
      ],
      "metadata": {
        "id": "6aJFYSwV-T2c"
      }
    },
    {
      "cell_type": "code",
      "source": [
        "Map<Dish.Type, List<Dish>> highCalorieDishes = \n",
        "        menu.stream()\n",
        "            .collect(Collectors.groupingBy(\n",
        "                                    Dish::getType, \n",
        "                                    Collectors.filtering(dish -> dish.getCalorie() > 60, Collectors.toList())));\n",
        "\n",
        "System.out.println(highCalorieDishes);"
      ],
      "metadata": {
        "colab": {
          "base_uri": "https://localhost:8080/"
        },
        "id": "rVwwJpU4WSTZ",
        "outputId": "aea6851f-c409-4a93-cbba-9a749b43acfd"
      },
      "execution_count": 141,
      "outputs": [
        {
          "output_type": "stream",
          "name": "stdout",
          "text": [
            "{MEAT=[Pork, Chicken, Beef], FISH=[Salmon], FRUIT=[]}\n"
          ]
        }
      ]
    },
    {
      "cell_type": "markdown",
      "source": [
        " Another even more common way in which it could be useful to manipulate the grouped elements is transforming them through a `Collectors.mapping` function. It accepts a <u>mapping function</u> and <u>another `Collector` used to gather the elements</u> resulting from the application of that function to each of them. "
      ],
      "metadata": {
        "id": "K0bDn7hG-VBa"
      }
    },
    {
      "cell_type": "code",
      "source": [
        "Map<Dish.Type, List<String>> dishNamesByType = \n",
        "        menu.stream()\n",
        "            .collect(Collectors.groupingBy(\n",
        "                                    Dish::getType, \n",
        "                                    Collectors.mapping(Dish::getName, Collectors.toList())\n",
        "            ));\n",
        "\n",
        "System.out.print(dishNamesByType);"
      ],
      "metadata": {
        "colab": {
          "base_uri": "https://localhost:8080/"
        },
        "id": "cQiVNnm2OBbx",
        "outputId": "e80d0b67-325e-4a53-dd97-166a8a7aa216"
      },
      "execution_count": 450,
      "outputs": [
        {
          "output_type": "stream",
          "name": "stdout",
          "text": [
            "{MEAT=[Pork, Chicken, Beef], FISH=[Salmon], FRUIT=[Chontaduro, Borojo, Maracuya, Naranja, Guava, Platano]}"
          ]
        }
      ]
    },
    {
      "cell_type": "markdown",
      "source": [
        "You could also use a third `Collector` in combination with the `groupingBy` a to perform a `flatMap` transformation instead of a plain `map`. "
      ],
      "metadata": {
        "id": "mtSjY9WCAqxe"
      }
    },
    {
      "cell_type": "code",
      "source": [
        "// #@title specification\n",
        "public class LineItem { \n",
        "\n",
        "    public final String name; \n",
        "\n",
        "    LineItem(String name) { this.name = name; }\n",
        "\n",
        "    public String getName() { return name; }\n",
        "\n",
        "    public String toString() { return name; }\n",
        "}\n",
        "\n",
        "public class Order { \n",
        "\n",
        "    public final List<LineItem> lineItems; \n",
        "    public final String customerName; \n",
        "\n",
        "    Order(List<LineItem> lineItems, String customerName) { \n",
        "        this.lineItems = lineItems; \n",
        "        this.customerName = customerName;\n",
        "    }\n",
        "\n",
        "    public List<LineItem> getLineItems() { return lineItems; }\n",
        "    public String getCustomerName() { return customerName; }\n",
        "}\n",
        "\n",
        "LineItem item_1 = new LineItem(\"Item_1\");\n",
        "LineItem item_2 = new LineItem(\"Item_2\");\n",
        "LineItem item_3 = new LineItem(\"Item_3\");\n",
        "LineItem item_4 = new LineItem(\"Item_4\");\n",
        "LineItem item_5 = new LineItem(\"Item_5\");\n",
        "\n",
        "Order order_1 = new Order(List.of(item_1, item_2, item_3), \"Pipí\");\n",
        "Order order_2 = new Order(List.of(item_3, item_4, item_5), \"Maggie\");\n",
        "\n",
        "List<Order> orders = List.of(order_1, order_2);"
      ],
      "metadata": {
        "cellView": "form",
        "id": "5xZH1usuOzHP"
      },
      "execution_count": 768,
      "outputs": []
    },
    {
      "cell_type": "code",
      "source": [
        "Map<String, Set<LineItem>> lineItemsByCustomerName = \n",
        "        orders.stream()\n",
        "            .collect(Collectors.groupingBy(\n",
        "                                    Order::getCustomerName, \n",
        "                                    Collectors.flatMapping(order -> order.getLineItems().stream(), Collectors.toSet())));\n",
        "\n",
        "System.out.print(lineItemsByCustomerName);"
      ],
      "metadata": {
        "colab": {
          "base_uri": "https://localhost:8080/"
        },
        "id": "3IIkaxaT-jag",
        "outputId": "43960e07-9225-4b5f-8f4b-2e0d266e0ecd"
      },
      "execution_count": 782,
      "outputs": [
        {
          "output_type": "stream",
          "name": "stdout",
          "text": [
            "{Pipí=[Item_1, Item_2, Item_3], Maggie=[Item_4, Item_5, Item_3]}"
          ]
        }
      ]
    },
    {
      "cell_type": "markdown",
      "source": [
        "##### <font color='#F06C7C'> 6.3.2 Multilevel grouping - `groupingBy`"
      ],
      "metadata": {
        "id": "jWia5ZsRQbOi"
      }
    },
    {
      "cell_type": "markdown",
      "source": [
        " The two arguments `Collectors.groupingBy` factory method that we used in a former section to manipulate the elements in the groups resulting from the grouping operation can be used also to perfrom a two-level grouping. "
      ],
      "metadata": {
        "id": "TCcuCfhrQl8O"
      }
    },
    {
      "cell_type": "code",
      "source": [
        "Map<Dish.Type, Map<CalorieLevel, List<Dish>>> dishesByTypeByCaloricLevel = \n",
        "        menu.stream()\n",
        "            .collect(Collectors.groupingBy(\n",
        "                                    Dish::getType, \n",
        "                                    Collectors.groupingBy(dish -> {\n",
        "                                        if (dish.getCalorie() <= 40) { return CalorieLevel.DIET; } \n",
        "                                        else if (dish.getCalorie() <= 80) { return CalorieLevel.NORMAL; }\n",
        "                                        else { return CalorieLevel.FAT; }\n",
        "                                        }\n",
        "                                    )\n",
        "            )); \n",
        "\n",
        "System.out.print(dishesByTypeByCaloricLevel);"
      ],
      "metadata": {
        "colab": {
          "base_uri": "https://localhost:8080/"
        },
        "id": "V5tr78LlRDEz",
        "outputId": "2cf785da-8aa8-4965-e89d-df19902253c4"
      },
      "execution_count": 790,
      "outputs": [
        {
          "output_type": "stream",
          "name": "stdout",
          "text": [
            "{FRUIT={NORMAL=[Chontaduro], DIET=[Borojo, Maracuya, Naranja, Guava, Platano]}, FISH={NORMAL=[Salmon]}, MEAT={FAT=[Pork, Chicken, Beef]}}"
          ]
        }
      ]
    },
    {
      "cell_type": "markdown",
      "source": [
        "### Chapter 7. Parallel data processing and performance "
      ],
      "metadata": {
        "id": "cpBVjBj6EcIO"
      }
    },
    {
      "cell_type": "markdown",
      "source": [
        "### Chapter 8. Collection API enhancements"
      ],
      "metadata": {
        "id": "FBZOqupOEcQ2"
      }
    },
    {
      "cell_type": "markdown",
      "source": [
        "### Chapter 9. Refactoring, testing and debugging "
      ],
      "metadata": {
        "id": "MyT2eiNyEnUf"
      }
    },
    {
      "cell_type": "markdown",
      "source": [
        "## Oracle API Specificatioin Document "
      ],
      "metadata": {
        "id": "WOLHzD2HdTY4"
      }
    },
    {
      "cell_type": "markdown",
      "source": [
        "### ***Interface Function`<T, R>`***\n",
        "\n",
        ": Represents a function that accepts one argument and produces a result."
      ],
      "metadata": {
        "id": "eDDxenDfUSds"
      }
    },
    {
      "cell_type": "code",
      "source": [
        "import java.util.function.Function;"
      ],
      "metadata": {
        "id": "TaeuxEAjVFZl"
      },
      "execution_count": null,
      "outputs": []
    },
    {
      "cell_type": "markdown",
      "source": [
        "#### *.apply()*"
      ],
      "metadata": {
        "id": "unHTcRUNWIFA"
      }
    },
    {
      "cell_type": "code",
      "source": [
        "public Function<Integer, Integer> func_1 = number -> number + 1; \n",
        "\n",
        "Integer result = func_1.apply(1); \n",
        "\n",
        "result;"
      ],
      "metadata": {
        "colab": {
          "base_uri": "https://localhost:8080/"
        },
        "id": "kW0e1a4lUY5F",
        "outputId": "bd08cd0d-22d0-4525-ceed-41ef290fcbc0"
      },
      "execution_count": null,
      "outputs": [
        {
          "output_type": "execute_result",
          "data": {
            "text/plain": [
              "2"
            ]
          },
          "metadata": {},
          "execution_count": 136
        }
      ]
    },
    {
      "cell_type": "markdown",
      "source": [
        "#### *.andThen()*"
      ],
      "metadata": {
        "id": "WyDKYuyqWLoQ"
      }
    },
    {
      "cell_type": "code",
      "source": [
        "public Function<Integer, Integer> func_2 = number -> number * 10; \n",
        "\n",
        "Function<Integer, Integer> func_1_andThen_func_2 = func_1.andThen(func_2); \n",
        "\n",
        "func_1_andThen_func_2.apply(1); "
      ],
      "metadata": {
        "colab": {
          "base_uri": "https://localhost:8080/"
        },
        "id": "lsM-0baEWOLn",
        "outputId": "d71868c4-ed95-4c26-de9f-59885a743f16"
      },
      "execution_count": null,
      "outputs": [
        {
          "output_type": "execute_result",
          "data": {
            "text/plain": [
              "20"
            ]
          },
          "metadata": {},
          "execution_count": 138
        }
      ]
    },
    {
      "cell_type": "markdown",
      "source": [
        "### ***Interface BiFunction`<T, R>`***\n",
        "\n",
        ": Represents a function that accepts two arguments and produces a result. This is the two-arity specialization of Function."
      ],
      "metadata": {
        "id": "DqNZI51ZXKdT"
      }
    },
    {
      "cell_type": "code",
      "source": [
        "import java.util.function.BiFunction; "
      ],
      "metadata": {
        "id": "pX0kbK8la1dB"
      },
      "execution_count": null,
      "outputs": []
    },
    {
      "cell_type": "code",
      "source": [
        "BiFunction<Integer, Integer, Integer> func_bi = (num1, num2) -> (num1 + 1) * (num2); \n",
        "\n",
        "func_bi.apply(4, 100);"
      ],
      "metadata": {
        "colab": {
          "base_uri": "https://localhost:8080/"
        },
        "id": "UZRM3cLVXSN9",
        "outputId": "0499dfa1-6d10-4c61-c407-40656862228b"
      },
      "execution_count": null,
      "outputs": [
        {
          "output_type": "execute_result",
          "data": {
            "text/plain": [
              "500"
            ]
          },
          "metadata": {},
          "execution_count": 276
        }
      ]
    },
    {
      "cell_type": "markdown",
      "source": [
        "### ***Interface Consumer`<T>`***\n",
        "\n",
        ": Represents an operation that accepts a single input argument and returns no result. Unlike most other functional interfaces, Consumer is expected to operate via side-effects."
      ],
      "metadata": {
        "id": "G8JRny_gaVmf"
      }
    },
    {
      "cell_type": "code",
      "source": [
        "import java.util.function.Consumer;"
      ],
      "metadata": {
        "id": "t48en4PyafGU"
      },
      "execution_count": null,
      "outputs": []
    },
    {
      "cell_type": "code",
      "source": [
        "public class Student { \n",
        "    public final String name; \n",
        "    public final String number; \n",
        "\n",
        "    Student(String name, String number) { \n",
        "        this.name = name; \n",
        "        this.number = number; \n",
        "    }\n",
        "}\n",
        "\n",
        "Student maria = new Student(\"Maria\", \"1234\"); \n",
        "\n",
        "Consumer<Student> greetingStudent = student -> \n",
        "    System.out.println(\"Hello \" + student.name + \", your number is \" + student.number + \".\"); \n",
        "\n",
        "greetingStudent.accept(maria); "
      ],
      "metadata": {
        "colab": {
          "base_uri": "https://localhost:8080/"
        },
        "id": "k9Py58p6a5o0",
        "outputId": "1ea75197-c1db-48b3-d88d-33d36b2386c8"
      },
      "execution_count": null,
      "outputs": [
        {
          "output_type": "stream",
          "name": "stdout",
          "text": [
            "Hello Maria, your number is 1234.\n"
          ]
        }
      ]
    },
    {
      "cell_type": "markdown",
      "source": [
        "### ***Interface BiConsumer `<T, U>`***\n",
        "\n",
        ": Represents an operation that accepts two input arguments and returns no result. This is the two-arity specialization of Consumer. Unlike most other functional interfaces, BiConsumer is expected to operate via side-effects."
      ],
      "metadata": {
        "id": "18_HbiabcjsN"
      }
    },
    {
      "cell_type": "code",
      "source": [
        "import java.util.function.BiConsumer"
      ],
      "metadata": {
        "id": "GJN4ue1FdXLt"
      },
      "execution_count": null,
      "outputs": []
    },
    {
      "cell_type": "code",
      "source": [
        "public class FavSubject { \n",
        "    public final String subject; \n",
        "\n",
        "    FavSubject(String subject) { this.subject = subject; }\n",
        "}\n",
        "\n",
        "FavSubject favSubject = new FavSubject(\"Linear Algebra\"); \n",
        "\n",
        "BiConsumer<Student, FavSubject> stateFavSubject = (student, favSubject) -> \n",
        "    System.out.println(student.name + \"'s favorite subject is \" + favSubject.subject + \".\");  \n",
        "\n",
        "stateFavSubject.accept(maria, favSubject);"
      ],
      "metadata": {
        "colab": {
          "base_uri": "https://localhost:8080/"
        },
        "id": "1h9RbCfOcjVz",
        "outputId": "bbcd0124-94bc-4daf-91e5-a11efd714ac3"
      },
      "execution_count": null,
      "outputs": [
        {
          "output_type": "stream",
          "name": "stdout",
          "text": [
            "Maria's favorite subject is Linear Algebra.\n"
          ]
        }
      ]
    },
    {
      "cell_type": "markdown",
      "source": [
        "### ***Interface Predicate`<T>`***\n",
        "\n",
        ": Represents a predicate (boolean-valued function) of one argument."
      ],
      "metadata": {
        "id": "46QhyklugBRV"
      }
    },
    {
      "cell_type": "code",
      "source": [
        "import java.util.function.Predicate;"
      ],
      "metadata": {
        "id": "TvwE6JQLhILY"
      },
      "execution_count": null,
      "outputs": []
    },
    {
      "cell_type": "markdown",
      "source": [
        "#### *.test()*"
      ],
      "metadata": {
        "id": "2hc3G7Gmmd9E"
      }
    },
    {
      "cell_type": "code",
      "source": [
        "public Predicate<String> isValid_BrooklynZipCode = zipCode -> \n",
        "        zipCode.length() == 5 &&\n",
        "        zipCode.compareTo(\"11201\") >= 0 && \n",
        "        zipCode.compareTo(\"11256\") <= 0; \n",
        "\n",
        "System.out.println(isValid_BrooklynZipCode.test(\"11200\"));\n",
        "System.out.println(isValid_BrooklynZipCode.test(\"11247\"));"
      ],
      "metadata": {
        "colab": {
          "base_uri": "https://localhost:8080/"
        },
        "id": "IOg0lwvShRO6",
        "outputId": "529107a8-cbcf-4fd0-a162-8a937d46015f"
      },
      "execution_count": null,
      "outputs": [
        {
          "output_type": "stream",
          "name": "stdout",
          "text": [
            "false\n",
            "true\n"
          ]
        }
      ]
    },
    {
      "cell_type": "markdown",
      "source": [
        "#### *.and()*"
      ],
      "metadata": {
        "id": "3LdPpxTxmgof"
      }
    },
    {
      "cell_type": "code",
      "source": [
        "public Predicate<String> isEven = zipCode -> \n",
        "        Integer.parseInt(String.valueOf(zipCode.charAt(zipCode.length() - 1))) % 2 == 0; \n",
        "\n",
        "System.out.println(isValid_BrooklynZipCode.and(isEven).test(\"11202\"));\n",
        "System.out.println(isValid_BrooklynZipCode.and(isEven).test(\"11203\"));"
      ],
      "metadata": {
        "colab": {
          "base_uri": "https://localhost:8080/"
        },
        "id": "3VzHqaKwkb62",
        "outputId": "d24f5fd1-46e5-4375-942f-6b2835a61180"
      },
      "execution_count": null,
      "outputs": [
        {
          "output_type": "stream",
          "name": "stdout",
          "text": [
            "true\n",
            "false\n"
          ]
        }
      ]
    },
    {
      "cell_type": "markdown",
      "source": [
        "### ***Interface Supplier`<T>`***\n",
        "\n",
        ": Represents a supplier of results. There is no requirement that a new or distinct result be returned each time the supplier is invoked."
      ],
      "metadata": {
        "id": "Ul4hASAWm_ds"
      }
    },
    {
      "cell_type": "code",
      "source": [
        "import java.util.function.Supplier;"
      ],
      "metadata": {
        "id": "_V-6k-RfnVEf"
      },
      "execution_count": null,
      "outputs": []
    },
    {
      "cell_type": "code",
      "source": [
        "public Supplier<String> greetSupplier_1 = () -> \"Wie geht's?\"; \n",
        "\n",
        "System.out.println(greetSupplier_1.get());"
      ],
      "metadata": {
        "colab": {
          "base_uri": "https://localhost:8080/"
        },
        "id": "iu8DHtugni7D",
        "outputId": "d3c20dae-77cd-406d-9925-21a176d1d66f"
      },
      "execution_count": null,
      "outputs": [
        {
          "output_type": "stream",
          "name": "stdout",
          "text": [
            "Wie geht's?\n"
          ]
        }
      ]
    },
    {
      "cell_type": "code",
      "source": [
        "public Supplier<List<String>> greetSupplier_2 = () -> List.of(\"Wie geht's?\", \"Hola, Cómo estás?\"); \n",
        "\n",
        "System.out.println(greetSupplier_2.get());"
      ],
      "metadata": {
        "colab": {
          "base_uri": "https://localhost:8080/"
        },
        "id": "ySSrAYy6o56t",
        "outputId": "b3766cf3-8f5c-42f4-e579-fbe19e46eac7"
      },
      "execution_count": null,
      "outputs": [
        {
          "output_type": "stream",
          "name": "stdout",
          "text": [
            "[Wie geht's?, Hola, Cómo estás?]\n"
          ]
        }
      ]
    },
    {
      "cell_type": "markdown",
      "source": [
        "### ***.stream()***"
      ],
      "metadata": {
        "id": "Lw0cfQcnUJt5"
      }
    },
    {
      "cell_type": "code",
      "source": [
        "import java.util.stream.Stream;"
      ],
      "metadata": {
        "id": "7o90qykMR9C_"
      },
      "execution_count": null,
      "outputs": []
    },
    {
      "cell_type": "markdown",
      "source": [
        "#### *.filter()*\n",
        "\n",
        ": Returns a stream consisting of the elements of this stream that match the given predicate."
      ],
      "metadata": {
        "id": "qgw2_uZIhvzQ"
      }
    },
    {
      "cell_type": "code",
      "source": [
        "enum Gender { MALE, FEMALE, THIRDGENDER }\n",
        "\n",
        "class Person { \n",
        "    public final String name; \n",
        "    public final Gender gender; \n",
        "\n",
        "    Person(String name, Gender gender) { \n",
        "        this.name = name; \n",
        "        this.gender = gender; \n",
        "    }\n",
        "\n",
        "    @Override\n",
        "    public String toString() {  \n",
        "        return \"Person{\" + \"name='\" + name + '\\'' + \", gender=\" + gender + '}'; \n",
        "    }\n",
        "}\n",
        "\n",
        "List<Person> people = List.of(\n",
        "    new Person(\"John\", Gender.MALE), \n",
        "    new Person(\"MARIA\", Gender.FEMALE), \n",
        "    new Person(\"Asha\", Gender.MALE),\n",
        "    new Person(\"Alice\", Gender.FEMALE) \n",
        ");"
      ],
      "metadata": {
        "id": "1Oo7p7BvNK_x"
      },
      "execution_count": null,
      "outputs": []
    },
    {
      "cell_type": "code",
      "source": [
        "people.stream()\n",
        "        .filter(person -> person.gender.equals(Gender.FEMALE))\n",
        "        .collect(Collectors.toList())\n",
        "        .forEach(System.out::println);\n",
        "\n",
        "people.stream()\n",
        "        .filter(person -> person.gender.equals(Gender.MALE)) \n",
        "        .collect(Collectors.toList())\n",
        "        .forEach(System.out::println); "
      ],
      "metadata": {
        "colab": {
          "base_uri": "https://localhost:8080/"
        },
        "id": "JDsePVnpSkws",
        "outputId": "15c1d0ab-f6cb-42ab-fa77-f4228925be44"
      },
      "execution_count": null,
      "outputs": [
        {
          "output_type": "stream",
          "name": "stdout",
          "text": [
            "Person{name='MARIA', gender=FEMALE}\n",
            "Person{name='Alice', gender=FEMALE}\n",
            "Person{name='John', gender=MALE}\n",
            "Person{name='Asha', gender=MALE}\n"
          ]
        }
      ]
    },
    {
      "cell_type": "markdown",
      "source": [
        "#### *.map()*\n",
        "\n",
        ": Returns a stream consisting of the results of applying the given function to the elements of this stream."
      ],
      "metadata": {
        "id": "FMlqM-amiBFC"
      }
    },
    {
      "cell_type": "code",
      "source": [
        "people.stream()\n",
        "        .map(person -> person.gender) \n",
        "        .collect(Collectors.toSet())\n",
        "        .forEach(System.out::println); \n",
        "\n",
        "people.stream()\n",
        "        .map(person -> person.name) \n",
        "        .collect(Collectors.toSet())\n",
        "        .forEach(System.out::println); \n",
        "\n",
        "people.stream()\n",
        "        .map(person -> person.name) \n",
        "        .mapToInt(String::length)\n",
        "        .forEach(System.out::print); "
      ],
      "metadata": {
        "colab": {
          "base_uri": "https://localhost:8080/"
        },
        "id": "uggU8siXh7K2",
        "outputId": "0b16a05d-5ea0-457a-ba35-6b310e198e45"
      },
      "execution_count": null,
      "outputs": [
        {
          "output_type": "stream",
          "name": "stdout",
          "text": [
            "FEMALE\n",
            "MALE\n",
            "Asha\n",
            "Alice\n",
            "John\n",
            "MARIA\n",
            "4545"
          ]
        }
      ]
    },
    {
      "cell_type": "markdown",
      "source": [
        "#### *flatMap()*\n",
        "\n",
        ": Returns a stream consisting of the results of replacing each element of this stream with the contents of a mapped stream produced by applying the provided mapping function to each element. Each mapped stream is closed after its contents have been placed into this stream. (If a mapped stream is null an empty stream is used, instead.)"
      ],
      "metadata": {
        "id": "4jJDizv4HOl7"
      }
    },
    {
      "cell_type": "code",
      "source": [
        "class Product { \n",
        "\n",
        "    public final String name; \n",
        "    public final Integer price;  \n",
        "\n",
        "    Product(String name, Integer price) { \n",
        "        this.name = name; \n",
        "        this.price = price; \n",
        "    }\n",
        "}\n",
        "\n",
        "class Order { \n",
        "\n",
        "    public final List<Product> items; \n",
        "\n",
        "    Order(List<Product> items) { this.items = items; }\n",
        "\n",
        "    public List<Product> getItems() { return this.items; }\n",
        "}\n",
        "\n",
        "List<Product> products_fruits = List.of(\n",
        "    new Product(\"Maracuya\", 2), \n",
        "    new Product(\"Naranja\", 3), \n",
        "    new Product(\"Maduro\", 5)\n",
        "); \n",
        "\n",
        "List<Product> products_stationery = List.of(\n",
        "    new Product(\"Pencil\", 1), \n",
        "    new Product(\"Note\", 4) \n",
        "); \n",
        "\n",
        "List<Order> orders = List.of(\n",
        "\n",
        "    new Order(products_fruits), \n",
        "    new Order(products_stationery)\n",
        ");"
      ],
      "metadata": {
        "id": "BQMhDwKqNqDX"
      },
      "execution_count": null,
      "outputs": []
    },
    {
      "cell_type": "code",
      "source": [
        "orders.stream()\n",
        "        .flatMap(order -> order.getItems().stream())\n",
        "        .map(item -> item.name)\n",
        "        .collect(Collectors.toList())\n",
        "        .forEach(item -> System.out.print(item + \" \"));"
      ],
      "metadata": {
        "colab": {
          "base_uri": "https://localhost:8080/"
        },
        "id": "FsIzJpbdJp8F",
        "outputId": "85429aff-0a3b-4b77-da4f-a561459d5737"
      },
      "execution_count": null,
      "outputs": [
        {
          "output_type": "stream",
          "name": "stdout",
          "text": [
            "Maracuya Naranja Maduro Pencil Note "
          ]
        }
      ]
    },
    {
      "cell_type": "code",
      "source": [
        "orders.stream()\n",
        "        .flatMap(order -> order.getItems().stream())\n",
        "        .map(item -> item.price) \n",
        "        .reduce(0, Integer::sum);"
      ],
      "metadata": {
        "colab": {
          "base_uri": "https://localhost:8080/"
        },
        "id": "s_fAEXGqRJy4",
        "outputId": "faf900d7-9d88-458b-d969-bd49edb15327"
      },
      "execution_count": null,
      "outputs": [
        {
          "output_type": "execute_result",
          "data": {
            "text/plain": [
              "15"
            ]
          },
          "metadata": {},
          "execution_count": 270
        }
      ]
    },
    {
      "cell_type": "markdown",
      "source": [
        "#### *.mapMulti()*\n",
        "\n",
        ": Returns a stream consisting of the results of replacing each element of this stream with multiple elements, specifically zero or more elements. Replacement is performed by applying the provided mapping function to each element in conjunction with a consumer argument that accepts replacement elements. The mapping function calls the consumer zero or more times to provide the replacement elements."
      ],
      "metadata": {
        "id": "hYvIQyS_RqlV"
      }
    },
    {
      "cell_type": "code",
      "source": [
        "// Java Version under JDK 16  \n",
        "\n",
        "// List<Number> nums = Arrays.asList(1, 2.0, 3, 4.0, 5);\n",
        "// nums.stream().<Integer>mapMulti((number, consumer) -> { \n",
        "\n",
        "//     if (number instanceof Integer) { consumer.accept(numbers); }\n",
        "// }).collect(Collectors.toList())\n",
        "// .forEach(System.out::print); "
      ],
      "metadata": {
        "id": "p74XHGWdR13h"
      },
      "execution_count": null,
      "outputs": []
    },
    {
      "cell_type": "markdown",
      "source": [
        "#### *.allMatch()*\n",
        "\n",
        ": Returns whether all elements of this stream match the provided predicate. May not evaluate the predicate on all elements if not necessary for determining the result. If the stream is empty then true is returned and the predicate is not evaluated."
      ],
      "metadata": {
        "id": "PAMTqLWmkSam"
      }
    },
    {
      "cell_type": "code",
      "source": [
        "people.stream()\n",
        "        .allMatch(person -> person.gender.equals(Gender.FEMALE)); "
      ],
      "metadata": {
        "colab": {
          "base_uri": "https://localhost:8080/"
        },
        "id": "a7xB5CwukVDn",
        "outputId": "fae2c30f-40af-42aa-e323-bc32fba399d7"
      },
      "execution_count": null,
      "outputs": [
        {
          "output_type": "execute_result",
          "data": {
            "text/plain": [
              "false"
            ]
          },
          "metadata": {},
          "execution_count": 91
        }
      ]
    },
    {
      "cell_type": "code",
      "source": [
        "people.stream()\n",
        "        .map(person -> person.name) \n",
        "        .allMatch(person_name -> person_name.length() < 10);"
      ],
      "metadata": {
        "colab": {
          "base_uri": "https://localhost:8080/"
        },
        "id": "ofwNa1aUld5a",
        "outputId": "97778237-8606-4f76-d7d1-77364b181586"
      },
      "execution_count": null,
      "outputs": [
        {
          "output_type": "execute_result",
          "data": {
            "text/plain": [
              "true"
            ]
          },
          "metadata": {},
          "execution_count": 92
        }
      ]
    },
    {
      "cell_type": "markdown",
      "source": [
        "#### *.anyMatch()*\n",
        "\n",
        ": Returns whether any elements of this stream match the provided predicate. May not evaluate the predicate on all elements if not necessary for determining the result. If the stream is empty then false is returned and the predicate is not evaluated."
      ],
      "metadata": {
        "id": "HW0ze174CXc2"
      }
    },
    {
      "cell_type": "code",
      "source": [
        "Predicate<Person> anyFemale = person -> person.gender.equals(Gender.FEMALE); \n",
        "\n",
        "people.stream()\n",
        "        .anyMatch(anyFemale);"
      ],
      "metadata": {
        "colab": {
          "base_uri": "https://localhost:8080/"
        },
        "id": "bf9spmxGB68P",
        "outputId": "a1edeccd-edf9-4ec7-a3c5-36f74b2a73c5"
      },
      "execution_count": null,
      "outputs": [
        {
          "output_type": "execute_result",
          "data": {
            "text/plain": [
              "true"
            ]
          },
          "metadata": {},
          "execution_count": 119
        }
      ]
    },
    {
      "cell_type": "markdown",
      "source": [
        "#### *.noneMatch()*\n",
        "\n",
        ": Returns whether no elements of this stream match the provided predicate. May not evaluate the predicate on all elements if not necessary for determining the result. If the stream is empty then true is returned and the predicate is not evaluated."
      ],
      "metadata": {
        "id": "8S7boSIXDlKa"
      }
    },
    {
      "cell_type": "code",
      "source": [
        "Predicate<Person> thirdGender = person -> Gender.THIRDGENDER.equals(person.gender); \n",
        "\n",
        "people.stream()\n",
        "        .noneMatch(thirdGender); "
      ],
      "metadata": {
        "colab": {
          "base_uri": "https://localhost:8080/"
        },
        "id": "TaBeY0oKDqrN",
        "outputId": "82bb4820-fbfb-468a-d816-07bb6b891e84"
      },
      "execution_count": null,
      "outputs": [
        {
          "output_type": "execute_result",
          "data": {
            "text/plain": [
              "true"
            ]
          },
          "metadata": {},
          "execution_count": 141
        }
      ]
    },
    {
      "cell_type": "markdown",
      "source": [
        "# Test Driven Development"
      ],
      "metadata": {
        "id": "9TDfmKdiE2aM"
      }
    },
    {
      "cell_type": "markdown",
      "source": [
        "## Dependency - JUnit"
      ],
      "metadata": {
        "id": "xemdh5_jE7og"
      }
    },
    {
      "cell_type": "code",
      "source": [
        "%%loadFromPOM \n",
        "<!-- https://mvnrepository.com/artifact/org.junit.jupiter/junit-jupiter-api -->\n",
        "<dependency>\n",
        "  <groupId>junit</groupId>\n",
        "  <artifactId>junit</artifactId>\n",
        "  <version>4.13.2</version>\n",
        "</dependency>"
      ],
      "metadata": {
        "id": "8HTYF6x0FI4T"
      },
      "execution_count": null,
      "outputs": []
    },
    {
      "cell_type": "code",
      "source": [
        "import org.junit.*; \n",
        "import static org.junit.Assert.assertEquals; "
      ],
      "metadata": {
        "id": "7DvkE5k1Ffrs"
      },
      "execution_count": null,
      "outputs": []
    },
    {
      "cell_type": "markdown",
      "source": [
        "## assertEquals()"
      ],
      "metadata": {
        "id": "sw4Le8BjFZuO"
      }
    },
    {
      "cell_type": "code",
      "source": [
        "public int findMax(int arr[]) { \n",
        "\n",
        "    int max = 0; \n",
        "    for (int i = 1; i < arr.length; i++) { \n",
        "\n",
        "        if (max < arr[i]) { max = arr[i]; }\n",
        "    }\n",
        "\n",
        "    return max; \n",
        "}\n",
        "\n",
        "@Test\n",
        "public void testFindMax() { \n",
        "    \n",
        "    System.out.println(\"assertEquals()\"); \n",
        "    assertEquals(4, findMax(new int[] {1, 3, 4, 2})); \n",
        "}\n",
        "\n",
        "testFindMax();"
      ],
      "metadata": {
        "colab": {
          "base_uri": "https://localhost:8080/"
        },
        "id": "MpnMIktZE7XH",
        "outputId": "2e68a148-64b9-4a35-a61a-09042762237e"
      },
      "execution_count": null,
      "outputs": [
        {
          "output_type": "stream",
          "name": "stdout",
          "text": [
            "assertEquals()\n"
          ]
        }
      ]
    },
    {
      "cell_type": "markdown",
      "source": [
        "# ⚙️ Type Conversion / Compatibility "
      ],
      "metadata": {
        "id": "XRXm9PY2YGNq"
      }
    },
    {
      "cell_type": "markdown",
      "source": [
        "### Primitive array ↔︎ Interface List  "
      ],
      "metadata": {
        "id": "cFi7nQM0ZWQ1"
      }
    },
    {
      "cell_type": "markdown",
      "source": [
        "primitive to List  "
      ],
      "metadata": {
        "id": "3ukO2BFdbvnT"
      }
    },
    {
      "cell_type": "code",
      "source": [
        "int[] primitive = new int[] {1, 2, 3, 4}; \n",
        "\n",
        "List<Integer> digits = Arrays\n",
        "                            .stream(primitive)\n",
        "                            .boxed()\n",
        "                            .collect(Collectors.toList()); \n",
        "\n",
        "digits.forEach(num -> System.out.print(num));"
      ],
      "metadata": {
        "colab": {
          "base_uri": "https://localhost:8080/"
        },
        "id": "Iiwc_AjNYML1",
        "outputId": "801219e5-7d0d-44e1-f972-4874a3c9d590"
      },
      "execution_count": null,
      "outputs": [
        {
          "output_type": "stream",
          "name": "stdout",
          "text": [
            "1234"
          ]
        }
      ]
    },
    {
      "cell_type": "markdown",
      "source": [
        "List to primitive "
      ],
      "metadata": {
        "id": "W_-p_wDYbyGA"
      }
    },
    {
      "cell_type": "code",
      "source": [
        "int[] nums = digits.stream()\n",
        "                    .mapToInt(i -> i)\n",
        "                    .toArray(); \n",
        "\n",
        "for (int i = 0; i < nums.length; i++) { \n",
        "    System.out.print(nums[i]); \n",
        "}"
      ],
      "metadata": {
        "id": "0DluqkNRbzjC",
        "outputId": "a66e0069-4ccc-46a2-be5b-88733d80fd2d",
        "colab": {
          "base_uri": "https://localhost:8080/"
        }
      },
      "execution_count": null,
      "outputs": [
        {
          "output_type": "stream",
          "name": "stdout",
          "text": [
            "1234"
          ]
        }
      ]
    },
    {
      "cell_type": "markdown",
      "source": [
        "### char of String to Integer  "
      ],
      "metadata": {
        "id": "IF0giPPilrgP"
      }
    },
    {
      "cell_type": "code",
      "source": [
        "String str1 = \"1234\"; \n",
        "\n",
        "Integer.parseInt(String.valueOf(str1.charAt(str1.length() - 1)));"
      ],
      "metadata": {
        "colab": {
          "base_uri": "https://localhost:8080/"
        },
        "id": "EhmcykVqmHUy",
        "outputId": "72730f97-6e0c-4b4f-89e6-e2001f1fbba8"
      },
      "execution_count": null,
      "outputs": [
        {
          "output_type": "execute_result",
          "data": {
            "text/plain": [
              "4"
            ]
          },
          "metadata": {},
          "execution_count": 413
        }
      ]
    }
  ],
  "metadata": {
    "celltoolbar": "Raw Cell Format",
    "kernelspec": {
      "display_name": "Java",
      "language": "java",
      "name": "java"
    },
    "language_info": {
      "codemirror_mode": "text/x-java",
      "file_extension": ".java",
      "mimetype": "",
      "name": "Java",
      "nbconverter_exporter": "",
      "version": "1.8.0_152-release"
    },
    "toc": {
      "base_numbering": 1,
      "nav_menu": {},
      "number_sections": false,
      "sideBar": false,
      "skip_h1_title": false,
      "title_cell": "Table of Contents",
      "title_sidebar": "Contents",
      "toc_cell": false,
      "toc_position": {
        "height": "195.347px",
        "left": "704.866px",
        "top": "162.094px",
        "width": "265.469px"
      },
      "toc_section_display": false,
      "toc_window_display": false
    },
    "colab": {
      "provenance": [],
      "collapsed_sections": [
        "TJOAJvd05csS",
        "ZC9cLEdlBFRv",
        "z1BwUoYYoCmq",
        "ZEwiPkm-oR3E",
        "8Q9C_cy8oXo3",
        "rv3veGYWobjN",
        "dsli4mxjokE8",
        "-7FJSMKaon1v",
        "uLlZnGXyotym",
        "wr7nW92EoyKH",
        "FwNEoKYso1rk",
        "h4n09i56o6hq",
        "AFWQIxn0pB9_",
        "EMxYhP52pFO-",
        "ZpvPezeUpR60",
        "-StOGOKspc19",
        "CBDvAxEKNd7W",
        "r3GrQZAdXK4I",
        "DB5J9rcgXOAK",
        "imlSU8DCEyD_",
        "ETJFP0so2mmy",
        "4w_pPOCY53nu",
        "ocuYDaL653nx",
        "yVVrERrQ6SoB",
        "yTHbywpTZcww",
        "5O-JbOc3Zhhj",
        "nz3RpmkVZmsi",
        "hi_Gv0Ys6Wcf",
        "oUx_6c8953ny",
        "QCUV8N81aK9J",
        "a3JBzmSi6bvy",
        "wUQD_szRak_L",
        "EvpYv-tnaqfL",
        "Np-DOiE6athO",
        "HP53GIBsax79",
        "sEXjKM7c6hTi",
        "QVM_G5JI6mCI",
        "P5VpvtAY6oqd",
        "6eWJwaSscDkp",
        "GR5U5N4m6sTT",
        "Zf1xm3yP6ubg",
        "fLTaYtIe53n1",
        "WYncNIo-6xNs",
        "r0f3kjQf53n1",
        "bdrmRcwt94mY",
        "kJj7-NsR-n6P",
        "p19OQX6hF3A9",
        "Ter1o9jBJm-5",
        "mbWMSuYQAg2j",
        "qAcRk00PF1Hu",
        "O6wNIM2po96x",
        "UQfiKWMoWXBu",
        "AzludZCwYo8c",
        "aug-FRRcl9d7",
        "ooQ43a2snL_s",
        "yhCt3tR6rTEO",
        "Wg05W7n3TWi1",
        "IgR9B2MeS90J",
        "Z7yOLfyU4rhg",
        "89MNjPzLHlb3",
        "kQAAHvXX8TPs",
        "505IHeFFBTaZ",
        "DeZHyhf0Cdqy",
        "ntqrft7xJTJ_",
        "5yQ0aagbdQ4a",
        "RLqF8VvwfvCg",
        "ax_lA9Rdin6C",
        "jUyjlqtKjhVm",
        "p7COOX4nmrGG",
        "Wv83_ty-og-3",
        "I_mcnvVP8LoL",
        "UElxn21X9jSm",
        "-UK5-Hyf_LP_",
        "Fd-CA3YKGGsW",
        "3fPUVgofILhX",
        "IQ8BZh0QJAq6",
        "ZVQN5FFdK4K3",
        "nv_yTAB8Q0oK",
        "uqhOsVXK5PyA",
        "xDoyLbEr80RO",
        "ojcoZx5vOWSX",
        "h4j0ph8Z5yFJ",
        "Eb64xQru64DN",
        "-0pYEA11-Sdg",
        "X3Jd2mmqw1yC",
        "MEJnj30y3Uuu",
        "EiSZ0SiN4ys1",
        "Ty2JdqUb8u14",
        "PY9RrtToDG14",
        "gmmA1wEIVc9m",
        "jWia5ZsRQbOi",
        "cpBVjBj6EcIO",
        "FBZOqupOEcQ2",
        "MyT2eiNyEnUf",
        "WOLHzD2HdTY4",
        "eDDxenDfUSds",
        "unHTcRUNWIFA",
        "WyDKYuyqWLoQ",
        "DqNZI51ZXKdT",
        "G8JRny_gaVmf",
        "18_HbiabcjsN",
        "46QhyklugBRV",
        "2hc3G7Gmmd9E",
        "3LdPpxTxmgof",
        "Ul4hASAWm_ds",
        "Lw0cfQcnUJt5",
        "qgw2_uZIhvzQ",
        "FMlqM-amiBFC",
        "4jJDizv4HOl7",
        "hYvIQyS_RqlV",
        "PAMTqLWmkSam",
        "HW0ze174CXc2",
        "8S7boSIXDlKa",
        "9TDfmKdiE2aM",
        "xemdh5_jE7og",
        "sw4Le8BjFZuO",
        "XRXm9PY2YGNq",
        "cFi7nQM0ZWQ1",
        "IF0giPPilrgP"
      ],
      "toc_visible": true,
      "include_colab_link": true
    }
  },
  "nbformat": 4,
  "nbformat_minor": 0
}