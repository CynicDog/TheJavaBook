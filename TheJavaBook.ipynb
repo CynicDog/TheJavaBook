{
  "cells": [
    {
      "cell_type": "markdown",
      "metadata": {
        "id": "view-in-github",
        "colab_type": "text"
      },
      "source": [
        "<a href=\"https://colab.research.google.com/github/CynicDog/TheJavaBook/blob/main/TheJavaBook.ipynb\" target=\"_parent\"><img src=\"https://colab.research.google.com/assets/colab-badge.svg\" alt=\"Open In Colab\"/></a>"
      ]
    },
    {
      "cell_type": "markdown",
      "source": [
        "# Environment Configuration"
      ],
      "metadata": {
        "id": "TJOAJvd05csS"
      }
    },
    {
      "cell_type": "code",
      "execution_count": null,
      "metadata": {
        "id": "IrB2Kt3NqXec",
        "colab": {
          "base_uri": "https://localhost:8080/"
        },
        "outputId": "4f0eba2b-534e-4592-f308-c8ce7f19a55f"
      },
      "outputs": [
        {
          "output_type": "stream",
          "name": "stdout",
          "text": [
            "Installed java kernel into \"/usr/local/share/jupyter/kernels/java\"\n",
            "e2732061ad19c1afa4a33a58cb8f18a9-b6cff2bf09b6832344e576ea1e4731f0fb3df10c/install_ipc_proxy_kernel.py\n",
            "e2732061ad19c1afa4a33a58cb8f18a9-b6cff2bf09b6832344e576ea1e4731f0fb3df10c/ipc_proxy_kernel.py\n",
            "Moving java kernel from /usr/local/share/jupyter/kernels/java...\n",
            "Wrote modified kernel.json for java_tcp in /usr/local/share/jupyter/kernels/java_tcp/kernel.json\n",
            "Installing the proxy kernel in place of java in /usr/local/share/jupyter/kernels/java\n",
            "Installed proxy kernelspec: {\"argv\": [\"/usr/bin/python3\", \"/usr/local/share/jupyter/kernels/java/ipc_proxy_kernel.py\", \"{connection_file}\", \"--kernel=java_tcp\"], \"env\": {}, \"display_name\": \"Java\", \"language\": \"java\", \"interrupt_mode\": \"message\", \"metadata\": {}}\n",
            "Proxy kernel installed. Go to 'Runtime > Change runtime type' and select 'java'\n"
          ]
        },
        {
          "output_type": "stream",
          "name": "stderr",
          "text": [
            "install.py:164: DeprecationWarning: replace is ignored. Installing a kernelspec always replaces an existing installation\n",
            "  install_dest = KernelSpecManager().install_kernel_spec(\n"
          ]
        }
      ],
      "source": [
        "%%sh\n",
        "# Install java kernel\n",
        "wget -q https://github.com/SpencerPark/IJava/releases/download/v1.3.0/ijava-1.3.0.zip \n",
        "unzip -q ijava-1.3.0.zip \n",
        "python install.py\n",
        "\n",
        "# Install proxy for the java kernel\n",
        "wget -qO- https://gist.github.com/SpencerPark/e2732061ad19c1afa4a33a58cb8f18a9/archive/b6cff2bf09b6832344e576ea1e4731f0fb3df10c.tar.gz | tar xvz --strip-components=1\n",
        "python install_ipc_proxy_kernel.py --kernel=java --implementation=ipc_proxy_kernel.py"
      ]
    },
    {
      "cell_type": "markdown",
      "source": [
        "# Dependencies "
      ],
      "metadata": {
        "id": "ZC9cLEdlBFRv"
      }
    },
    {
      "cell_type": "code",
      "source": [
        "import java.util.*; \n",
        "import java.util.stream.Collectors;"
      ],
      "metadata": {
        "id": "UhxIMVX1BGs9"
      },
      "execution_count": 3,
      "outputs": []
    },
    {
      "cell_type": "markdown",
      "source": [
        "# 📔 LeetCode Clean Code Handbook: 50 Common Interview Questions - LeetCode admin"
      ],
      "metadata": {
        "id": "z1BwUoYYoCmq"
      }
    },
    {
      "cell_type": "markdown",
      "source": [
        "## Chapter 1. Array / String "
      ],
      "metadata": {
        "id": "ZEwiPkm-oR3E"
      }
    },
    {
      "cell_type": "markdown",
      "source": [
        "### 🧑🏼‍💻 [Two Sum (L#1)] \n",
        ": Given an array of integers nums and an integer target, return indices of the two numbers such that they add up to target.\n",
        "___________________  "
      ],
      "metadata": {
        "id": "8Q9C_cy8oXo3"
      }
    },
    {
      "cell_type": "code",
      "source": [
        "class Solution {\n",
        "    public int[] twoSum(int[] numbers, int target) { \n",
        "\n",
        "        Map<Integer, Integer> map = new HashMap<>(); \n",
        "\n",
        "        for (int i = 0; i < numbers.length; i++) { \n",
        "            int cur = numbers[i]; \n",
        "            if (map.containsKey(target - cur)) { \n",
        "                return new int[] { map.get(target - cur), i}; \n",
        "            }\n",
        "            map.put(cur, i); // (key: cur , value: i)\n",
        "        }\n",
        "        throw new IllegalArgumentException(\"No two sum solution\"); \n",
        "    }\n",
        "}\n"
      ],
      "metadata": {
        "id": "z-Dtu2wMoP7y"
      },
      "execution_count": null,
      "outputs": []
    },
    {
      "cell_type": "markdown",
      "source": [
        "### 🧑🏼‍💻 [Two Sum 2 - Input is Sorted (L#167)] \n",
        ": Given a 1-indexed array of integers numbers that is already sorted in non-decreasing order, find two numbers such that they add up to a specific target number.\n",
        "___________________"
      ],
      "metadata": {
        "id": "rv3veGYWobjN"
      }
    },
    {
      "cell_type": "code",
      "source": [
        "class Solution {\n",
        "    public int[] twoSum(int[] numbers, int target) {\n",
        "        for (int i = 0; i < numbers.length; i++) { \n",
        "            int j = binary_search(numbers, target - numbers[i], i + 1); \n",
        "\n",
        "            if (j != -1) { return new int[] { i + 1, j + 1 }; }\n",
        "        } throw new IllegalArgumentException(\"No solution\"); \n",
        "    }\n",
        "\n",
        "    private int binary_search(int[] arg, int complement, int start) { \n",
        "        int left = start, right = arg.length - 1; \n",
        "\n",
        "        while (left < right) { \n",
        "            int mid = (left + right) / 2; \n",
        "\n",
        "            if (arg[mid] < complement) { \n",
        "                left = mid + 1; \n",
        "            } else { \n",
        "                right = mid; \n",
        "            }\n",
        "        }\n",
        "\n",
        "        return (left == right && arg[left] == complement) ? left : -1; \n",
        "    }\n",
        "}"
      ],
      "metadata": {
        "id": "JIUiW2r0ofnK"
      },
      "execution_count": null,
      "outputs": []
    },
    {
      "cell_type": "markdown",
      "source": [
        "### 🧑🏼‍💻 [Two Sum 2 - Input is Sorted (L#167)] - two pointers \n",
        "  ___________________"
      ],
      "metadata": {
        "id": "dsli4mxjokE8"
      }
    },
    {
      "cell_type": "code",
      "source": [
        "class Solution {\n",
        "    public int[] twoSum(int[] numbers, int target) {\n",
        "        int left = 0, right = numbers.length - 1; \n",
        "\n",
        "        while (left < right) { \n",
        "            int sum = numbers[left] + numbers[right]; \n",
        "\n",
        "            if (sum < target) { \n",
        "                left += 1; \n",
        "            } else if (sum > target) { \n",
        "                right -= 1; \n",
        "            } else { return new int[] { left + 1, right + 1 }; }\n",
        "        } \n",
        "        throw new IllegalArgumentException(\"no solution\");\n",
        "    }\n",
        "}"
      ],
      "metadata": {
        "id": "H2CH6ByLoiUb"
      },
      "execution_count": null,
      "outputs": []
    },
    {
      "cell_type": "markdown",
      "source": [
        "### 🧑🏼‍💻 [Valid Palindrome (L#125)] - two pointers \n",
        ": Given a string s, return true if it is a palindrome, or false otherwise.\n",
        "___________________"
      ],
      "metadata": {
        "id": "-7FJSMKaon1v"
      }
    },
    {
      "cell_type": "code",
      "source": [
        "class Solution {\n",
        "    public boolean isPalindrome(String s) {\n",
        "        int i = 0, j = s.length() - 1; \n",
        "\n",
        "        while (i < j) { \n",
        "            while (i < j && !Character.isLetterOrDigit(s.charAt(i))) i++; \n",
        "            while (i < j && !Character.isLetterOrDigit(s.charAt(j))) j--; \n",
        "\n",
        "            if (Character.toLowerCase(s.charAt(i)) != Character.toLowerCase(s.charAt(j))) {\n",
        "                return false; \n",
        "            }\n",
        "            i++; j--; \n",
        "        } \n",
        "    return true; \n",
        "    }\n",
        "}"
      ],
      "metadata": {
        "id": "YbJqxRPBooOy"
      },
      "execution_count": null,
      "outputs": []
    },
    {
      "cell_type": "markdown",
      "source": [
        "### 🧑🏼‍💻 [Find the Index of the First Occurence in a String (L#28)] \n",
        ": Given two strings needle and haystack, return the index of the first occurrence of needle in haystack, or -1 if needle is not part of haystack.\n",
        "___________________  "
      ],
      "metadata": {
        "id": "uLlZnGXyotym"
      }
    },
    {
      "cell_type": "code",
      "source": [
        "class Solution {\n",
        "    public int strStr(String haystack, String needle) {\n",
        "        for (int i = 0; ; i++) { \n",
        "            for (int j = 0; ; j++) { \n",
        "                if (j == needle.length()) { return i; }\n",
        "                if (i + j == haystack.length()) { return -1; }\n",
        "                if (needle.charAt(j) != haystack.charAt(i + j)) { break; }\n",
        "            }\n",
        "        }\n",
        "    }\n",
        "}"
      ],
      "metadata": {
        "id": "b4AFOPtJoxGd"
      },
      "execution_count": null,
      "outputs": []
    },
    {
      "cell_type": "markdown",
      "source": [
        "### 🧑🏼‍💻 [Reverse Words in a String (L#151)] \n",
        ": Return a string of the words in reverse order concatenated by a single space.\n",
        "___________________  "
      ],
      "metadata": {
        "id": "wr7nW92EoyKH"
      }
    },
    {
      "cell_type": "code",
      "source": [
        "class Solution { \n",
        "    public String reverseWords(String s) { \n",
        "        StringBuilder reversed = new StringBuilder(); \n",
        "        \n",
        "        int j = s.length(); \n",
        "        \n",
        "        for (int i = s.length() - 1; i >= 0; i--) { \n",
        "            if (s.charAt(i) == ' ') { \n",
        "                j = i; \n",
        "            } else if (i == 0 || s.charAt(i - 1) == ' ') { \n",
        "                if (reversed.length() != 0) { reversed.append(' '); } \n",
        "\n",
        "                reversed.append(s.substring(i, j)); \n",
        "            } \n",
        "        }\n",
        "        \n",
        "        return reversed.toString(); \n",
        "    }\n",
        "} "
      ],
      "metadata": {
        "id": "btqalfrxoy4W"
      },
      "execution_count": null,
      "outputs": []
    },
    {
      "cell_type": "markdown",
      "source": [
        "### 🧑🏼‍💻 [String to Integer(atoi) (L#8)] \n",
        ": Convert digits into an integer (i.e. \"123\" -> 123, \"0032\" -> 32). If no digits were read, then the integer is 0. Change the sign as necessary (from step 2).\n",
        "___________________  "
      ],
      "metadata": {
        "id": "FwNEoKYso1rk"
      }
    },
    {
      "cell_type": "code",
      "source": [
        "class Solution { \n",
        "    private static final int maxDiv10 = Integer.MAX_VALUE / 10; \n",
        "    \n",
        "    public int myAtoi(String s) { \n",
        "        \n",
        "        int i = 0, n = s.length(); \n",
        "        \n",
        "        while (i < n && Character.isWhitespace(s.charAt(i))) i++; \n",
        "        \n",
        "        int sign = 1; \n",
        "        \n",
        "        if (i < n && s.charAt(i) == '+') { i++; }\n",
        "        else if (i < n && s.charAt(i) == '-') { sign = -1; i++; }\n",
        "        \n",
        "        int num = 0; \n",
        "        while (i < n && Character.isDigit(s.charAt(i))) { \n",
        "            int digit = Character.getNumericValue(s.charAt(i)); \n",
        "            \n",
        "            if (num > maxDiv10 || num == maxDiv10 && digit >= 8) { \n",
        "                return sign == 1 ? Integer.MAX_VALUE : Integer.MIN_VALUE; \n",
        "            }\n",
        "            \n",
        "            num = num * 10 + digit; \n",
        "            i++; \n",
        "        }\n",
        "        \n",
        "        return sign * num; \n",
        "    }\n",
        "}"
      ],
      "metadata": {
        "id": "m0gsw4F6o2ig"
      },
      "execution_count": null,
      "outputs": []
    },
    {
      "cell_type": "markdown",
      "source": [
        "### 🧑🏼‍💻 [Valid Number (L#65)] \n",
        ": Given a string s, return true if s is a valid number.\n",
        "___________________  "
      ],
      "metadata": {
        "id": "h4n09i56o6hq"
      }
    },
    {
      "cell_type": "code",
      "source": [
        "class Solution {\n",
        "    public boolean isNumber(String s) {\n",
        "        \n",
        "        int i = 0, n = s.length(); \n",
        "\n",
        "        while (i < n && Character.isWhitespace(s.charAt(i))) i++; \n",
        "\n",
        "        if (i < n && (s.charAt(i) == '+' || s.charAt(i) == '-')) i++; \n",
        "\n",
        "        boolean isNumeric = false; \n",
        "\n",
        "        while (i < n && Character.isDigit(s.charAt(i))) { \n",
        "            i++; \n",
        "            isNumeric = true; \n",
        "        }\n",
        "\n",
        "        if (i < n && s.charAt(i) == '.') { \n",
        "            i++;\n",
        "\n",
        "            while (i < n && Character.isDigit(s.charAt(i))) { \n",
        "                i++; \n",
        "                isNumeric = true; \n",
        "            }\n",
        "        }\n",
        "\n",
        "        if (isNumeric && i < n && Character.toLowerCase(s.charAt(i)) == 'e') { \n",
        "            i++;\n",
        "            isNumeric = false; \n",
        "\n",
        "            if (i < n && (s.charAt(i) == '+' || s.charAt(i) == '-')) i++; \n",
        "\n",
        "            while (i < n && Character.isDigit(s.charAt(i))) { \n",
        "                i++; \n",
        "                isNumeric = true;\n",
        "            }\n",
        "        }\n",
        "\n",
        "        while (i < n && Character.isWhitespace(s.charAt(i))) i++; \n",
        "\n",
        "        return isNumeric && i == n; \n",
        "    }\n",
        "}"
      ],
      "metadata": {
        "id": "NRqFTEUdo81d"
      },
      "execution_count": null,
      "outputs": []
    },
    {
      "cell_type": "markdown",
      "source": [
        "### 🧑🏼‍💻 [Longest Substring Without Repeating Characters (L#3)] \n",
        ": Given a string s, find the length of the longest substring without repeating characters.\n",
        "___________________  "
      ],
      "metadata": {
        "id": "AFWQIxn0pB9_"
      }
    },
    {
      "cell_type": "code",
      "source": [
        "class Solution {\n",
        "    public int lengthOfLongestSubstring(String s) {\n",
        "        \n",
        "        int[] charMap = new int[256]; \n",
        "        Arrays.fill(charMap, -1); \n",
        "\n",
        "        int i = 0, max_length = 0; \n",
        "        for (int j = 0; j < s.length(); j++) { \n",
        "            if (i <= charMap[s.charAt(j)]) { i = charMap[s.charAt(j)] + 1; } \n",
        "            else { max_length = Math.max(max_length, j - i + 1); }\n",
        "\n",
        "            charMap[s.charAt(j)] = j; \n",
        "        }\n",
        "\n",
        "        return max_length; \n",
        "    }\n",
        "}"
      ],
      "metadata": {
        "id": "7XZXQW54pDr_"
      },
      "execution_count": null,
      "outputs": []
    },
    {
      "cell_type": "markdown",
      "source": [
        "### 🧑🏼‍💻 [Longest Substring with At Most Two Distinct Characters (L#159)] \n",
        ": Given a string S, find the length of the longest substring T that contains at most two distinct characters. \n",
        "___________________  "
      ],
      "metadata": {
        "id": "EMxYhP52pFO-"
      }
    },
    {
      "cell_type": "code",
      "source": [
        "class Solution { \n",
        "    public int lengthOfLongestSubstringTwoDistinct(String s) { \n",
        "        \n",
        "        int[] count = new int[256];\n",
        "        int i = 0, maxLength = 0, numDistinct = 0; \n",
        "\n",
        "        for (int j = 0; j < s.length(); j++) { \n",
        "            if (count[s.charAt(j)] == 0) { numDistinct++; }\n",
        "            count[s.charAt(j)]++; \n",
        "\n",
        "            while (numDistinct > 2) { \n",
        "                count[s.charAt(i)]--; \n",
        "                if (count[s.charAt(i)] == 0) { numDistinct--; }\n",
        "                i++; \n",
        "            }\n",
        "\n",
        "            maxLength = Math.max(maxLength, j - i + 1); \n",
        "        }\n",
        "\n",
        "        return maxLength; \n",
        "    }\n",
        "}"
      ],
      "metadata": {
        "id": "JZmkToaepH6M"
      },
      "execution_count": null,
      "outputs": []
    },
    {
      "cell_type": "code",
      "source": [
        "Solution solution = new Solution(); \n",
        "solution.lengthOfLongestSubstringTwoDistinct(\"eceba\");  "
      ],
      "metadata": {
        "colab": {
          "base_uri": "https://localhost:8080/"
        },
        "id": "rijPSuoDpNQR",
        "outputId": "6e60eecf-70fb-48d0-9f09-d5c523556fcf"
      },
      "execution_count": null,
      "outputs": [
        {
          "output_type": "execute_result",
          "data": {
            "text/plain": [
              "3"
            ]
          },
          "metadata": {},
          "execution_count": 28
        }
      ]
    },
    {
      "cell_type": "markdown",
      "source": [
        "### 🧑🏼‍💻 [MIssing Range (L#163)] \n",
        ": Given a sorted integer array where the range of elements are [0, 99] inclusive, return its missing ranges. \n",
        "For example, given [0, 1, 3, 50, 75], return [“2”, “4->49”, “51->74”, “76->99”] \n",
        "___________________  "
      ],
      "metadata": {
        "id": "ZpvPezeUpR60"
      }
    },
    {
      "cell_type": "code",
      "source": [
        "class Solution { \n",
        "\n",
        "    public List<String> findMissingRanges(int[] vals, int start, int end) { \n",
        "        \n",
        "        List<String> ranges = new ArrayList<>(); \n",
        "\n",
        "        int prev = start - 1; \n",
        "\n",
        "        for (int i = 0; i <= vals.length; i++) { \n",
        "            int cur = (i == vals.length) ? end + 1: vals[i]; \n",
        "            \n",
        "            if (cur - prev >= 2) { \n",
        "                ranges.add(getRanges(prev + 1, cur - 1)); \n",
        "            }\n",
        "\n",
        "            prev = cur; \n",
        "        }\n",
        "        \n",
        "        return ranges; \n",
        "    }\n",
        "\n",
        "    private String getRanges(int from, int to) { \n",
        "        return (from == to) ? String.valueOf(from) : from + \"->\" + to; \n",
        "    }\n",
        "}"
      ],
      "metadata": {
        "id": "gEUpGeNnpTnl"
      },
      "execution_count": null,
      "outputs": []
    },
    {
      "cell_type": "code",
      "source": [
        "Solution solution = new Solution(); \n",
        "solution.findMissingRanges(new int[] {0, 1, 3, 50, 75}, 0, 99); "
      ],
      "metadata": {
        "colab": {
          "base_uri": "https://localhost:8080/"
        },
        "id": "iXmhGv88pW3e",
        "outputId": "167731a4-a039-4ab3-9170-6d12403dfbcd"
      },
      "execution_count": null,
      "outputs": [
        {
          "output_type": "execute_result",
          "data": {
            "text/plain": [
              "[2, 4->49, 51->74, 76->99]"
            ]
          },
          "metadata": {},
          "execution_count": 30
        }
      ]
    },
    {
      "cell_type": "markdown",
      "source": [
        "### 🧑🏼‍💻 [Longest Palindromic Substring (L#5)] \n",
        ": Given a string s, return the longest \n",
        "palindromic substring in s.\n",
        "___________________  "
      ],
      "metadata": {
        "id": "-StOGOKspc19"
      }
    },
    {
      "cell_type": "code",
      "source": [
        "class Solution {\n",
        "    public String longestPalindrome(String s) {\n",
        "    \n",
        "    int start = 0, end = 0;\n",
        "\n",
        "    for (int i = 0; i < s.length(); i++) {\n",
        "\n",
        "            int lenEven = expand(s, i, i);\n",
        "            int lenOdd = expand(s, i, i + 1);\n",
        "\n",
        "            int lenMax = Math.max(lenEven, lenOdd);\n",
        "\n",
        "            if (lenMax > end - start) {\n",
        "                start = i - (lenMax - 1) / 2;\n",
        "                end = i + lenMax / 2;\n",
        "            }\n",
        "        }\n",
        "        return s.substring(start, end + 1);\n",
        "    }\n",
        "\n",
        "    private int expand(String s, int left, int right) {\n",
        "        int L = left, R = right;\n",
        "    \n",
        "        while (L >= 0 && R < s.length() && s.charAt(L) == s.charAt(R)) {\n",
        "            L--;\n",
        "            R++; \n",
        "    }\n",
        "    return R - L - 1;\n",
        "    }\n",
        "}"
      ],
      "metadata": {
        "id": "nTyind6zpfKh"
      },
      "execution_count": null,
      "outputs": []
    },
    {
      "cell_type": "code",
      "source": [
        "Solution solution = new Solution();\n",
        "solution.longestPalindrome(\"abasljqadnn121nndsd\")"
      ],
      "metadata": {
        "colab": {
          "base_uri": "https://localhost:8080/"
        },
        "id": "ZpvYMr7hpjMG",
        "outputId": "11d93746-5012-433c-ec22-e68bbcc0cff2"
      },
      "execution_count": null,
      "outputs": [
        {
          "output_type": "execute_result",
          "data": {
            "text/plain": [
              "dnn121nnd"
            ]
          },
          "metadata": {},
          "execution_count": 12
        }
      ]
    },
    {
      "cell_type": "markdown",
      "source": [
        "### 🧑🏼‍💻 [One Edit Distance(L#161)] \n",
        ": Given two strings S and T, determine if they are both one edit distance apart.\n",
        "\n",
        "Assume X represents the one-edit character. There are three one-edit distance operations that could be applied to S.\n",
        "\n",
        "* i. Modify operation – Modify a character to X in S.\n",
        "    * S = “abcde”, T = “abXde”\n",
        "\n",
        "* ii. Insert operation – X was inserted before a character in S. \n",
        "    * S = “abcde”, T = “abcXde”\n",
        "\n",
        "* iii. Append operation – X was appended at the end of S.\n",
        "    * S = “abcde”, T = “abcdeX”"
      ],
      "metadata": {
        "id": "CBDvAxEKNd7W"
      }
    },
    {
      "cell_type": "code",
      "source": [
        "class Solution { \n",
        "    public boolean isOneEditDistance(String S, String T) { \n",
        "\n",
        "        int m = S.length(), n = T.length(); \n",
        "\n",
        "        if (m > n) { return isOneEditDistance(T, S); }\n",
        "\n",
        "        if (n - m > 1) { return false; }\n",
        "\n",
        "        int i = 0;\n",
        "        while(i < m && S.charAt(i) == T.charAt(i)) { i++; }\n",
        "\n",
        "        int permit = n - m; \n",
        "        \n",
        "        // catch append operation \n",
        "        if (i == m) { return permit > 0; }  \n",
        "\n",
        "        // catch modify operation \n",
        "        if (permit == 0) i++;   \n",
        "\n",
        "        // catch insert operation  \n",
        "        while (i < m && S.charAt(i) == T.charAt(i + permit)) { i++; }   \n",
        "\n",
        "        return i == m; \n",
        "    }\n",
        "}"
      ],
      "metadata": {
        "id": "kAj1SxKpOoS7"
      },
      "execution_count": null,
      "outputs": []
    },
    {
      "cell_type": "code",
      "source": [
        "Solution solution = new Solution();\n",
        "\n",
        "System.out.println(solution.isOneEditDistance(\"abcde\", \"abXde\"));       // modify operation \n",
        "System.out.println(solution.isOneEditDistance(\"abcde\", \"abcdeX\"));      // insert operation \n",
        "System.out.println(solution.isOneEditDistance(\"abcde\", \"abcXde\"));      // append operation \n",
        "\n",
        "System.out.println(solution.isOneEditDistance(\"abcde\", \"abcde\"));\n",
        "System.out.println(solution.isOneEditDistance(\"aaade\", \"abcde\"));"
      ],
      "metadata": {
        "colab": {
          "base_uri": "https://localhost:8080/"
        },
        "id": "X4jegt7bQnqt",
        "outputId": "68bf4523-b582-46a9-ed74-76f69a25ec0a"
      },
      "execution_count": null,
      "outputs": [
        {
          "output_type": "stream",
          "name": "stdout",
          "text": [
            "true\n",
            "true\n",
            "true\n",
            "false\n",
            "false\n"
          ]
        }
      ]
    },
    {
      "cell_type": "markdown",
      "source": [
        "## Chapter 2. Math "
      ],
      "metadata": {
        "id": "r3GrQZAdXK4I"
      }
    },
    {
      "cell_type": "markdown",
      "source": [
        "### 🧑🏼‍💻 [Reverse Integer (L#7)]\n",
        ": Given a signed 32-bit integer `x`, return `x` with *its digits reversed*. If reversing `x` causes the value to go outside the signed 32-bit integer range `[-2^31, 2^31 - 1]`, then return `0`."
      ],
      "metadata": {
        "id": "DB5J9rcgXOAK"
      }
    },
    {
      "cell_type": "code",
      "source": [
        "class Solution { \n",
        "\n",
        "    public int reverse(int x) { \n",
        "\n",
        "        int reversed = 0; \n",
        "\n",
        "        while (x != 0) { \n",
        "\n",
        "            if (Math.abs(reversed) > 214748364) { return 0; }\n",
        "\n",
        "            reversed = reversed * 10 + x % 10; \n",
        "            x /= 10; \n",
        "        }\n",
        "\n",
        "        return reversed;\n",
        "    }\n",
        "}"
      ],
      "metadata": {
        "id": "bZLSnaE2XNoP"
      },
      "execution_count": null,
      "outputs": []
    },
    {
      "cell_type": "code",
      "source": [
        "Solution solution = new Solution();\n",
        "\n",
        "System.out.println(solution.reverse(123));\n",
        "System.out.println(solution.reverse(-321));\n",
        "\n",
        "System.out.println(solution.reverse((int)Math.pow(2, 32)));"
      ],
      "metadata": {
        "colab": {
          "base_uri": "https://localhost:8080/"
        },
        "id": "EHPWP4Kqdjn1",
        "outputId": "487ac233-df8d-4295-a4dd-3b51c4f171d9"
      },
      "execution_count": null,
      "outputs": [
        {
          "output_type": "stream",
          "name": "stdout",
          "text": [
            "321\n",
            "-123\n",
            "0\n"
          ]
        }
      ]
    },
    {
      "cell_type": "markdown",
      "source": [
        "### 🧑🏼‍💻 [Plus One (L#66)]\n",
        ": Given a number represented as an array of digits, plus one to the number."
      ],
      "metadata": {
        "id": "imlSU8DCEyD_"
      }
    },
    {
      "cell_type": "code",
      "source": [
        "class Solution {\n",
        "    public int[] plusOne(int[] digits) {\n",
        "\n",
        "        for (int i = digits.length - 1; i >= 0; i--) {\n",
        "\n",
        "            if (digits[i] <= 8) { digits[i] += 1; return digits; } \n",
        "            else { digits[i] = 0;}\n",
        "        }\n",
        "\n",
        "        int[] result = new int[digits.length + 1];\n",
        "        result[0] = 1;\n",
        "\n",
        "        return result;\n",
        "        \n",
        "    }\n",
        "}"
      ],
      "metadata": {
        "id": "el1jxrYJX_kl"
      },
      "execution_count": null,
      "outputs": []
    },
    {
      "cell_type": "code",
      "source": [
        "Solution solution = new Solution();\n",
        "\n",
        "int[] output = solution.plusOne(new int[] {2,4,9,3,9});\n",
        "for (int i = 0; i < output.length; i++) { System.out.print(output[i]); }\n",
        "\n",
        "System.out.println();\n",
        "\n",
        "int[] output = solution.plusOne(new int[] {9,8,9});\n",
        "for (int i = 0; i < output.length; i++) { System.out.print(output[i]); }\n",
        "\n",
        "System.out.println();\n",
        "\n",
        "int[] output = solution.plusOne(new int[] {9,9});\n",
        "for (int i = 0; i < output.length; i++) { System.out.print(output[i]); }"
      ],
      "metadata": {
        "colab": {
          "base_uri": "https://localhost:8080/"
        },
        "id": "JuYs6rNAJxzb",
        "outputId": "e85501b7-e132-4d27-d5a0-e5282c6e237a"
      },
      "execution_count": null,
      "outputs": [
        {
          "output_type": "stream",
          "name": "stdout",
          "text": [
            "24940\n",
            "990\n",
            "100"
          ]
        }
      ]
    },
    {
      "cell_type": "markdown",
      "source": [
        "### 🧑🏼‍💻 [Palindrome Number (L#19)]\n",
        ": Determine whether an integer is a palindrome, without extra space"
      ],
      "metadata": {
        "id": "ETJFP0so2mmy"
      }
    },
    {
      "cell_type": "code",
      "source": [
        "class Solution { \n",
        "\n",
        "    public boolean isPalindrome(int x) { \n",
        "\n",
        "        if (x < 0) { return false; }\n",
        "\n",
        "        int div = 1; \n",
        "\n",
        "        while (x / div >= 10) { div *= 10; }\n",
        "\n",
        "        while (x != 0) { \n",
        "            int left = x / div; \n",
        "            int right = x % 10; \n",
        "\n",
        "            if (left != right) { return false; } \n",
        "\n",
        "            x = (x % div) / 10; \n",
        "            div /= 100; \n",
        "        }\n",
        "\n",
        "        return true; \n",
        "    }\n",
        "}"
      ],
      "metadata": {
        "id": "_8sdtSog2usx"
      },
      "execution_count": null,
      "outputs": []
    },
    {
      "cell_type": "code",
      "source": [
        "Solution solution = new Solution(); \n",
        "\n",
        "System.out.println(solution.isPalindrome(123) == false); \n",
        "System.out.println(solution.isPalindrome(12321) == true); "
      ],
      "metadata": {
        "colab": {
          "base_uri": "https://localhost:8080/"
        },
        "id": "j-eLIMtW7Qke",
        "outputId": "6fe614e7-8900-4ff8-da30-34dada950a82"
      },
      "execution_count": null,
      "outputs": [
        {
          "output_type": "stream",
          "name": "stdout",
          "text": [
            "true\n",
            "true\n"
          ]
        }
      ]
    },
    {
      "cell_type": "markdown",
      "metadata": {
        "id": "4w_pPOCY53nu"
      },
      "source": [
        "# 📔 The Java™ Tutorials - ORACLE Java Documentation "
      ]
    },
    {
      "cell_type": "markdown",
      "metadata": {
        "id": "ocuYDaL653nx"
      },
      "source": [
        "## 🧑🏼‍💻 $Generics$\n",
        "\n",
        "https://docs.oracle.com/javase/tutorial/java/generics/index.html"
      ]
    },
    {
      "cell_type": "markdown",
      "source": [
        " In any nontrivial software project, bugs are simply a fact of life. Careful planning, programming, and testing can help reduce their pervasiveness, but somehow, somewhere, they'll always find a way to creep into your code. This becomes especially apparent as new features are introduced and your code base grows in size and complexity.\n",
        "\n",
        " Fortunately, some bugs are easier to detect than others. **Compile-time bugs, for example, can be detected early on**; you can use the compiler's error messages to figure out what the problem is and fix it, right then and there. **Runtime bugs**, however, can be much more problematic; they don't always surface immediately, and when they do, it may be at a point in the program that is far removed from the actual cause of the problem. \n",
        "\n",
        " Generics add stability to your code by making more of your bugs detectable at compile time."
      ],
      "metadata": {
        "id": "juENJ5Rt6PO6"
      }
    },
    {
      "cell_type": "markdown",
      "source": [
        "### 🧑🏼‍💻 Why Use Generics?"
      ],
      "metadata": {
        "id": "yVVrERrQ6SoB"
      }
    },
    {
      "cell_type": "markdown",
      "metadata": {
        "id": "moDTs8FC53ny"
      },
      "source": [
        " In a nutshell, generics enable types (classes and interfaces) to be parameters when defining classes, interfaces and methods. Much like the more familiar formal parameters used in method declarations, type parameters provide a way for you to re-use the same code with different inputs. The difference is that the inputs to formal parameters are values, while the inputs to type parameters are types."
      ]
    },
    {
      "cell_type": "markdown",
      "source": [
        "#### 👨🏻‍💻 **Stronger type checks at compile time**\n",
        ": A Java compiler applies strong type checking to generic code and issues errors if the code violates type safety. Fixing compile-time errors is easier than fixing runtime errors, which can be difficult to find."
      ],
      "metadata": {
        "id": "yTHbywpTZcww"
      }
    },
    {
      "cell_type": "markdown",
      "source": [
        "#### 👨🏻‍💻 **Elimination of casts**\n",
        ": The following code snippet without generics requires casting:"
      ],
      "metadata": {
        "id": "5O-JbOc3Zhhj"
      }
    },
    {
      "cell_type": "code",
      "source": [
        "List list = new ArrayList();\n",
        "list.add(\"hello\");\n",
        "String s = (String) list.get(0);"
      ],
      "metadata": {
        "id": "ariSrwq_Zpmd"
      },
      "execution_count": null,
      "outputs": []
    },
    {
      "cell_type": "markdown",
      "source": [
        " When re-written to use generics, the code does not require casting: "
      ],
      "metadata": {
        "id": "utPo5I3ZZttF"
      }
    },
    {
      "cell_type": "code",
      "source": [
        "List<String> list = new ArrayList<String>();\n",
        "list.add(\"hello\");\n",
        "String s = list.get(0);   // no cast"
      ],
      "metadata": {
        "id": "3akUVx_UZu41"
      },
      "execution_count": null,
      "outputs": []
    },
    {
      "cell_type": "markdown",
      "source": [
        "#### 👨🏻‍💻 **Enabling programmers to implement generic algorithms**\n",
        ": By using generics, programmers can implement generic algorithms that work on collections of different types, can be customized, and are type safe and easier to read."
      ],
      "metadata": {
        "id": "nz3RpmkVZmsi"
      }
    },
    {
      "cell_type": "markdown",
      "source": [
        "### 🧑🏼‍💻 Generic Types \n",
        "\n",
        "**A *generic types* is a generic class or interface that is parameterized over tpyes.** "
      ],
      "metadata": {
        "id": "hi_Gv0Ys6Wcf"
      }
    },
    {
      "cell_type": "markdown",
      "metadata": {
        "id": "oUx_6c8953ny"
      },
      "source": [
        "The following `box` class will be modified to demonstrate the concept.\n",
        "\n",
        "#### A Simple Box Class \n",
        "\n",
        " Begin by examining a non-generic Box class that operates on objects of any type. It needs only to provide two methods: `set`, which adds an object to the box, and get, which retrieves it.\n",
        "\n",
        "  Since its methods accpet or return an `Object`, you are free to pass in whatever you want, provided that it is not one of the primitive types. **There is no way to verify, at compile time, how the class is used.** One of the code may place an `Integer` in the box and expect to get `Integer`s out of it, while another part of the code may mistakenly pass in a `String`, resulting in a runtime error. "
      ]
    },
    {
      "cell_type": "code",
      "source": [
        "public class Box { \n",
        "    private Object object; \n",
        "    \n",
        "    public void set(Object object) { this.object = object; } \n",
        "    public Object get() { return object; } \n",
        "}"
      ],
      "metadata": {
        "id": "jHEqBELraDr4"
      },
      "execution_count": null,
      "outputs": []
    },
    {
      "cell_type": "markdown",
      "source": [
        "#### A Generic Version of the Box Class \n",
        " \n",
        " A *generic* class is defined with the following format: \n",
        " \n",
        "     class name<T1, T2, ..., Tn> { /* ... */ }\n",
        "     \n",
        " The **type parameter section**, delimited by angle brackets, follows the class name. It specifies the *type parameters* T1, T2, ..., Tn. \n",
        " \n",
        " To update the `Box` class to use generics, you create a generic type declaration by changing the code `public class Box` to `public class Box<T>`. This introduces the type variable, `T`, that cna be used anywhere inside the class. \n",
        " \n",
        " With this change, the box class becomes as follows.  As you can see, all occurrences of `Object` are replaced by `T`. A type variable can be any `non-primitive` type you specify: **any class type, any interface type, any array type, or even another type variable.**\n",
        " \n",
        " This same technique can be applied to create generic interfaces. "
      ],
      "metadata": {
        "id": "QCUV8N81aK9J"
      }
    },
    {
      "cell_type": "code",
      "source": [
        "public class Box<T> { \n",
        "    private T t; \n",
        "\n",
        "    public void set(T t) {this.t = t; } \n",
        "    public T get() { return t; } \n",
        "}"
      ],
      "metadata": {
        "id": "PmwHxfsYaSTW"
      },
      "execution_count": null,
      "outputs": []
    },
    {
      "cell_type": "markdown",
      "source": [
        "#### Type Parameter Naming Conventions \n",
        "\n",
        " By convention, type parameter names are **single, uppercase letters.** This stands in sharp contrast to the variable naing conventions. \n",
        " \n",
        " The most commonly used type parameter names are: \n",
        " \n",
        " - E - Element (used extensively by Java Collections Framework) \n",
        " - K - Key \n",
        " - N - Number \n",
        " - T - Type \n",
        " - V - Value \n",
        " - S, U, V etc. - 2nd, 3rd, 4th types "
      ],
      "metadata": {
        "id": "a3JBzmSi6bvy"
      }
    },
    {
      "cell_type": "markdown",
      "source": [
        "#### Invoking and Instantiating a Generic Type \n",
        " To reference the generic `Box` class, you must perform a *generic type invocation*, which replaces `T` with some concrete value, such as `Integer`: \n",
        "\n",
        "    Box<Integer> integerBox; \n",
        "\n",
        "##### Type Parameter and Type Argument Terminology \n",
        " When coding, **one provides type arguments in order to create a parameterized type.** Therefore, the `T` in `Foo<T>` is a ***type parameter*** and the `String` in `Foo<String>` is a ***type argument***.\n",
        " \n",
        " To instantiate this class, use the new keyword, as usual, but place `Integer` between the class name and the parenthesis: \n",
        " \n",
        "    Box<Integer> integerBox = new Box<Integer>(); "
      ],
      "metadata": {
        "id": "wUQD_szRak_L"
      }
    },
    {
      "cell_type": "markdown",
      "source": [
        "#### The Diamond \n",
        " In Java SE 7 and later, you can replace the type arguments required to invoke the constructor of a generic class **with an empty set of type arguments(<>)** as long as the compiler can determine, or infer, the type arguments from the context. This pair of empty angle brakcets is informally called *the diamond*. \n",
        "    \n",
        "    Box<Integer> integerBox = new Box<>(); "
      ],
      "metadata": {
        "id": "EvpYv-tnaqfL"
      }
    },
    {
      "cell_type": "markdown",
      "source": [
        "#### Multiple Type Parameters \n",
        " As mentioned previously, a generic class can have multiple type parameters. "
      ],
      "metadata": {
        "id": "Np-DOiE6athO"
      }
    },
    {
      "cell_type": "code",
      "source": [
        "public interface Pair<K, V> { \n",
        "    public K getKey(); \n",
        "    public V getValue(); \n",
        "}\n",
        "\n",
        "class OrderedPair<K, V> implements Pair<K, V> { \n",
        "\n",
        "    private K key; \n",
        "    private V value; \n",
        "\n",
        "    public OrderedPair(K key, V value) {\n",
        "        this.key = key; \n",
        "        this.value = value; \n",
        "    } \n",
        "\n",
        "    public K getKey() { return key; } \n",
        "    public V getValue() { return value; } \n",
        "}\n",
        "\n",
        "OrderedPair<String, Integer> p1 = new OrderedPair<>(\"Java\", 8);\n",
        "OrderedPair<String, String> p2 = new OrderedPair<>(\"Hello\", \" World!\");"
      ],
      "metadata": {
        "id": "BDpEM72Xav6i"
      },
      "execution_count": null,
      "outputs": []
    },
    {
      "cell_type": "markdown",
      "source": [
        "#### Parameterized Types \n",
        " You can also substitute a **type parameter** with a **parameterized type**. For example: \n",
        " \n",
        "    OrderedPair<String, Box<Integer>> p = new OrderedPair(\"Primes\", new Box<Integer>(...)); "
      ],
      "metadata": {
        "id": "HP53GIBsax79"
      }
    },
    {
      "cell_type": "markdown",
      "source": [
        "#### Raw Types \n",
        "\n",
        " A *raw type* is the name of a generic class or interface without any type arguments. "
      ],
      "metadata": {
        "id": "sEXjKM7c6hTi"
      }
    },
    {
      "cell_type": "markdown",
      "metadata": {
        "id": "ZSAPzHg353nz"
      },
      "source": [
        " To create a parameterized `Box<T>`, you cana supply an actual type argument for the formal type parameter `T`: \n",
        "\n",
        "    Box<Integer> intBox = new Box<>(); \n",
        "    \n",
        " If, however, the actual type argument is omitted, you create a raw type of `Box<T>`: \n",
        " \n",
        "    Box rawBox = new Box(); \n",
        "    \n",
        " Therefore, `Box` is the raw tpye of the generic type `Box<T>`. However, a ***non-generic*** class or interfcae type is **not** a raw type. \n",
        " \n",
        " Raw types show up in legacy code because lots of API classes (such as the `Collections` classes) were not generic prior to JDK 5.0. For ***backward compatibility***, assigning a parameterized type to its raw type is allowed: \n",
        " \n",
        "    Box<String> stringBox = new Box<>(); \n",
        "    Box rawBox = stringBox;   // ok \n",
        "    \n",
        " But if you assign a raw type to a parameterized type, you get a **unchecked conversion** warning: \n",
        " \n",
        "    Box rawBox = new Box() ;\n",
        "    Box<String> stringBox = rawBox   // warning: unchecked conversion\n",
        "    \n",
        " You also get a warning if you use a raw type to invoke generic methods defined in the corresponding generic type: \n",
        " \n",
        "    Box<String> stringBox = new Box<>(); \n",
        "    Box rawBox = stringBox; \n",
        "    \n",
        "    rawBox.set(8);   // warning: unchecked invocation to set(T)"
      ]
    },
    {
      "cell_type": "markdown",
      "source": [
        "### 🧑🏼‍💻 Generic Methods \n",
        "\n",
        " ***Generic methods* are methods that introduce their own type parameters.** This is similar to declaring a generic type, but the type parameters's scope is limited to the method where it is declared. **Static and non-static methods are allowed, as well as generic class constructors.** \n",
        "\n",
        "  The syntax for a generic method includes a list of type parameters, inside angle brackets, which appears before the method's return type. The feature known as **type reference** allows you to invoke a generic method as an ordinary method, without specifiying a type."
      ],
      "metadata": {
        "id": "QVM_G5JI6mCI"
      }
    },
    {
      "cell_type": "code",
      "source": [
        "public class Util {\n",
        "    public static <K, V> boolean compare(Pair<K, V> p1, Pair<K, V> p2) { \n",
        "        return p1.getKey().equals(p2.getKey()) && p1.getValue().equals(p2.getValue()); \n",
        "    }\n",
        "} \n",
        "\n",
        "public class Pair<K, V> {\n",
        "\n",
        "    private K key;\n",
        "    private V value;\n",
        "\n",
        "    public Pair(K key, V value) {\n",
        "        this.key = key;\n",
        "        this.value = value;\n",
        "    }\n",
        "\n",
        "    public void setKey(K key) { this.key = key; }\n",
        "    public void setValue(V value) { this.value = value; }\n",
        "    public K getKey()   { return key; }\n",
        "    public V getValue() { return value; }\n",
        "}\n",
        "\n",
        "Pair<Integer, String> p1 = new Pair<>(1, \"apple\");\n",
        "Pair<Integer, String> p2 = new Pair<>(2, \"pear\");\n",
        "\n",
        "boolean same_1 = Util.<Integer, String>compare(p1, p2); \n",
        "boolean same_2 = Util.compare(p1, p2);  // type can be left out"
      ],
      "metadata": {
        "id": "SvBYeMZrbq4G"
      },
      "execution_count": null,
      "outputs": []
    },
    {
      "cell_type": "markdown",
      "source": [
        "### 🧑🏼‍💻 Bounded Type Parameters \n",
        "\n",
        " There may be times when you want to restrict the types **that can be used as type arguments in a parameterized type**. For example, a method that operates on numbers might only want to accept instances of `Number` or its subclasses. This is what bounded type parameters are for."
      ],
      "metadata": {
        "id": "P5VpvtAY6oqd"
      }
    },
    {
      "cell_type": "markdown",
      "source": [
        " To declare a bounded type parameter, list the type parameter's name, followed by the `extends` keyword, followed biy its *upper bound*, which in this example is `Number`. "
      ],
      "metadata": {
        "id": "MLxyvdZocn2i"
      }
    },
    {
      "cell_type": "code",
      "source": [
        "public class Box<T> {\n",
        "\n",
        "    private T t; \n",
        "    \n",
        "    public void set(T t) { this.t = t; }\n",
        "    public T get() { return t; } \n",
        "    \n",
        "    public <U extends Number> void inspect(U u) { \n",
        "        System.out.println(\"T: \" + t.getClass().getName());\n",
        "        System.out.println(\"U: \" + u.getClass().getName());\n",
        "    } \n",
        "}"
      ],
      "metadata": {
        "id": "xFZLlQEVcHz3"
      },
      "execution_count": null,
      "outputs": []
    },
    {
      "cell_type": "markdown",
      "source": [
        "#### Multiple Bounds \n",
        "\n",
        " A type parameter can have *multiple bounds*: \n",
        " \n",
        "     <T extends B1 & B2 & B3> "
      ],
      "metadata": {
        "id": "6eWJwaSscDkp"
      }
    },
    {
      "cell_type": "markdown",
      "source": [
        " A type variable with multiple bounds is a subtype of all the types listed in the bound. **If one of the bounds is a class, it must be specified first**. For example:\n",
        "\n",
        "    Class A { /* ... */ }\n",
        "    interface B { /* ... */ }\n",
        "    interface C { /* ... */ }\n",
        "    \n",
        "    class D <T extends A & B & C> { /* ... */ }"
      ],
      "metadata": {
        "id": "XJmgfW0xdAer"
      }
    },
    {
      "cell_type": "markdown",
      "source": [
        "#### Generic Methods and Bounded Type Parameters \n",
        "\n",
        " **Bounded type parameters are key to the implementation of generic algorithms.** "
      ],
      "metadata": {
        "id": "GR5U5N4m6sTT"
      }
    },
    {
      "cell_type": "markdown",
      "metadata": {
        "id": "8wMkqTWH53n1"
      },
      "source": [
        " Consider the following method that counts the number of elements in an array `T[]` that are greater than a specified element `elem`.\n",
        " \n",
        "     public static <T> int countGreaterThan(T[] anArray, T elem) { \n",
        "     \n",
        "         int count = 0; \n",
        "         \n",
        "         for (T e : anArray) {  \n",
        "             if (e > elem) // compiler error \n",
        "                 ++count; \n",
        "         }\n",
        "         return count; \n",
        "     } \n",
        " \n",
        "  The implementation of the method is straightforward, but it does not compile because **the greater than operator (>) applies only to primitive types** such as `short`, `int`, `double`, `long`, `float`, `byte`, and `char`. To fix the problem, use a type parameter bounded by the **`Comparable<T>`** interface: \n",
        "  \n",
        "    public static <T extends Comparable<T>> int countGreaterThan(T[] anArray, T elem) { \n",
        "        \n",
        "        int count = 0; \n",
        "        \n",
        "        for (T e : anArray) { \n",
        "            if (e.compareTo(elem) > 0) { ++count; } \n",
        "        }\n",
        "        return count; \n",
        "    }"
      ]
    },
    {
      "cell_type": "markdown",
      "source": [
        "### 🧑🏼‍💻 Generics, Inheritance, and Subtypes "
      ],
      "metadata": {
        "id": "Zf1xm3yP6ubg"
      }
    },
    {
      "cell_type": "markdown",
      "metadata": {
        "id": "fLTaYtIe53n1"
      },
      "source": [
        " It is possible to assign an object of one type to an object of another type provided that the types are compatible. For example, you can assign an `Integer` to an `Object`, since `Object` is one of `Integer`'s supertypes. \n",
        " \n",
        " In object-oriented terminology, this is called an **\"is a\" relationship**. Since an Integer is a kind of `Object`, the assignment is allowed. But `Integer` is also a kind of `Number`, so the following code is valid as well:\n",
        " \n",
        "    public void someMethod(Number n) { /* ... */ }\n",
        "\n",
        "    someMethod(new Integer(10));   // OK\n",
        "    someMethod(new Double(10.1));   // OK\n",
        " \n",
        " The same is also true with generics. You can perform a generic type invocation, passing `Number` as its type argument, and any subsequent invocation of add will be allowed if the argument is compatible with `Number`:\n",
        " \n",
        "    Box<Number> box = new Box<Number>();\n",
        "    box.add(new Integer(10));   // OK\n",
        "    box.add(new Double(10.1));  // OK\n",
        "    \n",
        "#### Generic Classes and Subtyping \n",
        " \n",
        " You can subtype a generic class or interface by extending or implementing it. The relationship between the type parameters of one class or interface and the type parameters of another are determined by the `extends` and `implements` clauses.\n",
        "\n",
        " Using the Collections classes as an example, `ArrayList<E>`implements `List<E>`, and `List<E>` extends `Collection<E>`. So `ArrayList<String>` is a subtype of `List<String>`, which is a subtype of `Collection<String>`. **So long as you *do not vary* the type argument, the subtyping relationship is preserved between the types.**"
      ]
    },
    {
      "cell_type": "markdown",
      "source": [
        "### 🧑🏼‍💻 Type Inference\n",
        "\n",
        " **Type inference is a Java compiler's ability to look at each method invocation and corresponding declaration to determine the type argument (or arguments) that make the invocation applicable.** The inference algorithm determines the types of the arguments and, if available, the type that the result is being assigned, or returned. Finally, the inference algorithm tries to find the most specific type that works with all of the arguments."
      ],
      "metadata": {
        "id": "WYncNIo-6xNs"
      }
    },
    {
      "cell_type": "markdown",
      "metadata": {
        "id": "r0f3kjQf53n1"
      },
      "source": [
        "To illustrate this last point, in the following example, inference determines that the second argument being passed to the pick method is of type `Serializable`:\n",
        "\n",
        "#### Type Inference and Generic Methods \n",
        "\n",
        " **Generic Methods introduced you to type inference**, which enables you to invoke a generic method as you would an ordinary method, without specifying a type between angle brackets. Consider the following example, `BoxDemo`, which requires the `Box` class:\n",
        "\n",
        "    static <T> T pick(T a1, T a2) { return a2; }\n",
        "    Serializable s = pick(\"d\", new ArrayList<String>());\n",
        "\n",
        "    public class BoxDemo {\n",
        "\n",
        "        public static <U> void addBox(U u, List<Box<U>> boxes) {\n",
        "            Box<U> box = new Box<>();\n",
        "            box.set(u);\n",
        "            boxes.add(box);\n",
        "        }\n",
        "\n",
        "        public static <U> void outputBoxes(java.util.List<Box<U>> boxes) {\n",
        "            int counter = 0;\n",
        "            for (Box<U> box: boxes) {\n",
        "                U boxContents = box.get();\n",
        "                System.out.println(\"Box #\" + counter + \" contains [\" + boxContents.toString() + \"]\");\n",
        "                counter++;\n",
        "            }\n",
        "        }\n",
        "        \n",
        "        public static void main(String[] args) { \n",
        "             ArrayList<Box<Integer>> listOfIntegerBoxes = new ArrayList<>(); \n",
        "             \n",
        "             BoxDemo.<Integer>addBox(Integer.valueOf(10), listOfIntegerBoxes); // type witness\n",
        "             BoxDemo.addBox(integer.valueOf(20), listOfIntegerBoxes); \n",
        "             BoxDemo.addBox(integer.valueOf(30), listOfIntegerBoxes); \n",
        "             \n",
        "             BoxDemo.outputBoxes(listOfIntegerBoxes); \n",
        "         }\n",
        "     } \n",
        "     \n",
        " The generic method `addBox` defines one type parameter named `U`. **Generally, a Java compiler can infer the type parameters of a generic method call.** Consequently, in most cases, you do not have to specify them. For example, to invoke the generic method `addBox`, you can specify the type parameter with a **type witness**. \n",
        " \n",
        "### Type Inference and Instantiation of Generic Classes \n",
        "\n",
        " You can replace the type arguments required to invoke the constructor of a generic class with an **empty set of type parameters (<>)** as long as the compiler can infer the type arguments from the context. This pair of angle brackets is informally called *the diamond*.\n",
        " \n",
        " For example, consider the following variable declaration:\n",
        "\n",
        "    Map<String, List<String>> myMap = new HashMap<String, List<String>>();\n",
        "    \n",
        " You can substitute the parameterized type of the constructor with an empty set of type parameters (<>):\n",
        "\n",
        "    Map<String, List<String>> myMap = new HashMap<>();\n",
        "    \n",
        " Note that, to take advantage of <u>**type inference during generic class instantiation, you must use the diamond.**</u>  \n",
        " \n",
        "    Map<String, List<String>> myMap = new HashMap(); // unchecked conversion warning \n",
        "    \n",
        "### Type Inference and Generic Constructors of Generic and Non-Generic Classes \n",
        "\n",
        " Note that constructors also can be generic in **both generic and non-generic classes.** \n",
        " \n",
        "    class MyClass<X> { \n",
        "        <T> MyClass(T t) { /*...*/ }\n",
        "    }\n",
        "    \n",
        "    MyClass<Integer> my_class = new MyClass<Integer>(\"\"); // OK \n",
        "    \n",
        "### Target Types \n",
        "\n",
        " The Java compiler takes advantage of target typing to infer the type parameters of a generic method invocation. The ***target type* of an expression is the data type that the Java compiler expects depending on where the expression appears.** Consider the method `Collections.emptyList`, which is declared as follows: \n",
        "     \n",
        "     static <T> List<T> emptyList(); \n",
        "     \n",
        " Consider the following assignment statement: \n",
        " \n",
        "     List<String> listOne = Collections.emptyList(); \n",
        "     \n",
        " This statement is expecting an instance of `List<String>`; **this data type is the target type**. Because the method `emptyList` returns a value of type `List<T>`, the compiler infers that the type argument `T` must be the value `String`. Alternatively, you could use a type witness and specify the value of `T` as follows: \n",
        " \n",
        "     List<String> listOne = Collections.<String>emptyList();"
      ]
    },
    {
      "cell_type": "markdown",
      "source": [
        "### 🧑🏼‍💻 Wildcards\n",
        "\n",
        " In generic code, the question mark(`?`), called the *wildcard*, represents an unknown type. The wildcard can be used in a variety of situations: as the type of a parameter, field, or local variable; sometimes as a return type. The wildcaard is <u>**never used as a type argument for a generic method invocation, a generic class instance creation, or a supertype.**</u>"
      ],
      "metadata": {
        "id": "bdrmRcwt94mY"
      }
    },
    {
      "cell_type": "markdown",
      "source": [
        "#### Upper Bounded Wildcards\n",
        "\n",
        " You can use an upper bounded wildcard to relax the restrictions on a variable. For example, say you want to write a method that works on `List<Integer>`, `List<Double>`, `List<Number>`; you can achieve this by using an upper bounded wildcard. \n",
        "\n",
        " To write the method that works on lists of `Number` and the subtypes of `Number`, such as `Integer`, `Double`, and `Float`, you would specify `List<? extends Number>`. The term `List<Number>` is more restrictive than `List<? extends Number>` because the former matches a list of type `Number` only, whereas the latter matches a list of type `Number` or any of its subclasses.\n",
        "\n",
        " Consider the following `process` method: \n",
        "\n",
        "    public static void process(List<? extends Foo> list) { /* ... */} "
      ],
      "metadata": {
        "id": "kJj7-NsR-n6P"
      }
    },
    {
      "cell_type": "code",
      "source": [
        "public static double sumOfList(List<? extends Number> list)  { \n",
        "    \n",
        "    double s = 0.0; \n",
        "\n",
        "    for (Number n: list) { s += n.doubleValue(); }\n",
        "\n",
        "    return s; \n",
        "}\n",
        "\n",
        "List<Number> nums = new ArrayList<Number>(); \n",
        "nums.add(1);\n",
        "nums.add(new Integer(2));\n",
        "\n",
        "nums.add(2.2); \n",
        "nums.add(new Double(3.3)); \n",
        "\n",
        "System.out.println(sumOfList(nums)); \n",
        "System.out.println(sumOfList(Arrays.asList(1, 2, 3)));"
      ],
      "metadata": {
        "colab": {
          "base_uri": "https://localhost:8080/"
        },
        "id": "ecnyPXLoAUOd",
        "outputId": "0d306829-b7c7-4423-daa8-90d6ce02ac59"
      },
      "execution_count": null,
      "outputs": [
        {
          "output_type": "stream",
          "name": "stdout",
          "text": [
            "8.5\n",
            "6.0\n"
          ]
        }
      ]
    },
    {
      "cell_type": "markdown",
      "source": [
        "#### Unbounded Wildcards \n",
        "\n",
        " The unbounded wildcard type is specified using the wildcard characte(`?`), for example, `List<?>`. This is called a *list of unknown type*. There are two scenarios where an unbounded wildcard is a useful approach: \n",
        "\n",
        "* If you are writing a method that can be implemented using functionality provided in the `Object` class. \n",
        "* When the code is using methods in the generic class that don't depend on the type parameter. In fact, `Class<?>` is so often used because most of the methods in `Class<T>` do not depend on `T`.  \n",
        "\n",
        "\n",
        " Consider the method below, `printList1`. The goal of `printList1` is to print a list of any type, but it fails to achieve that goal — it prints only a list of `Object` instances; it cannot print `List<Integer>`, `List<String>`, `List<Double>`, and so on, because <u>**they are not subtypes**</u> of `List<Object>`. To write a generic `printList` method, use `List<?>` as in `printList2`."
      ],
      "metadata": {
        "id": "p19OQX6hF3A9"
      }
    },
    {
      "cell_type": "code",
      "source": [
        "public static void printList1(List<Object> list) { \n",
        "    for (Object elem: list) { \n",
        "        System.out.println(elem + \" \"); \n",
        "    }\n",
        "\n",
        "    System.out.println(); \n",
        "}"
      ],
      "metadata": {
        "id": "ACDjnTDYgr6b"
      },
      "execution_count": null,
      "outputs": []
    },
    {
      "cell_type": "code",
      "source": [
        "public static void printList2(List<?> list) { \n",
        "    for (Object elem: list) { \n",
        "        System.out.println(elem + \" \"); \n",
        "    }\n",
        "\n",
        "    System.out.println(); \n",
        "} "
      ],
      "metadata": {
        "id": "kTPo7t-mg5Ac"
      },
      "execution_count": null,
      "outputs": []
    },
    {
      "cell_type": "code",
      "source": [
        "List<String> str = Arrays.asList(\"one\", \"two\");\n",
        "List<Integer> ints = Arrays.asList(3, 4);\n",
        "List<Double> dbls = Arrays.asList(5.0, 6.0); \n",
        "\n",
        "List<Object> objs = Arrays.asList(str, ints, dbls);\n",
        "\n",
        "printList1(objs); // ??  \n",
        "printList2(objs);"
      ],
      "metadata": {
        "colab": {
          "base_uri": "https://localhost:8080/"
        },
        "id": "w9LZQsvpiP3_",
        "outputId": "61ca0a7a-1538-45b7-96e2-8e81a62ae99d"
      },
      "execution_count": null,
      "outputs": [
        {
          "output_type": "stream",
          "name": "stdout",
          "text": [
            "[one, two] \n",
            "[3, 4] \n",
            "[5.0, 6.0] \n",
            "\n",
            "[one, two] \n",
            "[3, 4] \n",
            "[5.0, 6.0] \n",
            "\n"
          ]
        }
      ]
    },
    {
      "cell_type": "markdown",
      "source": [
        "#### Lower Bounded Wildcards\n",
        "\n",
        " An upper bounded wildcard restricts the unknown type to be a specific type or a <u>subtype</u> of that type and is represented using the extends keyword. In a similar way, a **lower bounded wildcard restricts the unknown type to be a specific type or a <u>super</u> type of that type.**\n",
        "\n",
        " A lower bounded wildcard is expressed using the wildcard character (`?`), following by the `super` keyword, followed by its lower bound: `<? super A>`. \n",
        "\n",
        " Say you want to write a method that puts `Integer` objects into a list. To maximize <u>**flexibility**</u>, you would like the method to work on `List<Integer>`, `List<Number>`, and `List<Object>` — anything that can hold `Integer` values.\n",
        "\n",
        " To write the method that works on lists of `Integer` <u>**and**</u> the supertypes of `Integer`, such as `Integer`, `Number`, and `Object`, you would specify `List<? super Integer>`. The term `List<Integer>` is more restrictive than `List<? super Integer>` because the former matches a list of type `Integer` only, whereas the latter matches a list of any type that is a supertype of `Integer`."
      ],
      "metadata": {
        "id": "Ter1o9jBJm-5"
      }
    },
    {
      "cell_type": "code",
      "source": [
        "public static List addNumbers(List<? super Integer> list) { \n",
        "    for (int i = 1; i <= 10; i++) {\n",
        "        list.add(i); \n",
        "    }\n",
        "\n",
        "    return list; \n",
        "}\n",
        "\n",
        "List list_ = addNumbers(new ArrayList<>());\n",
        "\n",
        "printList2(list_);"
      ],
      "metadata": {
        "colab": {
          "base_uri": "https://localhost:8080/"
        },
        "id": "oFuBnRJZK6wa",
        "outputId": "eb69ab51-4db5-4224-91bc-65ad4d7ec7ee"
      },
      "execution_count": null,
      "outputs": [
        {
          "output_type": "stream",
          "name": "stdout",
          "text": [
            "1 \n",
            "2 \n",
            "3 \n",
            "4 \n",
            "5 \n",
            "6 \n",
            "7 \n",
            "8 \n",
            "9 \n",
            "10 \n",
            "\n"
          ]
        }
      ]
    },
    {
      "cell_type": "markdown",
      "source": [
        "#### Wildcards and Subtyping \n",
        "\n",
        " Generic classes or interfaces are not related merely because there is a relationship between their types. <u>**However, you can use wildcards to create a relationship between generic classes or interfaces.**</u>\n",
        "\n",
        " Given the following two regular classes: \n",
        "\n",
        "    class A {/* ... */}\n",
        "    class B extends A {/* ... */}\n",
        "\n",
        " It would be reasonable to write the following code:\n",
        "    \n",
        "    B b = new B(); \n",
        "    A a = b; \n",
        "\n",
        " This example shows that <u>**inheritance of regular classes follows this rule of subtyping**</u>: class B is a subtype of class A if B extends A. This rule does not apply to generic types:\n",
        "\n",
        "    List<B> list_b = new ArrayList<>(); \n",
        "    List<A> list_a = list_b; // 🙅🏻 compile-time error \n",
        "\n",
        " Although Integer is a subtype of Number, `List<Integer>` is <u>**not a subtype**</u> of `List<Number>` and, in fact, these two types are <u>**not related**</u>. The common parent of `List<Number>` and `List<Integer>` is `List<?>`.\n",
        "\n",
        "\n",
        " In order to create a relationship between these classes so that the code can access Number's methods through List<Integer>'s elements, use an upper bounded wildcard:\n",
        "\n",
        "    List<? extends Integer> integer_list = new ArrayList<>(); \n",
        "    List<? extends Number> number_list = integer_list; // 🙆🏻 OK \n",
        "\n",
        " "
      ],
      "metadata": {
        "id": "mbWMSuYQAg2j"
      }
    },
    {
      "cell_type": "markdown",
      "source": [
        "#### Wildcard Capture and Helper Methods \n",
        "\n",
        " In some cases, the compiler <u>**infers the type of a wildcard**</u>. For example, a list may be defined as List<?> but, when evaluating an expression, the compiler infers a particular type from the code. This scenario is known as <u>**wildcard capture**</u>.\n",
        "\n",
        " The `WildcardError` example produces a capture error when compiled. \n",
        "\n",
        " In the `WildcardError` example, the compiler processes the `i` input parameter as being of type `Object`. When the `foo` method invokes `List.set(int, E) `, the compiler is <u>not able to confirm the type of object that is being inserted into the list</u>, and an error is produced. When this type of error occurs it typically means that <u>**the compiler believes that you are assigning the wrong type to a variable**</u>. Generics were added to the Java language for this reason - to enforce type saftey at compile time. \n",
        "\n",
        " You can fix it by writing a <u>*private helper method*</u> which captures the wildcard. \n",
        "\n",
        " By conveintion, helper methods are generally named \n",
        " \n",
        "    originalMethodNameHelper\n"
      ],
      "metadata": {
        "id": "qAcRk00PF1Hu"
      }
    },
    {
      "cell_type": "code",
      "source": [
        "public class WildcardError {\n",
        "\n",
        "    void foo(List<?> i) { \n",
        "        // i.set(0, i.get(0)); \n",
        "        // 🙅🏻 incompatible types\n",
        "    }\n",
        "}"
      ],
      "metadata": {
        "id": "34ncX_2IiXWs"
      },
      "execution_count": null,
      "outputs": []
    },
    {
      "cell_type": "code",
      "source": [
        "public class WildcardFixed { \n",
        "\n",
        "    void foo(List<?> i) { \n",
        "        fooHelper(i); \n",
        "    }\n",
        "\n",
        "    private <T> void fooHelper(List<T> j) { \n",
        "        j.set(0, j.get(0)); \n",
        "    }\n",
        "}\n",
        "\n",
        "// 🙆🏻 OK "
      ],
      "metadata": {
        "id": "XdrfJg9Cm2wp"
      },
      "execution_count": null,
      "outputs": []
    },
    {
      "cell_type": "markdown",
      "source": [
        "#### Guidelines for Wildcard Use\n",
        "\n",
        " - **An \"In\" Variable**: \n",
        " \n",
        ": An \"In\"  variable serves up data to the code. Imagine a copy method with two arguments: `copy(src, deset)`. The `src` argument provides the data to be copied, so it is the \"In\" parameter. \n",
        "\n",
        " - **An \"Out\" Variable**: \n",
        "\n",
        ": An \"Out\" variable holds data for use elsewhere. In the `copy` example, the `dest` argument accepts data, so it is the \"Out\" parameter. \n",
        "\n",
        "- **Wildcard Guidelines**: \n",
        "\n",
        ": An <u>**\"in\" variable**</u> is defined with <u>**an upper bounded wildcard, using the extends keyword.**</u>\n",
        "An <u>**\"out\" variable**</u> is defined with <u>**a lower bounded wildcard, using the super keyword.**</u> \n",
        "In the case where the \"in\" variable can be accessed using methods defined in the Object class, use an unbounded wildcard.\n",
        "In the case where the code needs to access the variable as <u>**both an \"in\" and an \"out\" variable, do not use a wildcard.**</u>\n",
        "\n",
        " These guidelines do not apply to a method's return type. <u>Using a wildcard as a return type should be avoided</u> because it forces programmers using the code to deal with wildcards. \n",
        "\n",
        " <u>A list defined by `List<? extends ...>` can be informally thought of as **read-only**</u>, but that is not a strict guarantee. Suppose you have the following two classes:"
      ],
      "metadata": {
        "id": "O6wNIM2po96x"
      }
    },
    {
      "cell_type": "code",
      "source": [
        "class NaturalNumber { \n",
        "\n",
        "    private int i; \n",
        "\n",
        "    public NaturalNumber(int i) { this.i = i; } \n",
        "}\n",
        "\n",
        "class EvenNumber extends NaturalNumber { \n",
        "\n",
        "    public EvenNumber(int i) { super(i) ;}\n",
        "}\n",
        "\n",
        "List<EvenNumber> list_even = new ArrayList<>(); \n",
        "\n",
        "// list_ntrl.add(new NaturalNumber(35)); \n",
        "// 🙅🏻 compile-time error, since the method `add` puts a value into the list, which \"In\" variable cannot do."
      ],
      "metadata": {
        "id": "_J-d65FFlOsD"
      },
      "execution_count": null,
      "outputs": []
    },
    {
      "cell_type": "code",
      "source": [
        "public double sum(Collection<? extends Number> nums) { \n",
        "    double s = 0.0;\n",
        "\n",
        "    for (Number num : nums) { s+= num.doubleValue(); }  \n",
        "\n",
        "    return s;\n",
        "}"
      ],
      "metadata": {
        "id": "pdbnNHa3Vnjf"
      },
      "execution_count": null,
      "outputs": []
    },
    {
      "cell_type": "code",
      "source": [
        "List<Integer> ints = new ArrayList<Integer>(); \n",
        "ints.add(1); \n",
        "ints.add(2); \n",
        "\n",
        "List<? extends Number> nums = ints; \n",
        "\n",
        "double result = sum(nums);  // 🙆🏻 OK \n",
        "\n",
        "// nums.add(3);    \n",
        "// 🙅🏻 compile-time error, since the method `add` puts a value into the list, which \"In\" variable cannot do."
      ],
      "metadata": {
        "id": "6q3M2su9SZMT"
      },
      "execution_count": null,
      "outputs": []
    },
    {
      "cell_type": "code",
      "source": [
        "List<Object> objs = new ArrayList<Object>();\n",
        "objs.add(1); \n",
        "objs.add(\"two\"); \n",
        "\n",
        "List<? super Integer> ints = objs; \n",
        "\n",
        "ints.add(3); // // 🙆🏻 OK \n",
        "\n",
        "// double result = sum(ints); \n",
        "// 🙅🏻 compile-time error, since the method `sum` gets a value out of the list, which \"Out\" variable cannot do."
      ],
      "metadata": {
        "colab": {
          "base_uri": "https://localhost:8080/"
        },
        "id": "n7MnGw2TU1HF",
        "outputId": "2c0337fc-4229-4782-8e96-a30deb0597f2"
      },
      "execution_count": null,
      "outputs": [
        {
          "output_type": "execute_result",
          "data": {
            "text/plain": [
              "true"
            ]
          },
          "metadata": {},
          "execution_count": 140
        }
      ]
    },
    {
      "cell_type": "markdown",
      "source": [
        "### 🧑🏼‍💻 Type Erasure \n",
        "\n",
        " Generics were introduced to the Java language to provide tighter type checks at compile time and to support generic programming. To implement generics, the Java compiler appiles type erasure to: \n",
        "\n",
        "- <u>**Replace all type parameters in generic types with their bounds or `Object` if the type parameters are unbounded**</u>. The produced bytecode contains only ordinary classes, interfaces, and methods. \n",
        "- Insert type casts if necessary to preserve type safety. \n",
        "- Generate <u>bridge methods to preserve polymorphism in extended generic type</u>. "
      ],
      "metadata": {
        "id": "UQfiKWMoWXBu"
      }
    },
    {
      "cell_type": "markdown",
      "source": [
        "#### Erasure of Generic Types \n",
        "\n",
        " During the type erasure process, the Java compiler erases all type parameters and replaces each with its first bound if the type parameter is bounded, or `Object` if the type parameter is not bounded. Consider the first following generic class that represents a node in a singly linked list. Because the type parameter `T` is unbounded, the Java compiler replaces it with `Object`. \n",
        "\n",
        "  In the second example, the generic `Node` class uses a bounded type parameter. The Java compiler replaces the bounded type parameter `T` with the first bound class, `Comparable`. "
      ],
      "metadata": {
        "id": "AzludZCwYo8c"
      }
    },
    {
      "cell_type": "code",
      "source": [
        "public class Node<T> { \n",
        "\n",
        "    private T val; \n",
        "    private Node<T> next; \n",
        "\n",
        "    public Node(T val, Node<T> next) { \n",
        "        this.val = val; \n",
        "        this.next = next; \n",
        "    }\n",
        "\n",
        "    public T getValue() { return val; }\n",
        "}\n",
        "\n",
        "Node<Integer> node = new Node(Integer.valueOf(1), null);\n",
        "node.getValue();"
      ],
      "metadata": {
        "id": "1I2ZZEsCZAzj",
        "colab": {
          "base_uri": "https://localhost:8080/"
        },
        "outputId": "38ff1474-0d3f-4865-aad0-75d90400beb3"
      },
      "execution_count": null,
      "outputs": [
        {
          "output_type": "execute_result",
          "data": {
            "text/plain": [
              "1"
            ]
          },
          "metadata": {},
          "execution_count": 141
        }
      ]
    },
    {
      "cell_type": "code",
      "source": [
        "public class Node<T extends Comparable<T>> { \n",
        "    \n",
        "    private T val; \n",
        "    private Node<T> next; \n",
        "\n",
        "    public Node(T val, Node<T> next) { \n",
        "        this.val = val; \n",
        "        this.next = next; \n",
        "    }\n",
        "\n",
        "    public T getValue() { return val; }\n",
        "}"
      ],
      "metadata": {
        "id": "qZD3M2x5fn0i"
      },
      "execution_count": null,
      "outputs": []
    },
    {
      "cell_type": "markdown",
      "source": [
        "#### Erasure of Generic Methods \n",
        "\n",
        " The Java compiler also erases type parameters in generic method arguments. Consider the first following method. Because `T` is unbounded, the Java compiler replaces with `Object`. \n"
      ],
      "metadata": {
        "id": "aug-FRRcl9d7"
      }
    },
    {
      "cell_type": "code",
      "source": [
        "public static <T> int count(T[] anArray, T elem) { \n",
        "    int freq = 0; \n",
        "\n",
        "    for (T e : anArray) { \n",
        "        if (e.equals(elem)) { ++freq; } \n",
        "    }\n",
        "\n",
        "    return freq; \n",
        "} "
      ],
      "metadata": {
        "id": "mzw6Yh4CmNJ6"
      },
      "execution_count": null,
      "outputs": []
    },
    {
      "cell_type": "code",
      "source": [
        "public static int count(Object[] anArray, Object elem) {\n",
        "    int cnt = 0;\n",
        "    for (Object e : anArray)\n",
        "        if (e.equals(elem))\n",
        "            ++cnt;\n",
        "        return cnt;\n",
        "}"
      ],
      "metadata": {
        "id": "rvPJAkg5nKKV"
      },
      "execution_count": null,
      "outputs": []
    },
    {
      "cell_type": "markdown",
      "source": [
        "#### Effects of Type Erasure and Bridge Methods \n",
        "\n",
        " Somtimes type erasure causes a situation that you may not have anticipated. The following example shows how this can occur. \n",
        "\n",
        " The following example shows how a compiler sometimes creates a synthetic method, which is called a <u>*bridge method*</u>, as part of the type erasure process. "
      ],
      "metadata": {
        "id": "ooQ43a2snL_s"
      }
    },
    {
      "cell_type": "markdown",
      "source": [
        "Given two follwoing classes. \n",
        "\n",
        "After type erasure, the method signatures do not match. \n",
        "\n",
        "The `Node.setData(T)` method becomes `Node.setData(Object)`. As a result, the `MyNode.setData(Integer)` method does not override the `Node.setData(Object)` method.\n",
        "\n",
        "For the `MyNode` class, the compiler generates the following <u>*bridge method*</u> for `setData`. "
      ],
      "metadata": {
        "id": "nHiTEvn9lvUg"
      }
    },
    {
      "cell_type": "code",
      "source": [
        "public class Node<T> {\n",
        "\n",
        "    public T data; \n",
        "\n",
        "    public Node(T data) { this.data = data; }\n",
        "\n",
        "    public void setData(T data) { \n",
        "        System.out.println(\"Node.setData\"); \n",
        "        this.data = data;  \n",
        "    }\n",
        "}\n",
        "\n",
        "public class MyNode extends Node<Integer> { \n",
        "\n",
        "    public MyNode(Integer data) { super(data); }\n",
        "\n",
        "//  Bridge method generated by the compiler\n",
        "//  public void setData(Object data) { \n",
        "//      setData((Integer) data); \n",
        "//  }\n",
        "\n",
        "    public void setData(Integer data) { \n",
        "        System.out.println(\"MyNode.setData\"); \n",
        "        super.setData(data); \n",
        "    }\n",
        "}"
      ],
      "metadata": {
        "id": "jeORMrkClylI"
      },
      "execution_count": null,
      "outputs": []
    },
    {
      "cell_type": "code",
      "source": [
        "MyNode my_node = new MyNode(5); \n",
        "Node node = my_node; \n",
        "\n",
        "Integer x = my_node.data; "
      ],
      "metadata": {
        "id": "XWwcj0MrmhAs"
      },
      "execution_count": null,
      "outputs": []
    },
    {
      "cell_type": "markdown",
      "source": [
        "#### Non-Reifiable Types \n",
        "\n",
        ": A <u>**reifiable** is a type whose type information is fully available at runtime</u>. This includes primitives, non-generic types, raw types and invocations of unbound wildcards. \n",
        "\n",
        "<u>**Non-reifiable** types are types where information has been removed at compile-time by type erasure</u> - invocations of "
      ],
      "metadata": {
        "id": "yhCt3tR6rTEO"
      }
    },
    {
      "cell_type": "markdown",
      "source": [
        "# $Interfaces and Inheritance$\n",
        "\n",
        "https://docs.oracle.com/javase/tutorial/java/IandI/index.html"
      ],
      "metadata": {
        "id": "Wg05W7n3TWi1"
      }
    },
    {
      "cell_type": "markdown",
      "source": [
        "# $Annotations$ \n",
        "\n",
        "https://docs.oracle.com/javase/tutorial/java/generics/index.html"
      ],
      "metadata": {
        "id": "IgR9B2MeS90J"
      }
    },
    {
      "cell_type": "markdown",
      "source": [
        "# 🛠 Functional Programming "
      ],
      "metadata": {
        "id": "wLQgtpKdMQZ4"
      }
    },
    {
      "cell_type": "markdown",
      "source": [
        "## *.filter()*"
      ],
      "metadata": {
        "id": "Lw0cfQcnUJt5"
      }
    },
    {
      "cell_type": "code",
      "source": [
        "enum Gender { MALE, FEMALE }\n",
        "\n",
        "class Person { \n",
        "    public final String name; \n",
        "    public final Gender gender; \n",
        "\n",
        "    Person(String name, Gender gender) { \n",
        "        this.name = name; \n",
        "        this.gender = gender; \n",
        "    }\n",
        "\n",
        "    @Override\n",
        "    public String toString() {  \n",
        "        return \"Person{\" + \"name='\" + name + '\\'' + \", gender=\" + gender + '}'; \n",
        "    }\n",
        "}\n",
        "\n",
        "List<Person> people = List.of(\n",
        "    new Person(\"John\", Gender.MALE), \n",
        "    new Person(\"MARIA\", Gender.FEMALE), \n",
        "    new Person(\"Asha\", Gender.MALE),\n",
        "    new Person(\"Alice\", Gender.FEMALE) \n",
        ");"
      ],
      "metadata": {
        "id": "1Oo7p7BvNK_x"
      },
      "execution_count": 164,
      "outputs": []
    },
    {
      "cell_type": "code",
      "source": [
        "people.stream()\n",
        "        .filter(person -> person.gender.equals(Gender.FEMALE))\n",
        "        .collect(Collectors.toList())\n",
        "        .forEach(System.out::println); "
      ],
      "metadata": {
        "colab": {
          "base_uri": "https://localhost:8080/"
        },
        "id": "JDsePVnpSkws",
        "outputId": "ab513a13-14a8-4895-c63a-ce47a8370eed"
      },
      "execution_count": 166,
      "outputs": [
        {
          "output_type": "stream",
          "name": "stdout",
          "text": [
            "Person{name='MARIA', gender=FEMALE}\n",
            "Person{name='Alice', gender=FEMALE}\n"
          ]
        }
      ]
    },
    {
      "cell_type": "markdown",
      "source": [
        "## *Function<T, R>*\n",
        "\n",
        ": Represents a function that accepts one argument and produces a result."
      ],
      "metadata": {
        "id": "eDDxenDfUSds"
      }
    },
    {
      "cell_type": "code",
      "source": [
        "import java.util.function.Function;"
      ],
      "metadata": {
        "id": "TaeuxEAjVFZl"
      },
      "execution_count": 216,
      "outputs": []
    },
    {
      "cell_type": "markdown",
      "source": [
        "### *.apply()*"
      ],
      "metadata": {
        "id": "unHTcRUNWIFA"
      }
    },
    {
      "cell_type": "code",
      "source": [
        "Function<Integer, Integer> func_1 = number -> number + 1; \n",
        "\n",
        "Integer result = func_1.apply(1); \n",
        "\n",
        "result;"
      ],
      "metadata": {
        "colab": {
          "base_uri": "https://localhost:8080/"
        },
        "id": "kW0e1a4lUY5F",
        "outputId": "5385643e-6c43-4f3a-c84d-5f56f2d312fc"
      },
      "execution_count": 218,
      "outputs": [
        {
          "output_type": "execute_result",
          "data": {
            "text/plain": [
              "2"
            ]
          },
          "metadata": {},
          "execution_count": 218
        }
      ]
    },
    {
      "cell_type": "markdown",
      "source": [
        "### *.andThen()*"
      ],
      "metadata": {
        "id": "WyDKYuyqWLoQ"
      }
    },
    {
      "cell_type": "code",
      "source": [
        "Function<Integer, Integer> func_2 = number -> number * 10; \n",
        "\n",
        "Function<Integer, Integer> func_1_andThen_func_2 = func_1.andThen(func_2); \n",
        "\n",
        "func_1_andThen_func_2.apply(1); "
      ],
      "metadata": {
        "colab": {
          "base_uri": "https://localhost:8080/"
        },
        "id": "lsM-0baEWOLn",
        "outputId": "fc831a69-408e-4f69-88f2-51a052fd8e25"
      },
      "execution_count": 221,
      "outputs": [
        {
          "output_type": "execute_result",
          "data": {
            "text/plain": [
              "20"
            ]
          },
          "metadata": {},
          "execution_count": 221
        }
      ]
    },
    {
      "cell_type": "markdown",
      "source": [
        "## *BiFunction<T, R>*\n",
        "\n",
        ": Represents a function that accepts two arguments and produces a result. This is the two-arity specialization of Function."
      ],
      "metadata": {
        "id": "DqNZI51ZXKdT"
      }
    },
    {
      "cell_type": "code",
      "source": [
        "import java.util.function.BiFunction; "
      ],
      "metadata": {
        "id": "pX0kbK8la1dB"
      },
      "execution_count": 275,
      "outputs": []
    },
    {
      "cell_type": "code",
      "source": [
        "BiFunction<Integer, Integer, Integer> func_bi = (num1, num2) -> (num1 + 1) * (num2); \n",
        "\n",
        "func_bi.apply(4, 100);"
      ],
      "metadata": {
        "colab": {
          "base_uri": "https://localhost:8080/"
        },
        "id": "UZRM3cLVXSN9",
        "outputId": "0499dfa1-6d10-4c61-c407-40656862228b"
      },
      "execution_count": 276,
      "outputs": [
        {
          "output_type": "execute_result",
          "data": {
            "text/plain": [
              "500"
            ]
          },
          "metadata": {},
          "execution_count": 276
        }
      ]
    },
    {
      "cell_type": "markdown",
      "source": [
        "## Consumer \n",
        "\n",
        ": Represents an operation that accepts a single input argument and returns no result. Unlike most other functional interfaces, Consumer is expected to operate via side-effects."
      ],
      "metadata": {
        "id": "G8JRny_gaVmf"
      }
    },
    {
      "cell_type": "code",
      "source": [
        "import java.util.function.Consumer;"
      ],
      "metadata": {
        "id": "t48en4PyafGU"
      },
      "execution_count": 282,
      "outputs": []
    },
    {
      "cell_type": "code",
      "source": [
        "public class Student { \n",
        "    public final String name; \n",
        "    public final String number; \n",
        "\n",
        "    Student(String name, String number) { \n",
        "        this.name = name; \n",
        "        this.number = number; \n",
        "    }\n",
        "}\n",
        "\n",
        "Student maria = new Student(\"Maria\", \"1234\"); \n",
        "\n",
        "Consumer<Student> greetingStudent = student -> \n",
        "    System.out.println(\"Hello \" + student.name + \", your number is \" + student.number + \".\"); \n",
        "\n",
        "greetingStudent.accept(maria); "
      ],
      "metadata": {
        "colab": {
          "base_uri": "https://localhost:8080/"
        },
        "id": "k9Py58p6a5o0",
        "outputId": "9ed19cf6-0c27-4f0c-da8f-9d418983872d"
      },
      "execution_count": 320,
      "outputs": [
        {
          "output_type": "stream",
          "name": "stdout",
          "text": [
            "Hello Maria, your number is 1234.\n"
          ]
        }
      ]
    },
    {
      "cell_type": "markdown",
      "source": [
        "## BiConsumer \n",
        "\n",
        ": Represents an operation that accepts two input arguments and returns no result. This is the two-arity specialization of Consumer. Unlike most other functional interfaces, BiConsumer is expected to operate via side-effects."
      ],
      "metadata": {
        "id": "18_HbiabcjsN"
      }
    },
    {
      "cell_type": "code",
      "source": [
        "import java.util.function.BiConsumer"
      ],
      "metadata": {
        "id": "GJN4ue1FdXLt"
      },
      "execution_count": 331,
      "outputs": []
    },
    {
      "cell_type": "code",
      "source": [
        "public class FavSubject { \n",
        "    public final String subject; \n",
        "\n",
        "    FavSubject(String subject) { this.subject = subject; }\n",
        "}\n",
        "\n",
        "FavSubject favSubject = new FavSubject(\"Linear Algebra\"); \n",
        "\n",
        "BiConsumer<Student, FavSubject> stateFavSubject = (student, favSubject) -> \n",
        "    System.out.println(student.name + \"'s favorite subject is \" + favSubject.subject + \".\");  \n",
        "\n",
        "stateFavSubject.accept(maria, favSubject);"
      ],
      "metadata": {
        "colab": {
          "base_uri": "https://localhost:8080/"
        },
        "id": "1h9RbCfOcjVz",
        "outputId": "defc3d21-9079-444f-cab7-bd923f6c3b37"
      },
      "execution_count": 340,
      "outputs": [
        {
          "output_type": "stream",
          "name": "stdout",
          "text": [
            "Maria's favorite subject is Linear Algebra.\n"
          ]
        }
      ]
    },
    {
      "cell_type": "markdown",
      "source": [
        "## Java Functional Programming | Full Course (2020. 2. 4.) - Amigoscode\n",
        "https://youtu.be/VRpHdSFWGPs"
      ],
      "metadata": {
        "id": "Ht4K4RCpMnUw"
      }
    },
    {
      "cell_type": "markdown",
      "source": [
        "# ⚙️ Type Conversion / Comparability "
      ],
      "metadata": {
        "id": "XRXm9PY2YGNq"
      }
    },
    {
      "cell_type": "markdown",
      "source": [
        "### Primitive array ↔︎ Interface List  "
      ],
      "metadata": {
        "id": "cFi7nQM0ZWQ1"
      }
    },
    {
      "cell_type": "markdown",
      "source": [
        "primitive to List  "
      ],
      "metadata": {
        "id": "3ukO2BFdbvnT"
      }
    },
    {
      "cell_type": "code",
      "source": [
        "int[] primitive = new int[] {1, 2, 3, 4}; \n",
        "\n",
        "List<Integer> digits = Arrays\n",
        "                            .stream(primitive)\n",
        "                            .boxed()\n",
        "                            .collect(Collectors.toList()); \n",
        "\n",
        "digits.forEach(num -> System.out.print(num));"
      ],
      "metadata": {
        "colab": {
          "base_uri": "https://localhost:8080/"
        },
        "id": "Iiwc_AjNYML1",
        "outputId": "479ad073-9094-4827-e9d9-e94d51db9f98"
      },
      "execution_count": 106,
      "outputs": [
        {
          "output_type": "stream",
          "name": "stdout",
          "text": [
            "1234"
          ]
        }
      ]
    },
    {
      "cell_type": "markdown",
      "source": [
        "List to primitive "
      ],
      "metadata": {
        "id": "W_-p_wDYbyGA"
      }
    },
    {
      "cell_type": "code",
      "source": [
        "int[] nums = digits.stream()\n",
        "                    .mapToInt(i -> i)\n",
        "                    .toArray(); \n",
        "\n",
        "for (int i = 0; i < nums.length; i++) { \n",
        "    System.out.print(nums[i]); \n",
        "}"
      ],
      "metadata": {
        "id": "0DluqkNRbzjC",
        "outputId": "a66e0069-4ccc-46a2-be5b-88733d80fd2d",
        "colab": {
          "base_uri": "https://localhost:8080/"
        }
      },
      "execution_count": null,
      "outputs": [
        {
          "output_type": "stream",
          "name": "stdout",
          "text": [
            "1234"
          ]
        }
      ]
    }
  ],
  "metadata": {
    "celltoolbar": "Raw Cell Format",
    "kernelspec": {
      "display_name": "Java",
      "language": "java",
      "name": "java"
    },
    "language_info": {
      "codemirror_mode": "text/x-java",
      "file_extension": ".java",
      "mimetype": "",
      "name": "Java",
      "nbconverter_exporter": "",
      "version": "1.8.0_152-release"
    },
    "toc": {
      "base_numbering": 1,
      "nav_menu": {},
      "number_sections": false,
      "sideBar": false,
      "skip_h1_title": false,
      "title_cell": "Table of Contents",
      "title_sidebar": "Contents",
      "toc_cell": false,
      "toc_position": {
        "height": "195.347px",
        "left": "704.866px",
        "top": "162.094px",
        "width": "265.469px"
      },
      "toc_section_display": false,
      "toc_window_display": false
    },
    "colab": {
      "provenance": [],
      "collapsed_sections": [
        "z1BwUoYYoCmq",
        "ZEwiPkm-oR3E",
        "8Q9C_cy8oXo3",
        "rv3veGYWobjN",
        "dsli4mxjokE8",
        "-7FJSMKaon1v",
        "uLlZnGXyotym",
        "wr7nW92EoyKH",
        "FwNEoKYso1rk",
        "h4n09i56o6hq",
        "AFWQIxn0pB9_",
        "EMxYhP52pFO-",
        "ZpvPezeUpR60",
        "-StOGOKspc19",
        "CBDvAxEKNd7W",
        "r3GrQZAdXK4I",
        "4w_pPOCY53nu",
        "ocuYDaL653nx",
        "yVVrERrQ6SoB",
        "yTHbywpTZcww",
        "5O-JbOc3Zhhj",
        "nz3RpmkVZmsi",
        "hi_Gv0Ys6Wcf",
        "oUx_6c8953ny",
        "QCUV8N81aK9J",
        "a3JBzmSi6bvy",
        "wUQD_szRak_L",
        "EvpYv-tnaqfL",
        "Np-DOiE6athO",
        "HP53GIBsax79",
        "sEXjKM7c6hTi",
        "QVM_G5JI6mCI",
        "P5VpvtAY6oqd",
        "6eWJwaSscDkp",
        "GR5U5N4m6sTT",
        "Zf1xm3yP6ubg",
        "fLTaYtIe53n1",
        "WYncNIo-6xNs",
        "r0f3kjQf53n1",
        "bdrmRcwt94mY",
        "kJj7-NsR-n6P",
        "p19OQX6hF3A9",
        "Ter1o9jBJm-5",
        "mbWMSuYQAg2j",
        "qAcRk00PF1Hu",
        "O6wNIM2po96x",
        "UQfiKWMoWXBu",
        "AzludZCwYo8c",
        "aug-FRRcl9d7",
        "ooQ43a2snL_s"
      ],
      "include_colab_link": true
    }
  },
  "nbformat": 4,
  "nbformat_minor": 0
}